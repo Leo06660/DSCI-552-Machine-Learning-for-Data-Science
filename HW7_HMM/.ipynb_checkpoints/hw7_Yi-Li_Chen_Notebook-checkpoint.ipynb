{
 "cells": [
  {
   "cell_type": "code",
   "execution_count": 1,
   "metadata": {},
   "outputs": [],
   "source": [
    "import numpy as np"
   ]
  },
  {
   "cell_type": "code",
   "execution_count": 69,
   "metadata": {},
   "outputs": [],
   "source": [
    "class HMM:\n",
    "    def __init__(self, ann, bnm, pi, O):\n",
    "        self.A = np.array(ann, np.float)\n",
    "        self.B = np.array(bnm, np.float)\n",
    "        self.Pi = np.array(pi, np.float)\n",
    "        self.O = np.array(O, np.float)\n",
    "        self.N = self.A.shape[0]\n",
    "        self.M = self.B.shape[1]\n",
    "    \n",
    "    def viterbi(self):\n",
    "        T = len(self.O)\n",
    "        I = np.zeros(T, np.float)\n",
    "\n",
    "        delta = np.zeros((T, self.N), np.float)  \n",
    "        psi = np.zeros((T, self.N), np.float)\n",
    "\n",
    "        for i in range(self.N):\n",
    "            delta[0, i] = self.Pi[i] * self.B[i, int(self.O[0])]\n",
    "            psi[0, i] = 0\n",
    "\n",
    "        for t in range(1, T):\n",
    "            for i in range(self.N):\n",
    "#                 print(psi)\n",
    "                delta[t, i] = self.B[i, int(self.O[t])] * np.array([delta[t-1,j] * self.A[j,i]\n",
    "                    for j in range(self.N)] ).max() \n",
    "                psi[t,i] = np.array( [delta[t-1,j] * self.A[j,i] \n",
    "                    for j in range(self.N)] ).argmax()\n",
    "\n",
    "        P_T = delta[T-1, :].max()\n",
    "        I[T-1] = delta[T-1, :].argmax()\n",
    "#         print(P_T)\n",
    "        for t in range(T-2, -1, -1):\n",
    "#             print(I[t+1])\n",
    "            I[t] = psi[t+1, int(I[t+1])]\n",
    "#             print(I[t])\n",
    "        return I, P_T"
   ]
  },
  {
   "cell_type": "code",
   "execution_count": 70,
   "metadata": {},
   "outputs": [
    {
     "data": {
      "text/plain": [
       "(array([7., 6., 5., 6., 5., 4., 5., 6., 7., 8.]), 3.3076343375840383e-09)"
      ]
     },
     "execution_count": 70,
     "metadata": {},
     "output_type": "execute_result"
    }
   ],
   "source": [
    "hmm_res = HMM(A,B,pi,O)\n",
    "hmm_res.viterbi()"
   ]
  },
  {
   "cell_type": "code",
   "execution_count": null,
   "metadata": {},
   "outputs": [],
   "source": []
  },
  {
   "cell_type": "code",
   "execution_count": null,
   "metadata": {},
   "outputs": [],
   "source": []
  },
  {
   "cell_type": "code",
   "execution_count": 18,
   "metadata": {},
   "outputs": [],
   "source": [
    "O = [8, 6, 4, 6, 5, 4, 5, 5, 7, 9]\n",
    "A = [[   0,   1,   0,   0,   0,   0,   0,   0,   0,   0],\n",
    "     [ 1/2,   0, 1/2,   0,   0,   0,   0,   0,   0,   0],\n",
    "     [   0, 1/2,   0, 1/2,   0,   0,   0,   0,   0,   0],\n",
    "     [   0,   0, 1/2,   0, 1/2,   0,   0,   0,   0,   0],\n",
    "     [   0,   0,   0, 1/2,   0, 1/2,   0,   0,   0,   0],\n",
    "     [   0,   0,   0,   0, 1/2,   0, 1/2,   0,   0,   0],\n",
    "     [   0,   0,   0,   0,   0, 1/2,   0, 1/2,   0,   0],\n",
    "     [   0,   0,   0,   0,   0,   0, 1/2,   0, 1/2,   0],\n",
    "     [   0,   0,   0,   0,   0,   0,   0, 1/2,   0, 1/2],\n",
    "     [   0,   0,   0,   0,   0,   0,   0,   0,   1,   0]]\n",
    "B = [[ 1/2, 1/2,   0,   0,   0,   0,   0,   0,   0,   0],\n",
    "     [ 1/3, 1/3, 1/3,   0,   0,   0,   0,   0,   0,   0],\n",
    "     [   0, 1/3, 1/3, 1/3,   0,   0,   0,   0,   0,   0],\n",
    "     [   0,   0, 1/3, 1/3, 1/3,   0,   0,   0,   0,   0],\n",
    "     [   0,   0,   0, 1/3, 1/3, 1/3,   0,   0,   0,   0],\n",
    "     [   0,   0,   0,   0, 1/3, 1/3, 1/3,   0,   0,   0],\n",
    "     [   0,   0,   0,   0,   0, 1/3, 1/3, 1/3,   0,   0],\n",
    "     [   0,   0,   0,   0,   0,   0, 1/3, 1/3, 1/3,   0],\n",
    "     [   0,   0,   0,   0,   0,   0,   0, 1/3, 1/3, 1/3],\n",
    "     [   0,   0,   0,   0,   0,   0,   0,   0, 1/2, 1/2]]\n",
    "pi = [1/10, 1/10, 1/10, 1/10, 1/10, 1/10, 1/10, 1/10, 1/10, 1/10]\n",
    "\n",
    "\n",
    "# O = np.array(O, np.float)\n",
    "# A = np.array(A, np.float)\n",
    "# B = np.array(B, np.float)\n",
    "# Pi = np.array(pi, np.float)\n",
    "# N = self.A.shape[0]\n",
    "# M = self.B.shape[1]"
   ]
  },
  {
   "cell_type": "code",
   "execution_count": null,
   "metadata": {},
   "outputs": [],
   "source": [
    "T = len(self.O)\n",
    "I = np.zeros(T, np.float)\n",
    "\n",
    "delta = np.zeros((T, self.N), np.float)  \n",
    "psi = np.zeros((T, self.N), np.float)\n",
    "\n",
    "for i in range(self.N):\n",
    "    delta[0, i] = self.Pi[i] * self.B[i, self.O[0]]\n",
    "    psi[0, i] = 0\n",
    "\n",
    "for t in range(1, T):\n",
    "    for i in range(self.N):\n",
    "        delta[t, i] = self.B[i,self.O[t]] * np.array( [delta[t-1,j] * self.A[j,i]\n",
    "            for j in range(self.N)] ).max() \n",
    "        psi[t,i] = np.array( [delta[t-1,j] * self.A[j,i] \n",
    "            for j in range(self.N)] ).argmax()\n",
    "\n",
    "P_T = delta[T-1, :].max()\n",
    "I[T-1] = delta[T-1, :].argmax()\n",
    "\n",
    "for t in range(T-2, -1, -1):\n",
    "    I[t] = psi[t+1, I[t+1]]\n"
   ]
  },
  {
   "cell_type": "code",
   "execution_count": null,
   "metadata": {},
   "outputs": [],
   "source": []
  },
  {
   "cell_type": "code",
   "execution_count": null,
   "metadata": {},
   "outputs": [],
   "source": []
  },
  {
   "cell_type": "code",
   "execution_count": null,
   "metadata": {},
   "outputs": [],
   "source": []
  },
  {
   "cell_type": "code",
   "execution_count": 31,
   "metadata": {},
   "outputs": [],
   "source": [
    "pi = [1/10, 1/10, 1/10, 1/10, 1/10, 1/10, 1/10, 1/10, 1/10, 1/10]"
   ]
  },
  {
   "cell_type": "code",
   "execution_count": null,
   "metadata": {},
   "outputs": [],
   "source": [
    "pi"
   ]
  }
 ],
 "metadata": {
  "kernelspec": {
   "display_name": "Python 3",
   "language": "python",
   "name": "python3"
  },
  "language_info": {
   "codemirror_mode": {
    "name": "ipython",
    "version": 3
   },
   "file_extension": ".py",
   "mimetype": "text/x-python",
   "name": "python",
   "nbconvert_exporter": "python",
   "pygments_lexer": "ipython3",
   "version": "3.6.8"
  }
 },
 "nbformat": 4,
 "nbformat_minor": 2
}
