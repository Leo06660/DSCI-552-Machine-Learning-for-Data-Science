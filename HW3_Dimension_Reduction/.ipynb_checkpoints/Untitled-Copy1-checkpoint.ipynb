{
 "cells": [
  {
   "cell_type": "markdown",
   "metadata": {},
   "source": [
    "# PCA"
   ]
  },
  {
   "cell_type": "code",
   "execution_count": 1,
   "metadata": {},
   "outputs": [],
   "source": [
    "import csv\n",
    "import numpy as np"
   ]
  },
  {
   "cell_type": "code",
   "execution_count": 2,
   "metadata": {},
   "outputs": [],
   "source": [
    "data = []\n",
    "with open('pca-data.txt') as file:\n",
    "    reader = csv.reader(file, delimiter='\\t')\n",
    "    for line in reader:\n",
    "        data.append([float(line[0]),float(line[1]),float(line[2])])\n",
    "data = np.array(data)"
   ]
  },
  {
   "cell_type": "code",
   "execution_count": 3,
   "metadata": {},
   "outputs": [
    {
     "name": "stdout",
     "output_type": "stream",
     "text": [
      "[ 0.04641608 -0.0356265   0.06334316]\n"
     ]
    }
   ],
   "source": [
    "# # calculate the mean and standard deviation\n",
    "# mu = np.mean(data,axis=0)\n",
    "# print(mu) \n",
    "# # print(std) "
   ]
  },
  {
   "cell_type": "code",
   "execution_count": 9,
   "metadata": {},
   "outputs": [],
   "source": [
    "# step 0: centralize\n",
    "def data_centralize(data):\n",
    "    mu = np.mean(data,axis=0)\n",
    "    data_std = data-mu\n",
    "    return data_std"
   ]
  },
  {
   "cell_type": "code",
   "execution_count": 11,
   "metadata": {},
   "outputs": [],
   "source": [
    "# step 1: Calculate the covariance\n",
    "def calculate_covariance(data_std):\n",
    "    data_covar = np.cov(data_std, rowvar=False, bias=True) \n",
    "    return data_covar"
   ]
  },
  {
   "cell_type": "code",
   "execution_count": 12,
   "metadata": {},
   "outputs": [],
   "source": [
    "# Step 2: Calculate eigenvalues and eigenvectors\n",
    "def calculate_eigen(data_covar):\n",
    "    eigenvalues,eigenvectors = np.linalg.eig(data_covar)\n",
    "    return eigenvalues,eigenvectors"
   ]
  },
  {
   "cell_type": "code",
   "execution_count": 13,
   "metadata": {},
   "outputs": [],
   "source": [
    "# Step 3: Pick k eigenvalues and form a matrix of eigenvectors\n",
    "def build_k_dim_eigenvectorMatrix(eigenvectors, k):\n",
    "    k_eigen = eigenvectors[:,0:k]\n",
    "    return k_eigen"
   ]
  },
  {
   "cell_type": "code",
   "execution_count": 238,
   "metadata": {},
   "outputs": [
    {
     "data": {
      "text/plain": [
       "array([[ 10.87667009,   7.37396173],\n",
       "       [-12.68609992,  -4.24879151],\n",
       "       [  0.43255106,   0.26700852],\n",
       "       ...,\n",
       "       [ -2.92254009,   2.41914881],\n",
       "       [ 11.18317124,   4.20349275],\n",
       "       [ 14.2299014 ,   5.64409544]])"
      ]
     },
     "execution_count": 238,
     "metadata": {},
     "output_type": "execute_result"
    }
   ],
   "source": [
    "new_data = np.matmul(data_std, k_eigen)\n",
    "new_data"
   ]
  },
  {
   "cell_type": "code",
   "execution_count": 18,
   "metadata": {},
   "outputs": [],
   "source": [
    "def PCA(data, k):\n",
    "    data_std = data_centralize(data)\n",
    "    data_covar = calculate_covariance(data_std)\n",
    "    eigenvalues,eigenvectors = calculate_eigen(data_covar)\n",
    "    k_eigen = build_k_dim_eigenvectorMatrix(eigenvectors, k)\n",
    "    print(k_eigen)\n",
    "    new_data = np.matmul(data_std, k_eigen)\n",
    "    return new_data"
   ]
  },
  {
   "cell_type": "code",
   "execution_count": 20,
   "metadata": {},
   "outputs": [
    {
     "name": "stdout",
     "output_type": "stream",
     "text": [
      "[[ 0.86667137 -0.4962773 ]\n",
      " [-0.23276482 -0.4924792 ]\n",
      " [ 0.44124968  0.71496368]]\n"
     ]
    },
    {
     "data": {
      "text/plain": [
       "array([[ 10.87667009,   7.37396173],\n",
       "       [-12.68609992,  -4.24879151],\n",
       "       [  0.43255106,   0.26700852],\n",
       "       ...,\n",
       "       [ -2.92254009,   2.41914881],\n",
       "       [ 11.18317124,   4.20349275],\n",
       "       [ 14.2299014 ,   5.64409544]])"
      ]
     },
     "execution_count": 20,
     "metadata": {},
     "output_type": "execute_result"
    }
   ],
   "source": [
    "new_data = PCA(data, k=2)\n",
    "new_data"
   ]
  },
  {
   "cell_type": "code",
   "execution_count": null,
   "metadata": {},
   "outputs": [],
   "source": []
  },
  {
   "cell_type": "code",
   "execution_count": null,
   "metadata": {},
   "outputs": [],
   "source": []
  },
  {
   "cell_type": "code",
   "execution_count": 200,
   "metadata": {},
   "outputs": [
    {
     "data": {
      "text/plain": [
       "array([[-2.54632517,  0.93698904],\n",
       "       [ 1.97659703,  0.21277546],\n",
       "       [-0.04881661, -0.04306428],\n",
       "       ...,\n",
       "       [ 0.10051112,  0.41227183],\n",
       "       [-2.03409642,  0.24167712],\n",
       "       [-2.86008393,  0.7149131 ]])"
      ]
     },
     "execution_count": 200,
     "metadata": {},
     "output_type": "execute_result"
    }
   ],
   "source": [
    "from sklearn.decomposition import PCA\n",
    "import pandas as pd\n",
    "A = np.matrix(data)\n",
    "df = pd.DataFrame(A,columns=['f1','f2','f3'])\n",
    "pca = PCA(n_components=2)\n",
    "principalComponents = pca.fit_transform(data_nor)\n",
    "principalComponents\n",
    "# PCData = "
   ]
  },
  {
   "cell_type": "code",
   "execution_count": null,
   "metadata": {},
   "outputs": [],
   "source": []
  },
  {
   "cell_type": "code",
   "execution_count": null,
   "metadata": {},
   "outputs": [],
   "source": []
  },
  {
   "cell_type": "code",
   "execution_count": null,
   "metadata": {},
   "outputs": [],
   "source": []
  },
  {
   "cell_type": "code",
   "execution_count": null,
   "metadata": {},
   "outputs": [],
   "source": []
  },
  {
   "cell_type": "code",
   "execution_count": 10,
   "metadata": {},
   "outputs": [],
   "source": [
    "d = [[1,2,3,4],\n",
    "     [5,5,6,7],\n",
    "     [1,4,2,3],\n",
    "     [5,3,2,1],\n",
    "     [8,1,2,2]]"
   ]
  },
  {
   "cell_type": "code",
   "execution_count": 14,
   "metadata": {},
   "outputs": [
    {
     "data": {
      "text/plain": [
       "array([[1, 2, 3, 4],\n",
       "       [5, 5, 6, 7],\n",
       "       [1, 4, 2, 3],\n",
       "       [5, 3, 2, 1],\n",
       "       [8, 1, 2, 2]])"
      ]
     },
     "execution_count": 14,
     "metadata": {},
     "output_type": "execute_result"
    }
   ],
   "source": [
    "d = np.array(d)\n",
    "d"
   ]
  },
  {
   "cell_type": "code",
   "execution_count": 161,
   "metadata": {},
   "outputs": [
    {
     "name": "stdout",
     "output_type": "stream",
     "text": [
      "[4.  3.  3.  3.4]\n",
      "[3.         1.58113883 1.73205081 2.30217289]\n"
     ]
    }
   ],
   "source": [
    "mu = np.mean(d,axis=0)\n",
    "std = np.std(d,axis=0,ddof=1) #?????????\n",
    "print(np.mean(d,axis=0))\n",
    "print(std) #用母體公式還是樣本公式"
   ]
  },
  {
   "cell_type": "code",
   "execution_count": 156,
   "metadata": {},
   "outputs": [
    {
     "data": {
      "text/plain": [
       "3.0"
      ]
     },
     "execution_count": 156,
     "metadata": {},
     "output_type": "execute_result"
    }
   ],
   "source": [
    "(((1-4)**2+(5-4)**2+(1-4)**2+(5-4)**2+(8-4)**2)/4)**0.5"
   ]
  },
  {
   "cell_type": "code",
   "execution_count": 25,
   "metadata": {},
   "outputs": [
    {
     "data": {
      "text/plain": [
       "1.118033988749895"
      ]
     },
     "execution_count": 25,
     "metadata": {},
     "output_type": "execute_result"
    }
   ],
   "source": [
    "a = np.array([[1, 2], [3, 4]])\n",
    "np.std(a)"
   ]
  },
  {
   "cell_type": "code",
   "execution_count": 162,
   "metadata": {},
   "outputs": [
    {
     "data": {
      "text/plain": [
       "array([[-1.        , -0.63245553,  0.        ,  0.26062335],\n",
       "       [ 0.33333333,  1.26491106,  1.73205081,  1.56374007],\n",
       "       [-1.        ,  0.63245553, -0.57735027, -0.1737489 ],\n",
       "       [ 0.33333333,  0.        , -0.57735027, -1.04249338],\n",
       "       [ 1.33333333, -1.26491106, -0.57735027, -0.60812114]])"
      ]
     },
     "execution_count": 162,
     "metadata": {},
     "output_type": "execute_result"
    }
   ],
   "source": [
    "d_nor = (d-mu)/std\n",
    "d_nor"
   ]
  },
  {
   "cell_type": "code",
   "execution_count": 169,
   "metadata": {},
   "outputs": [
    {
     "data": {
      "text/plain": [
       "array([[ 0.8       , -0.25298221,  0.03849002, -0.14479075],\n",
       "       [-0.25298221,  0.8       ,  0.51120772,  0.49449803],\n",
       "       [ 0.03849002,  0.51120772,  0.8       ,  0.75235479],\n",
       "       [-0.14479075,  0.49449803,  0.75235479,  0.8       ]])"
      ]
     },
     "execution_count": 169,
     "metadata": {},
     "output_type": "execute_result"
    }
   ],
   "source": [
    "# If bias is True, then normalization is by N\n",
    "# If rowvar=False, each column represents a variable, while the rows contain observations.\n",
    "d_covar = np.cov(d_nor, rowvar=False, bias=True) \n",
    "d_covar"
   ]
  },
  {
   "cell_type": "code",
   "execution_count": 47,
   "metadata": {},
   "outputs": [
    {
     "data": {
      "text/plain": [
       "1.0"
      ]
     },
     "execution_count": 47,
     "metadata": {},
     "output_type": "execute_result"
    }
   ],
   "source": [
    "sum(d_nor[:,0]**2)/5"
   ]
  },
  {
   "cell_type": "code",
   "execution_count": 164,
   "metadata": {},
   "outputs": [
    {
     "data": {
      "text/plain": [
       "(array([2.01263459, 0.8522308 , 0.31510964, 0.02002497]),\n",
       " array([[ 0.16195986, -0.91705888, -0.30707099,  0.19616173],\n",
       "        [-0.52404813,  0.20692161, -0.81731886,  0.12061043],\n",
       "        [-0.58589647, -0.3205394 ,  0.1882497 , -0.72009851],\n",
       "        [-0.59654663, -0.11593512,  0.44973251,  0.65454704]]))"
      ]
     },
     "execution_count": 164,
     "metadata": {},
     "output_type": "execute_result"
    }
   ],
   "source": [
    "eigenvalues,eigenvectors = np.linalg.eig(d_covar)\n",
    "eigenvalues,eigenvectors"
   ]
  },
  {
   "cell_type": "code",
   "execution_count": 165,
   "metadata": {},
   "outputs": [
    {
     "data": {
      "text/plain": [
       "array([[ 0.16195986, -0.91705888],\n",
       "       [-0.52404813,  0.20692161],\n",
       "       [-0.58589647, -0.3205394 ],\n",
       "       [-0.59654663, -0.11593512]])"
      ]
     },
     "execution_count": 165,
     "metadata": {},
     "output_type": "execute_result"
    }
   ],
   "source": [
    "k_eigen = eigenvectors[:,0:2]\n",
    "k_eigen"
   ]
  },
  {
   "cell_type": "code",
   "execution_count": 166,
   "metadata": {},
   "outputs": [
    {
     "data": {
      "text/plain": [
       "array([[ 1.40033078e-02,  7.55974765e-01],\n",
       "       [-2.55653399e+00, -7.80431775e-01],\n",
       "       [-5.14801919e-02,  1.25313470e+00],\n",
       "       [ 1.01415002e+00,  2.38808310e-04],\n",
       "       [ 1.57986086e+00, -1.22891650e+00]])"
      ]
     },
     "execution_count": 166,
     "metadata": {},
     "output_type": "execute_result"
    }
   ],
   "source": [
    "np.matmul(d_nor, k_eigen)"
   ]
  },
  {
   "cell_type": "code",
   "execution_count": null,
   "metadata": {},
   "outputs": [],
   "source": []
  },
  {
   "cell_type": "code",
   "execution_count": null,
   "metadata": {},
   "outputs": [],
   "source": []
  },
  {
   "cell_type": "markdown",
   "metadata": {},
   "source": [
    "# FastMap"
   ]
  },
  {
   "cell_type": "code",
   "execution_count": 245,
   "metadata": {},
   "outputs": [],
   "source": [
    "import csv\n",
    "import random\n",
    "import numpy as np"
   ]
  },
  {
   "cell_type": "code",
   "execution_count": 251,
   "metadata": {},
   "outputs": [
    {
     "data": {
      "text/plain": [
       "45"
      ]
     },
     "execution_count": 251,
     "metadata": {},
     "output_type": "execute_result"
    }
   ],
   "source": [
    "data = []\n",
    "with open('fastmap-data.txt') as file:\n",
    "    reader = csv.reader(file, delimiter='\\t')\n",
    "    for line in reader:\n",
    "        data.append([float(line[0]),float(line[1]),float(line[2])])\n",
    "data_np = np.array(data)\n",
    "len(data)\n",
    "# data"
   ]
  },
  {
   "cell_type": "code",
   "execution_count": 324,
   "metadata": {},
   "outputs": [
    {
     "data": {
      "text/plain": [
       "[3.0, 6.0, 10.0]"
      ]
     },
     "execution_count": 324,
     "metadata": {},
     "output_type": "execute_result"
    }
   ],
   "source": [
    "Ob = random.sample(data,1)[0]\n",
    "Ob"
   ]
  },
  {
   "cell_type": "code",
   "execution_count": 325,
   "metadata": {},
   "outputs": [],
   "source": [
    "def diff(p1,p2):\n",
    "    return ((p2[0]-p1[0])**2+(p2[1]-p1[1])**2+(p2[1]-p1[1])**2)**0.5"
   ]
  },
  {
   "cell_type": "code",
   "execution_count": 326,
   "metadata": {},
   "outputs": [],
   "source": [
    "def max_diff(O):\n",
    "    max_d = 0\n",
    "    for point in data:\n",
    "        d_temp = diff(O,point)\n",
    "        if d_temp > max_d:\n",
    "            f_point = point\n",
    "            index = data.index(point)\n",
    "            max_d = d_temp\n",
    "    return f_point"
   ]
  },
  {
   "cell_type": "code",
   "execution_count": 345,
   "metadata": {},
   "outputs": [
    {
     "name": "stdout",
     "output_type": "stream",
     "text": [
      "[5.0, 10.0, 11.0]\n",
      "0\n",
      "0\n",
      "Ob= [9.0, 10.0, 11.0]    Oa= [1.0, 2.0, 4.0]\n"
     ]
    }
   ],
   "source": [
    "Oa = None\n",
    "Ob = random.sample(data,1)[0]\n",
    "old_Ob = Ob\n",
    "print(Ob)\n",
    "while 1:\n",
    "    print('0')\n",
    "    Oa = max_diff(Ob)\n",
    "    Ob = max_diff(Oa)\n",
    "    if old_Ob == Ob:\n",
    "        break\n",
    "    else:\n",
    "        old_Ob = Ob\n",
    "print('Ob=',Ob,'   Oa=',Oa)"
   ]
  },
  {
   "cell_type": "code",
   "execution_count": null,
   "metadata": {},
   "outputs": [],
   "source": [
    "for p in data:\n",
    "    d_ai = diff(p,Oa)\n",
    "    d_ab = diff(Oa,Ob)\n",
    "    d_ib = diff(p,Ob) "
   ]
  },
  {
   "cell_type": "code",
   "execution_count": 349,
   "metadata": {},
   "outputs": [
    {
     "data": {
      "text/plain": [
       "array([ 7., 12., 13.])"
      ]
     },
     "execution_count": 349,
     "metadata": {},
     "output_type": "execute_result"
    }
   ],
   "source": [
    "(np.array([5.0, 10.0, 11.0])*2+4)/2"
   ]
  },
  {
   "cell_type": "code",
   "execution_count": null,
   "metadata": {},
   "outputs": [],
   "source": []
  },
  {
   "cell_type": "code",
   "execution_count": null,
   "metadata": {},
   "outputs": [],
   "source": []
  },
  {
   "cell_type": "code",
   "execution_count": null,
   "metadata": {},
   "outputs": [],
   "source": []
  },
  {
   "cell_type": "code",
   "execution_count": null,
   "metadata": {},
   "outputs": [],
   "source": []
  },
  {
   "cell_type": "code",
   "execution_count": null,
   "metadata": {},
   "outputs": [],
   "source": []
  },
  {
   "cell_type": "code",
   "execution_count": null,
   "metadata": {},
   "outputs": [],
   "source": []
  },
  {
   "cell_type": "code",
   "execution_count": null,
   "metadata": {},
   "outputs": [],
   "source": []
  },
  {
   "cell_type": "code",
   "execution_count": null,
   "metadata": {},
   "outputs": [],
   "source": []
  },
  {
   "cell_type": "code",
   "execution_count": 294,
   "metadata": {},
   "outputs": [],
   "source": [
    "# # np.argmax(diff(data_np, Ob))\n",
    "# # diff(data_np, Ob)\n",
    "# print(data_np.shape)\n",
    "# Ob2 = np.ones((45,3))*Ob\n",
    "# Ob2.shape\n",
    "# diff(data_np, Ob2)"
   ]
  },
  {
   "cell_type": "code",
   "execution_count": 295,
   "metadata": {},
   "outputs": [
    {
     "name": "stdout",
     "output_type": "stream",
     "text": [
      "[1.0, 2.0, 4.0]\n",
      "0\n",
      "[7.0, 10.0, 11.0]\n",
      "7.0710678118654755\n",
      "[8.0, 9.0, 2.0]\n",
      "7.3484692283495345\n",
      "[8.0, 10.0, 12.0]\n",
      "7.54983443527075\n",
      "[9.0, 10.0, 11.0]\n",
      "8.18535277187245\n"
     ]
    }
   ],
   "source": [
    "max_diff = 0\n",
    "flag = 0\n",
    "for p in data:\n",
    "    d_temp = diff(Ob,p)\n",
    "    if d_temp > max_diff:\n",
    "        print(p)\n",
    "        print(max_diff)\n",
    "        index = data.index(p)\n",
    "        max_diff = d_temp"
   ]
  },
  {
   "cell_type": "code",
   "execution_count": 298,
   "metadata": {},
   "outputs": [
    {
     "name": "stdout",
     "output_type": "stream",
     "text": [
      "[1.0, 2.0, 4.0]\n",
      "9.055385138137417\n"
     ]
    }
   ],
   "source": [
    "Oa = data[index]\n",
    "for p in data:\n",
    "    d_temp = diff(Oa,p)\n",
    "    if d_temp > max_diff:\n",
    "        print(p)\n",
    "        print(max_diff)\n",
    "        index = data.index(p)\n",
    "        max_diff = d_temp"
   ]
  },
  {
   "cell_type": "code",
   "execution_count": 296,
   "metadata": {},
   "outputs": [
    {
     "data": {
      "text/plain": [
       "44"
      ]
     },
     "execution_count": 296,
     "metadata": {},
     "output_type": "execute_result"
    }
   ],
   "source": [
    "max_diff = 0\n",
    "flag = 0\n",
    "\n",
    "for p in data:\n",
    "    d_temp = diff(Ob,p)\n",
    "    if d_temp > max_diff:\n",
    "        print(p)\n",
    "        print(max_diff)\n",
    "        index = data.index(p)\n",
    "        max_diff = d_temp\n",
    "if flag=0:\n",
    "    Oa = data[index]"
   ]
  },
  {
   "cell_type": "code",
   "execution_count": 322,
   "metadata": {},
   "outputs": [
    {
     "data": {
      "text/plain": [
       "[9.0, 10.0, 11.0]"
      ]
     },
     "execution_count": 322,
     "metadata": {},
     "output_type": "execute_result"
    }
   ],
   "source": [
    "max_diff([1.0, 2.0, 4.0])"
   ]
  },
  {
   "cell_type": "code",
   "execution_count": 323,
   "metadata": {},
   "outputs": [
    {
     "data": {
      "text/plain": [
       "[1.0, 2.0, 4.0]"
      ]
     },
     "execution_count": 323,
     "metadata": {},
     "output_type": "execute_result"
    }
   ],
   "source": [
    "max_diff([9.0, 10.0, 11.0])"
   ]
  },
  {
   "cell_type": "code",
   "execution_count": null,
   "metadata": {},
   "outputs": [],
   "source": []
  },
  {
   "cell_type": "code",
   "execution_count": null,
   "metadata": {},
   "outputs": [],
   "source": []
  },
  {
   "cell_type": "markdown",
   "metadata": {},
   "source": [
    "# FastMap"
   ]
  },
  {
   "cell_type": "code",
   "execution_count": 65,
   "metadata": {},
   "outputs": [],
   "source": [
    "import csv\n",
    "import random\n",
    "import numpy as np\n",
    "import matplotlib.pyplot as plt"
   ]
  },
  {
   "cell_type": "code",
   "execution_count": 66,
   "metadata": {},
   "outputs": [
    {
     "data": {
      "text/plain": [
       "array([[ 1.,  2.,  4.],\n",
       "       [ 1.,  3.,  7.],\n",
       "       [ 1.,  4.,  6.],\n",
       "       [ 1.,  5.,  7.],\n",
       "       [ 1.,  6.,  7.],\n",
       "       [ 1.,  7.,  4.],\n",
       "       [ 1.,  8.,  6.],\n",
       "       [ 1.,  9.,  6.],\n",
       "       [ 1., 10., 10.],\n",
       "       [ 2.,  3.,  7.],\n",
       "       [ 2.,  4.,  7.],\n",
       "       [ 2.,  5.,  8.],\n",
       "       [ 2.,  6.,  9.],\n",
       "       [ 2.,  7.,  2.],\n",
       "       [ 2.,  8.,  8.],\n",
       "       [ 2.,  9.,  8.],\n",
       "       [ 2., 10., 11.],\n",
       "       [ 3.,  4.,  5.],\n",
       "       [ 3.,  5.,  6.],\n",
       "       [ 3.,  6., 10.],\n",
       "       [ 3.,  7.,  6.],\n",
       "       [ 3.,  8.,  6.],\n",
       "       [ 3.,  9.,  6.],\n",
       "       [ 3., 10., 12.],\n",
       "       [ 4.,  5.,  2.],\n",
       "       [ 4.,  6., 10.],\n",
       "       [ 4.,  7.,  7.],\n",
       "       [ 4.,  8.,  4.],\n",
       "       [ 4.,  9.,  5.],\n",
       "       [ 4., 10., 12.],\n",
       "       [ 5.,  6., 10.],\n",
       "       [ 5.,  7.,  8.],\n",
       "       [ 5.,  8.,  5.],\n",
       "       [ 5.,  9.,  4.],\n",
       "       [ 5., 10., 11.],\n",
       "       [ 6.,  7.,  9.],\n",
       "       [ 6.,  8., 10.],\n",
       "       [ 6.,  9.,  9.],\n",
       "       [ 6., 10.,  4.],\n",
       "       [ 7.,  8.,  8.],\n",
       "       [ 7.,  9.,  8.],\n",
       "       [ 7., 10., 11.],\n",
       "       [ 8.,  9.,  2.],\n",
       "       [ 8., 10., 12.],\n",
       "       [ 9., 10., 11.]])"
      ]
     },
     "execution_count": 66,
     "metadata": {},
     "output_type": "execute_result"
    }
   ],
   "source": [
    "fastmap_data = []\n",
    "with open('fastmap-data.txt') as file:\n",
    "    reader = csv.reader(file, delimiter='\\t')\n",
    "    for line in reader:\n",
    "        fastmap_data.append([float(line[0]),float(line[1]),float(line[2])])\n",
    "# data_np = np.array(data)\n",
    "len(fastmap_data)\n",
    "fastmap_data = np.array(fastmap_data)\n",
    "fastmap_data"
   ]
  },
  {
   "cell_type": "code",
   "execution_count": 67,
   "metadata": {},
   "outputs": [
    {
     "data": {
      "text/plain": [
       "['acting',\n",
       " 'activist',\n",
       " 'compute',\n",
       " 'coward',\n",
       " 'forward',\n",
       " 'interaction',\n",
       " 'activity',\n",
       " 'odor',\n",
       " 'order',\n",
       " 'international']"
      ]
     },
     "execution_count": 67,
     "metadata": {},
     "output_type": "execute_result"
    }
   ],
   "source": [
    "fastmap_wordlist = []\n",
    "with open('fastmap-wordlist.txt') as file:\n",
    "    reader = csv.reader(file)\n",
    "    for line in reader:\n",
    "        fastmap_wordlist+=line\n",
    "fastmap_wordlist"
   ]
  },
  {
   "cell_type": "markdown",
   "metadata": {},
   "source": [
    "#### Find Oa and Ob"
   ]
  },
  {
   "cell_type": "code",
   "execution_count": 68,
   "metadata": {},
   "outputs": [],
   "source": [
    "# Ob = random.sample(fastmap_wordlist,1)[0]\n",
    "# Ob"
   ]
  },
  {
   "cell_type": "code",
   "execution_count": 69,
   "metadata": {},
   "outputs": [],
   "source": [
    "# Ob_idx = fastmap_wordlist.index(Ob)+1\n",
    "# Ob_idx"
   ]
  },
  {
   "cell_type": "code",
   "execution_count": 70,
   "metadata": {},
   "outputs": [],
   "source": [
    "# np.all([[True,False],[True,True]])\n",
    "# np.all([[fastmap_data[:,0]==1],[fastmap_data[:,0]==1]])"
   ]
  },
  {
   "cell_type": "code",
   "execution_count": 71,
   "metadata": {},
   "outputs": [],
   "source": [
    "# filter_idx = fastmap_data[:,0]==1 or fastmap_data[:,0]==1\n",
    "# fastmap_data[fastmap_data[:,0]==3].concat(fastmap_data[fastmap_data[:,1]==3])\n",
    "# Ob_distances = np.concatenate((fastmap_data[fastmap_data[:,0]==Ob_idx], fastmap_data[fastmap_data[:,1]==Ob_idx]))\n",
    "# Ob_distances\n"
   ]
  },
  {
   "cell_type": "code",
   "execution_count": 72,
   "metadata": {},
   "outputs": [],
   "source": [
    "# max_dist_idx = np.argmax(Ob_distances[:,2])\n",
    "# Oa = list(Ob_distances[max_dist_idx][0:2]) # Pick another as Oa\n",
    "# Oa.remove(Ob_idx)\n",
    "# Oa = int(Oa[0])\n",
    "# Oa"
   ]
  },
  {
   "cell_type": "code",
   "execution_count": 73,
   "metadata": {},
   "outputs": [],
   "source": [
    "# # Initialize Ob randomly\n",
    "# Ob = random.sample(fastmap_wordlist,1)[0]\n",
    "# print(Ob)\n",
    "# Ob_idx = fastmap_wordlist.index(Ob)+1\n",
    "# Ob_idx"
   ]
  },
  {
   "cell_type": "code",
   "execution_count": 107,
   "metadata": {},
   "outputs": [
    {
     "data": {
      "text/plain": [
       "array([[ 1.        ,  2.        ,  3.90312375],\n",
       "       [ 1.        ,  3.        ,  5.82961191],\n",
       "       [ 1.        ,  4.        ,  5.28887722],\n",
       "       [ 1.        ,  5.        ,  6.85514811],\n",
       "       [ 1.        ,  6.        ,  4.16645833],\n",
       "       [ 1.        ,  7.        ,  3.74072928],\n",
       "       [ 1.        ,  8.        ,  5.50993421],\n",
       "       [ 1.        ,  9.        ,  5.83035638],\n",
       "       [ 1.        , 10.        ,  5.82961191],\n",
       "       [ 2.        ,  3.        ,  6.32455532],\n",
       "       [ 2.        ,  4.        ,  6.72048589],\n",
       "       [ 2.        ,  5.        ,  7.98164126],\n",
       "       [ 2.        ,  6.        ,  6.2249498 ],\n",
       "       [ 2.        ,  7.        ,  1.92525251],\n",
       "       [ 2.        ,  8.        ,  7.85811682],\n",
       "       [ 2.        ,  9.        ,  7.98164126],\n",
       "       [ 2.        , 10.        ,  6.32455532],\n",
       "       [ 3.        ,  4.        ,  4.89028941],\n",
       "       [ 3.        ,  5.        ,  5.47326203],\n",
       "       [ 3.        ,  6.        ,  3.122499  ],\n",
       "       [ 3.        ,  7.        ,  5.47326203],\n",
       "       [ 3.        ,  8.        ,  5.80947502],\n",
       "       [ 3.        ,  9.        ,  5.47326203],\n",
       "       [ 3.        , 10.        ,  0.        ],\n",
       "       [ 4.        ,  5.        ,  1.4117562 ],\n",
       "       [ 4.        ,  6.        ,  5.33447253],\n",
       "       [ 4.        ,  7.        ,  6.85514811],\n",
       "       [ 4.        ,  8.        ,  3.97365456],\n",
       "       [ 4.        ,  9.        ,  4.79510746],\n",
       "       [ 4.        , 10.        ,  4.89028941],\n",
       "       [ 5.        ,  6.        ,  7.10034721],\n",
       "       [ 5.        ,  7.        ,  8.        ],\n",
       "       [ 5.        ,  8.        ,  4.9073004 ],\n",
       "       [ 5.        ,  9.        ,  4.        ],\n",
       "       [ 5.        , 10.        ,  5.47326203],\n",
       "       [ 6.        ,  7.        ,  5.60490237],\n",
       "       [ 6.        ,  8.        ,  6.        ],\n",
       "       [ 6.        ,  9.        ,  5.60490237],\n",
       "       [ 6.        , 10.        ,  3.122499  ],\n",
       "       [ 7.        ,  8.        ,  7.94239241],\n",
       "       [ 7.        ,  9.        ,  8.        ],\n",
       "       [ 7.        , 10.        ,  5.47326203],\n",
       "       [ 8.        ,  9.        ,  1.75544787],\n",
       "       [ 8.        , 10.        ,  5.80947502],\n",
       "       [ 9.        , 10.        ,  5.47326203]])"
      ]
     },
     "execution_count": 107,
     "metadata": {},
     "output_type": "execute_result"
    }
   ],
   "source": [
    "test"
   ]
  },
  {
   "cell_type": "code",
   "execution_count": 119,
   "metadata": {},
   "outputs": [
    {
     "name": "stdout",
     "output_type": "stream",
     "text": [
      "2 5\n",
      "7 9\n",
      "7 9\n"
     ]
    },
    {
     "data": {
      "text/plain": [
       "(7, 9)"
      ]
     },
     "execution_count": 119,
     "metadata": {},
     "output_type": "execute_result"
    }
   ],
   "source": [
    "find_farthest_pair(fastmap_wordlist, test)"
   ]
  },
  {
   "cell_type": "code",
   "execution_count": 76,
   "metadata": {},
   "outputs": [],
   "source": [
    "def find_farthest_obj(obj1_idx, fastmap_data):\n",
    "#     # The represent num of Ob in fastmap_data\n",
    "#     obj1_idx = fastmap_wordlist.index(obj1)+1\n",
    "    # The row related to Ob\n",
    "    obj1_distances = np.concatenate((fastmap_data[fastmap_data[:,0]==obj1_idx], fastmap_data[fastmap_data[:,1]==obj1_idx]))\n",
    "#     print(obj1_distances)\n",
    "    # Find out Oa in the above rows with max distance\n",
    "    max_dist_idx = np.argmax(obj1_distances[:,2])\n",
    "    obj2 = list(obj1_distances[max_dist_idx][0:2])\n",
    "    obj2.remove(obj1_idx)\n",
    "    obj2_idx = int(obj2[0])\n",
    "    return obj2_idx\n",
    "    "
   ]
  },
  {
   "cell_type": "code",
   "execution_count": 77,
   "metadata": {},
   "outputs": [
    {
     "data": {
      "text/plain": [
       "2"
      ]
     },
     "execution_count": 77,
     "metadata": {},
     "output_type": "execute_result"
    }
   ],
   "source": [
    "find_farthest_obj(3, test)"
   ]
  },
  {
   "cell_type": "code",
   "execution_count": 115,
   "metadata": {},
   "outputs": [],
   "source": [
    "def find_farthest_pair(fastmap_wordlist, fastmap_data):\n",
    "#     print(fastmap_data)\n",
    "    Ob = random.sample(fastmap_wordlist,1)[0]\n",
    "    Ob_idx = fastmap_wordlist.index(Ob)+1\n",
    "#     print(Ob, Ob_idx)\n",
    "    old_ob_idx = Ob_idx\n",
    "    while 1:\n",
    "#         print('0')\n",
    "#         print()\n",
    "        Oa_idx = find_farthest_obj(Ob_idx, fastmap_data)\n",
    "        Ob_idx = find_farthest_obj(Oa_idx, fastmap_data)\n",
    "        print(Oa_idx,Ob_idx)\n",
    "        if old_ob_idx == Ob_idx:\n",
    "            return Oa_idx, Ob_idx\n",
    "        else:\n",
    "            old_ob_idx = Ob_idx"
   ]
  },
  {
   "cell_type": "code",
   "execution_count": 116,
   "metadata": {},
   "outputs": [
    {
     "name": "stdout",
     "output_type": "stream",
     "text": [
      "10 3\n",
      "10 3\n"
     ]
    },
    {
     "data": {
      "text/plain": [
       "(10, 3)"
      ]
     },
     "execution_count": 116,
     "metadata": {},
     "output_type": "execute_result"
    }
   ],
   "source": [
    "Oa_idx, Ob_idx = find_farthest_pair(fastmap_wordlist, fastmap_data)\n",
    "Oa_idx, Ob_idx"
   ]
  },
  {
   "cell_type": "code",
   "execution_count": 80,
   "metadata": {},
   "outputs": [],
   "source": [
    "def distance_function(obj1_idx, obj2_idx, fastmap_data):\n",
    "    idx = []\n",
    "    idx.append(obj1_idx)\n",
    "    idx.append(obj2_idx)\n",
    "    idx.sort()\n",
    "    for idx_objs in range(len(fastmap_data)):\n",
    "        if fastmap_data[:,0][idx_objs]==idx[0] and fastmap_data[:,1][idx_objs]==idx[1]:\n",
    "            d = fastmap_data[:,2][idx_objs]\n",
    "            return d\n",
    "        else:\n",
    "            d = 0\n",
    "    return d"
   ]
  },
  {
   "cell_type": "code",
   "execution_count": 81,
   "metadata": {},
   "outputs": [
    {
     "data": {
      "text/plain": [
       "7.0"
      ]
     },
     "execution_count": 81,
     "metadata": {},
     "output_type": "execute_result"
    }
   ],
   "source": [
    "distance_function(2, 3, fastmap_data)"
   ]
  },
  {
   "cell_type": "code",
   "execution_count": 82,
   "metadata": {},
   "outputs": [],
   "source": [
    "output_k_coordinate = np.zeros((len(fastmap_wordlist),2)) # k=2\n",
    "farthest_pair = np.zeros((2,2)) # the first 2 is Oa and Ob, the second 2 is k\n",
    "coordinate_idx = -1"
   ]
  },
  {
   "cell_type": "code",
   "execution_count": 83,
   "metadata": {},
   "outputs": [],
   "source": [
    "# def FastMap(k, fastmap_data, fastmap_wordlist):\n",
    "#     if k<=0:\n",
    "#         return\n",
    "#     else:\n",
    "#         coordinate_idx+=1\n",
    "#     Oa_idx, Ob_idx = find_farthest_pair(fastmap_wordlist, fastmap_data)\n",
    "#     farthest_pair[0,coordinate_idx] = Oa_idx\n",
    "#     farthest_pair[1,coordinate_idx] = Ob_idx\n",
    "#     for obj_idx in range(1,len(fastmap_wordlist)+1):\n",
    "#         d_ai = distance_function(Oa_idx, obj_idx)\n",
    "#         d_ab = distance_function(Oa_idx, Ob_idx)\n",
    "#         d_ib = distance_function(Ob_idx, obj_idx)\n",
    "#         x = (d_ai**2+d_ab**2-d_ib**2)/(2*d_ab)\n",
    "#         output_k_coordinate[obj_idx-1][coordinate_idx]=x\n",
    "#     new_fastmap_data = fastmap_data.copy()    \n",
    "#     for row in range(len(new_fastmap_data)):\n",
    "#         D_old = distance_function(new_fastmap_data[row][0],new_fastmap_data[row][1])\n",
    "#         xi = output_k_coordinate[new_fastmap_data[row][0]-1][coordinate_idx]\n",
    "#         xj = output_k_coordinate[new_fastmap_data[row][1]-1][coordinate_idx]\n",
    "#         new_fastmap_data[row][2] = (D_old**2-(xi-xj)**2)**0.5\n",
    "#     FastMap(k-1, new_fastmap_data, fastmap_wordlist)\n",
    "    "
   ]
  },
  {
   "cell_type": "code",
   "execution_count": 134,
   "metadata": {},
   "outputs": [],
   "source": [
    "def FastMap(k, fastmap_data, fastmap_wordlist, coordinate_idx):\n",
    "    if k<=0:\n",
    "        return output_k_coordinate\n",
    "    else:\n",
    "        coordinate_idx+=1\n",
    "    Oa_idx, Ob_idx = find_farthest_pair(fastmap_wordlist, fastmap_data)\n",
    "    print('Oa and Ob index=',Oa_idx,'  ',Ob_idx)\n",
    "    farthest_pair[0,coordinate_idx] = Oa_idx\n",
    "    farthest_pair[1,coordinate_idx] = Ob_idx\n",
    "    for obj_idx in range(1,len(fastmap_wordlist)+1):\n",
    "#         print(obj_idx)\n",
    "        d_ai = distance_function(Oa_idx, obj_idx, fastmap_data)\n",
    "        d_ab = distance_function(Oa_idx, Ob_idx, fastmap_data)\n",
    "        d_ib = distance_function(Ob_idx, obj_idx, fastmap_data)\n",
    "        print('d_ai=',d_ai,'  d_ab=',d_ab,'  d_ib=',d_ib)\n",
    "#         print(d_ai, d_ab, d_ib)\n",
    "#         break\n",
    "        x = (d_ai**2+d_ab**2-d_ib**2)/(2*d_ab)\n",
    "        output_k_coordinate[obj_idx-1][coordinate_idx]=x\n",
    "    print(output_k_coordinate)\n",
    "#     print(new_fastmap_data)\n",
    "    for row in range(len(new_fastmap_data)):\n",
    "#         print(row)\n",
    "        D_old = distance_function(new_fastmap_data[row][0],new_fastmap_data[row][1], fastmap_data)\n",
    "#         print(D_old)\n",
    "        xi = output_k_coordinate[int(new_fastmap_data[row][0]-1)][coordinate_idx]\n",
    "        xj = output_k_coordinate[int(new_fastmap_data[row][1]-1)][coordinate_idx]\n",
    "        new_fastmap_data[row][2] = (D_old**2-(xi-xj)**2)**0.5\n",
    "#     return new_fastmap_data\n",
    "    print('#######new_fastmap_data########')\n",
    "    print(new_fastmap_data)\n",
    "#     print('$$$$$$$$$$$$')\n",
    "#     print('@@@',k-1, new_fastmap_data, fastmap_wordlist, coordinate_idx,'@@@')\n",
    "    FastMap(k-1, new_fastmap_data, fastmap_wordlist, coordinate_idx)\n",
    "    return output_k_coordinate\n",
    "    "
   ]
  },
  {
   "cell_type": "code",
   "execution_count": 141,
   "metadata": {
    "scrolled": false
   },
   "outputs": [
    {
     "name": "stdout",
     "output_type": "stream",
     "text": [
      "3 10\n",
      "Oa and Ob index= 3    10\n",
      "d_ai= 7.0   d_ab= 12.0   d_ib= 10.0\n",
      "d_ai= 7.0   d_ab= 12.0   d_ib= 11.0\n",
      "d_ai= 0   d_ab= 12.0   d_ib= 12.0\n",
      "d_ai= 5.0   d_ab= 12.0   d_ib= 12.0\n",
      "d_ai= 6.0   d_ab= 12.0   d_ib= 11.0\n",
      "d_ai= 10.0   d_ab= 12.0   d_ib= 4.0\n",
      "d_ai= 6.0   d_ab= 12.0   d_ib= 11.0\n",
      "d_ai= 6.0   d_ab= 12.0   d_ib= 12.0\n",
      "d_ai= 6.0   d_ab= 12.0   d_ib= 11.0\n",
      "d_ai= 12.0   d_ab= 12.0   d_ib= 0\n",
      "[[ 3.875       0.        ]\n",
      " [ 3.          0.        ]\n",
      " [ 0.          0.        ]\n",
      " [ 1.04166667  0.        ]\n",
      " [ 2.45833333  0.        ]\n",
      " [ 9.5         0.        ]\n",
      " [ 2.45833333  0.        ]\n",
      " [ 1.5         0.        ]\n",
      " [ 2.45833333  0.        ]\n",
      " [12.          0.        ]]\n",
      "#######new_fastmap_data########\n",
      "[[ 1.          2.          3.90312375]\n",
      " [ 1.          3.          5.82961191]\n",
      " [ 1.          4.          5.28887722]\n",
      " [ 1.          5.          6.85514811]\n",
      " [ 1.          6.          4.16645833]\n",
      " [ 1.          7.          3.74072928]\n",
      " [ 1.          8.          5.50993421]\n",
      " [ 1.          9.          5.83035638]\n",
      " [ 1.         10.          5.82961191]\n",
      " [ 2.          3.          6.32455532]\n",
      " [ 2.          4.          6.72048589]\n",
      " [ 2.          5.          7.98164126]\n",
      " [ 2.          6.          6.2249498 ]\n",
      " [ 2.          7.          1.92525251]\n",
      " [ 2.          8.          7.85811682]\n",
      " [ 2.          9.          7.98164126]\n",
      " [ 2.         10.          6.32455532]\n",
      " [ 3.          4.          4.89028941]\n",
      " [ 3.          5.          5.47326203]\n",
      " [ 3.          6.          3.122499  ]\n",
      " [ 3.          7.          5.47326203]\n",
      " [ 3.          8.          5.80947502]\n",
      " [ 3.          9.          5.47326203]\n",
      " [ 3.         10.          0.        ]\n",
      " [ 4.          5.          1.4117562 ]\n",
      " [ 4.          6.          5.33447253]\n",
      " [ 4.          7.          6.85514811]\n",
      " [ 4.          8.          3.97365456]\n",
      " [ 4.          9.          4.79510746]\n",
      " [ 4.         10.          4.89028941]\n",
      " [ 5.          6.          7.10034721]\n",
      " [ 5.          7.          8.        ]\n",
      " [ 5.          8.          4.9073004 ]\n",
      " [ 5.          9.          4.        ]\n",
      " [ 5.         10.          5.47326203]\n",
      " [ 6.          7.          5.60490237]\n",
      " [ 6.          8.          6.        ]\n",
      " [ 6.          9.          5.60490237]\n",
      " [ 6.         10.          3.122499  ]\n",
      " [ 7.          8.          7.94239241]\n",
      " [ 7.          9.          8.        ]\n",
      " [ 7.         10.          5.47326203]\n",
      " [ 8.          9.          1.75544787]\n",
      " [ 8.         10.          5.80947502]\n",
      " [ 9.         10.          5.47326203]]\n",
      "5 7\n",
      "9 7\n",
      "Oa and Ob index= 9    7\n",
      "d_ai= 5.830356383237268   d_ab= 8.0   d_ib= 3.740729281243907\n",
      "d_ai= 7.981641261183205   d_ab= 8.0   d_ib= 1.9252525086913204\n",
      "d_ai= 5.473262027550136   d_ab= 8.0   d_ib= 5.473262027550136\n",
      "d_ai= 4.795107460271934   d_ab= 8.0   d_ib= 6.85514810602627\n",
      "d_ai= 4.0   d_ab= 8.0   d_ib= 8.0\n",
      "d_ai= 5.604902368066331   d_ab= 8.0   d_ib= 5.604902368066331\n",
      "d_ai= 8.0   d_ab= 8.0   d_ib= 0\n",
      "d_ai= 1.7554478694117412   d_ab= 8.0   d_ib= 7.942392411749889\n",
      "d_ai= 0   d_ab= 8.0   d_ib= 8.0\n",
      "d_ai= 5.4732620275501365   d_ab= 8.0   d_ib= 5.4732620275501365\n",
      "[[ 3.875       5.25      ]\n",
      " [ 3.          7.75      ]\n",
      " [ 0.          4.        ]\n",
      " [ 1.04166667  2.5       ]\n",
      " [ 2.45833333  1.        ]\n",
      " [ 9.5         4.        ]\n",
      " [ 2.45833333  8.        ]\n",
      " [ 1.5         0.25      ]\n",
      " [ 2.45833333  0.        ]\n",
      " [12.          4.        ]]\n",
      "#######new_fastmap_data########\n",
      "[[ 1.          2.          2.9973947 ]\n",
      " [ 1.          3.          5.69402099]\n",
      " [ 1.          4.          4.51771206]\n",
      " [ 1.          5.          5.37871319]\n",
      " [ 1.          6.          3.97452827]\n",
      " [ 1.          7.          2.53585401]\n",
      " [ 1.          8.          2.3150324 ]\n",
      " [ 1.          9.          2.53585401]\n",
      " [ 1.         10.          5.69402099]\n",
      " [ 2.          3.          5.0928872 ]\n",
      " [ 2.          4.          4.19552506]\n",
      " [ 2.          5.          4.25958886]\n",
      " [ 2.          6.          4.96865173]\n",
      " [ 2.          7.          1.90895186]\n",
      " [ 2.          8.          2.34520788]\n",
      " [ 2.          9.          1.90895186]\n",
      " [ 2.         10.          5.0928872 ]\n",
      " [ 3.          4.          4.65456019]\n",
      " [ 3.          5.          4.57783761]\n",
      " [ 3.          6.          3.122499  ]\n",
      " [ 3.          7.          3.73585294]\n",
      " [ 3.          8.          4.43705984]\n",
      " [ 3.          9.          3.73585294]\n",
      " [ 3.         10.          0.        ]\n",
      " [ 4.          5.                 nan]\n",
      " [ 4.          6.          5.11923795]\n",
      " [ 4.          7.          4.0918279 ]\n",
      " [ 4.          8.          3.27527565]\n",
      " [ 4.          9.          4.0918279 ]\n",
      " [ 4.         10.          4.65456019]\n",
      " [ 5.          6.          6.43544331]\n",
      " [ 5.          7.          3.87298335]\n",
      " [ 5.          8.          4.84964919]\n",
      " [ 5.          9.          3.87298335]\n",
      " [ 5.         10.          4.57783761]\n",
      " [ 6.          7.          3.92618524]\n",
      " [ 6.          8.          4.6837485 ]\n",
      " [ 6.          9.          3.92618524]\n",
      " [ 6.         10.          3.122499  ]\n",
      " [ 7.          8.          1.73755496]\n",
      " [ 7.          9.          0.        ]\n",
      " [ 7.         10.          3.73585294]\n",
      " [ 8.          9.          1.73755496]\n",
      " [ 8.         10.          4.43705984]\n",
      " [ 9.         10.          3.73585294]]\n"
     ]
    },
    {
     "name": "stderr",
     "output_type": "stream",
     "text": [
      "/Library/Frameworks/Python.framework/Versions/3.6/lib/python3.6/site-packages/ipykernel_launcher.py:28: RuntimeWarning: invalid value encountered in double_scalars\n"
     ]
    }
   ],
   "source": [
    "output_k_coordinate = np.zeros((len(fastmap_wordlist),2)) # k=2\n",
    "farthest_pair = np.zeros((2,2)) # the first 2 is Oa and Ob, the second 2 is k\n",
    "# coordinate_idx = -1\n",
    "new_fastmap_data = fastmap_data.copy() \n",
    "result = FastMap(2, fastmap_data, fastmap_wordlist, -1)"
   ]
  },
  {
   "cell_type": "code",
   "execution_count": 142,
   "metadata": {},
   "outputs": [
    {
     "data": {
      "text/plain": [
       "array([ 3.875     ,  3.        ,  0.        ,  1.04166667,  2.45833333,\n",
       "        9.5       ,  2.45833333,  1.5       ,  2.45833333, 12.        ])"
      ]
     },
     "execution_count": 142,
     "metadata": {},
     "output_type": "execute_result"
    }
   ],
   "source": [
    "result[:,0]"
   ]
  },
  {
   "cell_type": "code",
   "execution_count": 143,
   "metadata": {},
   "outputs": [
    {
     "data": {
      "image/png": "[encoded data removed]",
      "text/plain": [
       "<Figure size 432x288 with 1 Axes>"
      ]
     },
     "metadata": {
      "needs_background": "light"
     },
     "output_type": "display_data"
    }
   ],
   "source": [
    "x = result[:,0]\n",
    "y = result[:,1]\n",
    "plt.plot(x,y,'o')\n",
    "for xx,yy,word in zip(x,y,fastmap_wordlist):\n",
    "    plt.annotate(word,(xx,yy))"
   ]
  },
  {
   "cell_type": "code",
   "execution_count": 187,
   "metadata": {},
   "outputs": [
    {
     "data": {
      "text/plain": [
       "3.0"
      ]
     },
     "execution_count": 187,
     "metadata": {},
     "output_type": "execute_result"
    }
   ],
   "source": [
    "# output_k_coordinate[new_fastmap_data[0][0]-1][coordinate_idx]\n",
    "# output_k_coordinate[int(new_fastmap_data[0][0]-1)][0]\n",
    "output_k_coordinate[int(new_fastmap_data[0][1]-1)][0]"
   ]
  },
  {
   "cell_type": "code",
   "execution_count": 186,
   "metadata": {},
   "outputs": [
    {
     "name": "stdout",
     "output_type": "stream",
     "text": [
      "[1. 2. 4.]\n",
      "[1. 3. 7.]\n",
      "[1. 4. 6.]\n",
      "[1. 5. 7.]\n",
      "[1. 6. 7.]\n",
      "[1. 7. 4.]\n",
      "[1. 8. 6.]\n",
      "[1. 9. 6.]\n",
      "[ 1. 10. 10.]\n",
      "[2. 3. 7.]\n",
      "[2. 4. 7.]\n",
      "[2. 5. 8.]\n",
      "[2. 6. 9.]\n",
      "[2. 7. 2.]\n",
      "[2. 8. 8.]\n",
      "[2. 9. 8.]\n",
      "[ 2. 10. 11.]\n",
      "[3. 4. 5.]\n",
      "[3. 5. 6.]\n",
      "[ 3.  6. 10.]\n",
      "[3. 7. 6.]\n",
      "[3. 8. 6.]\n",
      "[3. 9. 6.]\n",
      "[ 3. 10. 12.]\n",
      "[4. 5. 2.]\n",
      "[ 4.  6. 10.]\n",
      "[4. 7. 7.]\n",
      "[4. 8. 4.]\n",
      "[4. 9. 5.]\n",
      "[ 4. 10. 12.]\n",
      "[ 5.  6. 10.]\n",
      "[5. 7. 8.]\n",
      "[5. 8. 5.]\n",
      "[5. 9. 4.]\n",
      "[ 5. 10. 11.]\n",
      "[6. 7. 9.]\n",
      "[ 6.  8. 10.]\n",
      "[6. 9. 9.]\n",
      "[ 6. 10.  4.]\n",
      "[7. 8. 8.]\n",
      "[7. 9. 8.]\n",
      "[ 7. 10. 11.]\n",
      "[8. 9. 2.]\n",
      "[ 8. 10. 12.]\n",
      "[ 9. 10. 11.]\n"
     ]
    }
   ],
   "source": [
    "for row in new_fastmap_data:\n",
    "    print(row)"
   ]
  },
  {
   "cell_type": "code",
   "execution_count": null,
   "metadata": {},
   "outputs": [],
   "source": []
  },
  {
   "cell_type": "code",
   "execution_count": 664,
   "metadata": {},
   "outputs": [],
   "source": [
    "# # Oa = \n",
    "# Oa = fastmap_wordlist[int(fastmap_data[23][0]-1)]\n",
    "# # Ob = \n",
    "# Ob = fastmap_wordlist[int(fastmap_data[23][1]-1)]\n",
    "# print(Oa,Ob)"
   ]
  },
  {
   "cell_type": "code",
   "execution_count": 42,
   "metadata": {},
   "outputs": [],
   "source": [
    "def find_max_distance_pair(fastmap_data):\n",
    "    idx = np.argmax(fastmap_data[:,-1])\n",
    "    Oa = fastmap_wordlist[int(fastmap_data[idx][0]-1)]\n",
    "    Ob = fastmap_wordlist[int(fastmap_data[idx][1]-1)]\n",
    "    return Oa,Ob,fastmap_data[idx][2]"
   ]
  },
  {
   "cell_type": "code",
   "execution_count": 43,
   "metadata": {},
   "outputs": [
    {
     "data": {
      "text/plain": [
       "('compute', 'international', 12.0)"
      ]
     },
     "execution_count": 43,
     "metadata": {},
     "output_type": "execute_result"
    }
   ],
   "source": [
    "Oa,Ob,max_d = find_max_distance_pair(fastmap_data)\n",
    "Oa,Ob,max_d"
   ]
  },
  {
   "cell_type": "code",
   "execution_count": 32,
   "metadata": {},
   "outputs": [],
   "source": [
    "def distance(obj1, obj2, fastmap_data):\n",
    "#     idx_obj1 = fastmap_wordlist.index(obj1)\n",
    "#     idx_obj2 = fastmap_wordlist.index(obj2)\n",
    "    idx = []\n",
    "    idx.append(fastmap_wordlist.index(obj1)+1)\n",
    "    idx.append(fastmap_wordlist.index(obj2)+1)\n",
    "    idx.sort()\n",
    "#     print(idx)\n",
    "    for idx_objs in range(len(fastmap_data)):\n",
    "#         print(fastmap_data[:,0][idx_objs], idx[0], fastmap_data[:,1][idx_objs], idx[1])\n",
    "#         print(idx_objs)\n",
    "        if fastmap_data[:,0][idx_objs]==idx[0] and fastmap_data[:,1][idx_objs]==idx[1]:\n",
    "#             print('IN')\n",
    "#             print(fastmap_data[:,2][idx_objs])\n",
    "            d = fastmap_data[:,2][idx_objs]\n",
    "            return d\n",
    "        else:\n",
    "            d = 0\n",
    "    return d"
   ]
  },
  {
   "cell_type": "code",
   "execution_count": 33,
   "metadata": {},
   "outputs": [
    {
     "data": {
      "text/plain": [
       "4.0"
      ]
     },
     "execution_count": 33,
     "metadata": {},
     "output_type": "execute_result"
    }
   ],
   "source": [
    "distance('acting','activist',fastmap_data)"
   ]
  },
  {
   "cell_type": "code",
   "execution_count": 34,
   "metadata": {},
   "outputs": [],
   "source": [
    "\n",
    "# x = []\n",
    "# for obj in fastmap_wordlist:\n",
    "# #     print(obj)\n",
    "# #     print(Oa)\n",
    "#     d_ai = distance(Oa, obj, fastmap_data)\n",
    "#     d_ab = distance(Oa, Ob, fastmap_data)\n",
    "#     d_ib = distance(Ob, obj, fastmap_data)\n",
    "# #     print('d_ai',d_ai,'d_ab',d_ab,'d_ib',d_ib)\n",
    "#     xi = (d_ai**2+d_ab**2-d_ib**2)/(2*d_ab)\n",
    "#     x.append(xi)"
   ]
  },
  {
   "cell_type": "code",
   "execution_count": 35,
   "metadata": {},
   "outputs": [],
   "source": [
    "def calculate_coordinate(Oa, Ob, fastmap_data):\n",
    "    x = []\n",
    "    for obj in fastmap_wordlist:\n",
    "        d_ai = distance(Oa, obj, fastmap_data)\n",
    "        d_ab = distance(Oa, Ob, fastmap_data)\n",
    "        d_ib = distance(Ob, obj, fastmap_data)\n",
    "        xi = (d_ai**2+d_ab**2-d_ib**2)/(2*d_ab)\n",
    "        x.append(xi)\n",
    "    return x"
   ]
  },
  {
   "cell_type": "code",
   "execution_count": 36,
   "metadata": {},
   "outputs": [
    {
     "ename": "NameError",
     "evalue": "name 'Oa' is not defined",
     "output_type": "error",
     "traceback": [
      "\u001b[0;31m---------------------------------------------------------------------------\u001b[0m",
      "\u001b[0;31mNameError\u001b[0m                                 Traceback (most recent call last)",
      "\u001b[0;32m<ipython-input-36-75e4e29dbbe0>\u001b[0m in \u001b[0;36m<module>\u001b[0;34m\u001b[0m\n\u001b[0;32m----> 1\u001b[0;31m \u001b[0mx\u001b[0m \u001b[0;34m=\u001b[0m \u001b[0mcalculate_coordinate\u001b[0m\u001b[0;34m(\u001b[0m\u001b[0mOa\u001b[0m\u001b[0;34m,\u001b[0m \u001b[0mOb\u001b[0m\u001b[0;34m,\u001b[0m \u001b[0mfastmap_data\u001b[0m\u001b[0;34m)\u001b[0m\u001b[0;34m\u001b[0m\u001b[0;34m\u001b[0m\u001b[0m\n\u001b[0m\u001b[1;32m      2\u001b[0m \u001b[0mx\u001b[0m\u001b[0;34m\u001b[0m\u001b[0;34m\u001b[0m\u001b[0m\n",
      "\u001b[0;31mNameError\u001b[0m: name 'Oa' is not defined"
     ]
    }
   ],
   "source": [
    "x = calculate_coordinate(Oa, Ob, fastmap_data)\n",
    "x"
   ]
  },
  {
   "cell_type": "code",
   "execution_count": 22,
   "metadata": {},
   "outputs": [],
   "source": [
    "def new_distance(obj1, obj2, fastmap_data, x):\n",
    "    d_old = distance(obj1, obj2, fastmap_data)\n",
    "    x_obj1 = x[fastmap_wordlist.index(obj1)]\n",
    "    x_obj2 = x[fastmap_wordlist.index(obj2)]\n",
    "#     print(d_old,x_obj1,x_obj2)\n",
    "    d_new = (d_old**2-(x_obj1-x_obj2)**2)**0.5\n",
    "    return d_new    "
   ]
  },
  {
   "cell_type": "code",
   "execution_count": 23,
   "metadata": {},
   "outputs": [
    {
     "ename": "NameError",
     "evalue": "name 'fastmap_data' is not defined",
     "output_type": "error",
     "traceback": [
      "\u001b[0;31m---------------------------------------------------------------------------\u001b[0m",
      "\u001b[0;31mNameError\u001b[0m                                 Traceback (most recent call last)",
      "\u001b[0;32m<ipython-input-23-79bf1dffe52a>\u001b[0m in \u001b[0;36m<module>\u001b[0;34m\u001b[0m\n\u001b[0;32m----> 1\u001b[0;31m \u001b[0md_new\u001b[0m \u001b[0;34m=\u001b[0m \u001b[0mnew_distance\u001b[0m\u001b[0;34m(\u001b[0m\u001b[0;34m'acting'\u001b[0m\u001b[0;34m,\u001b[0m\u001b[0;34m'activist'\u001b[0m\u001b[0;34m,\u001b[0m \u001b[0mfastmap_data\u001b[0m\u001b[0;34m,\u001b[0m \u001b[0mx\u001b[0m\u001b[0;34m)\u001b[0m\u001b[0;34m\u001b[0m\u001b[0;34m\u001b[0m\u001b[0m\n\u001b[0m\u001b[1;32m      2\u001b[0m \u001b[0md_new\u001b[0m\u001b[0;34m\u001b[0m\u001b[0;34m\u001b[0m\u001b[0m\n",
      "\u001b[0;31mNameError\u001b[0m: name 'fastmap_data' is not defined"
     ]
    }
   ],
   "source": [
    "d_new = new_distance('acting','activist', fastmap_data, x)\n",
    "d_new"
   ]
  },
  {
   "cell_type": "code",
   "execution_count": 672,
   "metadata": {},
   "outputs": [],
   "source": [
    "def update_fastmap_data(fastmap_data):\n",
    "    new_fastmap_data = []\n",
    "    for col1 in range(len(fastmap_wordlist)):\n",
    "        for col2 in range(col1+1, len(fastmap_wordlist)):\n",
    "            d_new = new_distance(fastmap_wordlist[col1],fastmap_wordlist[col2],fastmap_data,x)\n",
    "            new_fastmap_data.append([col1+1,col2+1,d_new])\n",
    "    return np.array(new_fastmap_data)"
   ]
  },
  {
   "cell_type": "code",
   "execution_count": 673,
   "metadata": {},
   "outputs": [
    {
     "data": {
      "text/plain": [
       "array([[ 1.        ,  2.        ,  3.90312375],\n",
       "       [ 1.        ,  3.        ,  5.82961191],\n",
       "       [ 1.        ,  4.        ,  5.28887722],\n",
       "       [ 1.        ,  5.        ,  6.85514811],\n",
       "       [ 1.        ,  6.        ,  4.16645833],\n",
       "       [ 1.        ,  7.        ,  3.74072928],\n",
       "       [ 1.        ,  8.        ,  5.50993421],\n",
       "       [ 1.        ,  9.        ,  5.83035638],\n",
       "       [ 1.        , 10.        ,  5.82961191],\n",
       "       [ 2.        ,  3.        ,  6.32455532],\n",
       "       [ 2.        ,  4.        ,  6.72048589],\n",
       "       [ 2.        ,  5.        ,  7.98164126],\n",
       "       [ 2.        ,  6.        ,  6.2249498 ],\n",
       "       [ 2.        ,  7.        ,  1.92525251],\n",
       "       [ 2.        ,  8.        ,  7.85811682],\n",
       "       [ 2.        ,  9.        ,  7.98164126],\n",
       "       [ 2.        , 10.        ,  6.32455532],\n",
       "       [ 3.        ,  4.        ,  4.89028941],\n",
       "       [ 3.        ,  5.        ,  5.47326203],\n",
       "       [ 3.        ,  6.        ,  3.122499  ],\n",
       "       [ 3.        ,  7.        ,  5.47326203],\n",
       "       [ 3.        ,  8.        ,  5.80947502],\n",
       "       [ 3.        ,  9.        ,  5.47326203],\n",
       "       [ 3.        , 10.        ,  0.        ],\n",
       "       [ 4.        ,  5.        ,  1.4117562 ],\n",
       "       [ 4.        ,  6.        ,  5.33447253],\n",
       "       [ 4.        ,  7.        ,  6.85514811],\n",
       "       [ 4.        ,  8.        ,  3.97365456],\n",
       "       [ 4.        ,  9.        ,  4.79510746],\n",
       "       [ 4.        , 10.        ,  4.89028941],\n",
       "       [ 5.        ,  6.        ,  7.10034721],\n",
       "       [ 5.        ,  7.        ,  8.        ],\n",
       "       [ 5.        ,  8.        ,  4.9073004 ],\n",
       "       [ 5.        ,  9.        ,  4.        ],\n",
       "       [ 5.        , 10.        ,  5.47326203],\n",
       "       [ 6.        ,  7.        ,  5.60490237],\n",
       "       [ 6.        ,  8.        ,  6.        ],\n",
       "       [ 6.        ,  9.        ,  5.60490237],\n",
       "       [ 6.        , 10.        ,  3.122499  ],\n",
       "       [ 7.        ,  8.        ,  7.94239241],\n",
       "       [ 7.        ,  9.        ,  8.        ],\n",
       "       [ 7.        , 10.        ,  5.47326203],\n",
       "       [ 8.        ,  9.        ,  1.75544787],\n",
       "       [ 8.        , 10.        ,  5.80947502],\n",
       "       [ 9.        , 10.        ,  5.47326203]])"
      ]
     },
     "execution_count": 673,
     "metadata": {},
     "output_type": "execute_result"
    }
   ],
   "source": [
    "new_fastmap_data = update_fastmap_data(fastmap_data)\n",
    "new_fastmap_data"
   ]
  },
  {
   "cell_type": "code",
   "execution_count": 674,
   "metadata": {},
   "outputs": [
    {
     "data": {
      "text/plain": [
       "31"
      ]
     },
     "execution_count": 674,
     "metadata": {},
     "output_type": "execute_result"
    }
   ],
   "source": [
    "fastmap_data2 = np.array(fastmap_data2)\n",
    "np.argmax(fastmap_data2[:,-1])"
   ]
  },
  {
   "cell_type": "code",
   "execution_count": 675,
   "metadata": {},
   "outputs": [
    {
     "name": "stdout",
     "output_type": "stream",
     "text": [
      "31\n"
     ]
    },
    {
     "data": {
      "text/plain": [
       "array([5., 7., 8.])"
      ]
     },
     "execution_count": 675,
     "metadata": {},
     "output_type": "execute_result"
    }
   ],
   "source": [
    "test = np.array(new_fastmap_data)\n",
    "print(np.argmax(test[:,-1]))\n",
    "new_fastmap_data[31] #forward and activity"
   ]
  },
  {
   "cell_type": "code",
   "execution_count": 676,
   "metadata": {},
   "outputs": [
    {
     "data": {
      "text/plain": [
       "('forward', 'activity', 8.0)"
      ]
     },
     "execution_count": 676,
     "metadata": {},
     "output_type": "execute_result"
    }
   ],
   "source": [
    "Oa,Ob,max_d = find_max_distance_pair(new_fastmap_data)\n",
    "Oa,Ob,max_d"
   ]
  },
  {
   "cell_type": "code",
   "execution_count": null,
   "metadata": {},
   "outputs": [],
   "source": []
  },
  {
   "cell_type": "code",
   "execution_count": 677,
   "metadata": {},
   "outputs": [
    {
     "data": {
      "text/plain": [
       "[6.0625,\n",
       " 7.749999999999999,\n",
       " 4.0,\n",
       " 1.1875,\n",
       " 0.0,\n",
       " 5.1875,\n",
       " 8.0,\n",
       " 1.5624999999999996,\n",
       " 1.0,\n",
       " 4.0]"
      ]
     },
     "execution_count": 677,
     "metadata": {},
     "output_type": "execute_result"
    }
   ],
   "source": [
    "y = []\n",
    "\n",
    "for obj in fastmap_wordlist:\n",
    "#     print(obj)\n",
    "#     print(Oa)\n",
    "    d_ai = distance(Oa, obj, new_fastmap_data)\n",
    "    d_ab = distance(Oa, Ob, new_fastmap_data)\n",
    "    d_ib = distance(Ob, obj, new_fastmap_data)\n",
    "#     print('d_ai',d_ai,'d_ab',d_ab,'d_ib',d_ib)\n",
    "    yi = (d_ai**2+d_ab**2-d_ib**2)/(2*d_ab)\n",
    "    y.append(yi)\n",
    "y"
   ]
  },
  {
   "cell_type": "code",
   "execution_count": 687,
   "metadata": {},
   "outputs": [
    {
     "data": {
      "image/png": "[encoded data removed]",
      "text/plain": [
       "<Figure size 432x288 with 1 Axes>"
      ]
     },
     "metadata": {
      "needs_background": "light"
     },
     "output_type": "display_data"
    }
   ],
   "source": [
    "plt.plot(x,y,'o')\n",
    "for xx,yy,word in zip(x,y,fastmap_wordlist):\n",
    "    plt.annotate(word,(xx,yy))"
   ]
  },
  {
   "cell_type": "code",
   "execution_count": null,
   "metadata": {},
   "outputs": [],
   "source": [
    "def FastMap():\n",
    "    "
   ]
  },
  {
   "cell_type": "code",
   "execution_count": null,
   "metadata": {},
   "outputs": [],
   "source": []
  },
  {
   "cell_type": "code",
   "execution_count": null,
   "metadata": {},
   "outputs": [],
   "source": []
  },
  {
   "cell_type": "code",
   "execution_count": null,
   "metadata": {},
   "outputs": [],
   "source": []
  },
  {
   "cell_type": "code",
   "execution_count": 482,
   "metadata": {},
   "outputs": [],
   "source": [
    "import itertools\n",
    "y = []\n",
    "fastmap_data2 = []\n",
    "\n",
    "for objs in fastmap_wordlist:\n",
    "    "
   ]
  },
  {
   "cell_type": "code",
   "execution_count": 486,
   "metadata": {},
   "outputs": [
    {
     "data": {
      "text/plain": [
       "100"
      ]
     },
     "execution_count": 486,
     "metadata": {},
     "output_type": "execute_result"
    }
   ],
   "source": [
    "import itertools\n",
    "list(itertools.combinations(fastmap_wordlist, 2))"
   ]
  },
  {
   "cell_type": "code",
   "execution_count": 497,
   "metadata": {},
   "outputs": [
    {
     "data": {
      "text/plain": [
       "'acting'"
      ]
     },
     "execution_count": 497,
     "metadata": {},
     "output_type": "execute_result"
    }
   ],
   "source": [
    "list(itertools.combinations(fastmap_wordlist, 2))[0][0]"
   ]
  },
  {
   "cell_type": "code",
   "execution_count": 510,
   "metadata": {},
   "outputs": [
    {
     "name": "stdout",
     "output_type": "stream",
     "text": [
      "1\n",
      "2\n",
      "3\n",
      "4\n",
      "5\n",
      "6\n",
      "7\n",
      "8\n",
      "9\n"
     ]
    }
   ],
   "source": [
    "for i in range(1,10):\n",
    "    print(i)"
   ]
  },
  {
   "cell_type": "code",
   "execution_count": null,
   "metadata": {},
   "outputs": [],
   "source": []
  }
 ],
 "metadata": {
  "kernelspec": {
   "display_name": "Python 3",
   "language": "python",
   "name": "python3"
  },
  "language_info": {
   "codemirror_mode": {
    "name": "ipython",
    "version": 3
   },
   "file_extension": ".py",
   "mimetype": "text/x-python",
   "name": "python",
   "nbconvert_exporter": "python",
   "pygments_lexer": "ipython3",
   "version": "3.6.8"
  }
 },
 "nbformat": 4,
 "nbformat_minor": 2
}
