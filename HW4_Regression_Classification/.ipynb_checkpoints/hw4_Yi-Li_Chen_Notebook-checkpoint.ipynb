{
 "cells": [
  {
   "cell_type": "code",
   "execution_count": 1,
   "metadata": {},
   "outputs": [],
   "source": [
    "import csv\n",
    "import numpy as np\n",
    "from sklearn.metrics import accuracy_score\n",
    "import random\n",
    "import matplotlib.pyplot as plt\n",
    "import math"
   ]
  },
  {
   "cell_type": "markdown",
   "metadata": {},
   "source": [
    "## Perceptron Learning algorithm"
   ]
  },
  {
   "cell_type": "markdown",
   "metadata": {},
   "source": [
    "[2 points] Implement the Perceptron Learning algorithm. Run it on the data file \"classification.txt\" ignoring the 5th column. That is, consider only the first 4 columns in each row. The first 3 columns are the coordinates of a point; and the 4th column is its classification label +1 or -1. Report your results (weights and accuracy after the final iteration)."
   ]
  },
  {
   "cell_type": "code",
   "execution_count": 2,
   "metadata": {},
   "outputs": [],
   "source": [
    "data = []\n",
    "with open('classification.txt') as f:\n",
    "    file = csv.reader(f)\n",
    "    for line in file:\n",
    "        data.append(line)\n",
    "data = np.array(data).astype('float64')"
   ]
  },
  {
   "cell_type": "code",
   "execution_count": 3,
   "metadata": {},
   "outputs": [],
   "source": [
    "def perceptron_learning_ALG(x, y_true, alpha):\n",
    "    w = np.zeros(len(x[0]))\n",
    "    iteration = 0\n",
    "    yhat = -1*(x.dot(w) < 0) + 1*(x.dot(w) >= 0)\n",
    "    while  np.any(yhat != y_true):\n",
    "        for idx in range(len(x)):\n",
    "            z = x[idx].dot(w)\n",
    "            if y_true[idx]==1 and z<0:\n",
    "                w = w + alpha*x[idx]\n",
    "                break\n",
    "            if y_true[idx]==-1 and z>=0:\n",
    "                w = w - alpha*x[idx]\n",
    "                break\n",
    "        yhat = -1*(x.dot(w) < 0) + 1*(x.dot(w) >= 0)\n",
    "        iteration+=1\n",
    "    acc = accuracy_score(y_true, yhat)\n",
    "    return iteration, w, acc"
   ]
  },
  {
   "cell_type": "code",
   "execution_count": 4,
   "metadata": {},
   "outputs": [
    {
     "data": {
      "text/plain": [
       "(23884, array([ 0.        , 11.33717993, -9.11213384, -6.78511535]), 1.0)"
      ]
     },
     "execution_count": 4,
     "metadata": {},
     "output_type": "execute_result"
    }
   ],
   "source": [
    "data_points = data[:,:3]\n",
    "yi = data[:,3]\n",
    "xi = np.concatenate((np.ones((len(data_points),1)), data_points), axis=1)\n",
    "iteration, w, acc = perceptron_learning_ALG(xi, yi, 0.1)\n",
    "iteration, w, acc"
   ]
  },
  {
   "cell_type": "markdown",
   "metadata": {},
   "source": [
    "## Pocket algorithm"
   ]
  },
  {
   "cell_type": "markdown",
   "metadata": {},
   "source": [
    "[1 point] Implement the Pocket algorithm and run it on the data file \"classification.txt\" ignoring the 4th column. That is, consider only the first 3 columns and the 5th column in each row. The first 3 columns are the coordinates of a point; and the 5th column is its classification label +1 or -1. Plot the number of misclassified points against the number of iterations of the algorithm. Run up to 7000 iterations. Also, report your results (weights and accuracy after the final iteration)."
   ]
  },
  {
   "cell_type": "code",
   "execution_count": 178,
   "metadata": {},
   "outputs": [],
   "source": [
    "data = []\n",
    "with open('classification.txt') as f:\n",
    "    file = csv.reader(f)\n",
    "    for line in file:\n",
    "        data.append(line)\n",
    "data = np.array(data).astype('float64')"
   ]
  },
  {
   "cell_type": "code",
   "execution_count": 179,
   "metadata": {},
   "outputs": [],
   "source": [
    "def sign(z):\n",
    "    yhat = -1*(z < 0) + 1*(z >= 0)\n",
    "    return yhat"
   ]
  },
  {
   "cell_type": "code",
   "execution_count": 180,
   "metadata": {},
   "outputs": [],
   "source": [
    "def find_all_diff(w, x, y):\n",
    "    zi = x.dot(w)\n",
    "    yhat = sign(zi)\n",
    "    all_diff_idx = np.where(yhat!=y)[0]\n",
    "    return all_diff_idx"
   ]
  },
  {
   "cell_type": "markdown",
   "metadata": {},
   "source": [
    "#### ALG1: Only update w when w' makes fewer mistakes than w"
   ]
  },
  {
   "cell_type": "code",
   "execution_count": 181,
   "metadata": {},
   "outputs": [],
   "source": [
    "def pocket_ALG(x, y_true, alpha, iteration_num):\n",
    "    w = np.zeros(len(x[0]))\n",
    "    w_diff_idx = find_all_diff(w, x, y_true)\n",
    "    violated_amount = []\n",
    "    for i in range(iteration_num):\n",
    "        violated_amount.append(len(w_diff_idx))\n",
    "        diff_idx = random.choice(w_diff_idx)\n",
    "        w2 = w + alpha*y_true[diff_idx]*x[diff_idx]\n",
    "        w2_diff_idx = find_all_diff(w2, x, y_true)\n",
    "        if len(w2_diff_idx) < len(w_diff_idx):\n",
    "            w = w2.copy()\n",
    "            w_diff_idx = w2_diff_idx.copy()\n",
    "    zi = x.dot(w)\n",
    "    yhat = sign(zi)\n",
    "    acc = accuracy_score(y_true, yhat)\n",
    "    return w, w_diff_idx, acc, violated_amount, yhat"
   ]
  },
  {
   "cell_type": "code",
   "execution_count": 190,
   "metadata": {
    "scrolled": true
   },
   "outputs": [
    {
     "data": {
      "text/plain": [
       "(array([-0.03939309,  0.01602407,  0.03825117]), 0.519)"
      ]
     },
     "execution_count": 190,
     "metadata": {},
     "output_type": "execute_result"
    }
   ],
   "source": [
    "data_points = data[:,:3]\n",
    "y = data[:,4]\n",
    "x = np.concatenate((np.ones((len(data_points),1)), data_points), axis=1)\n",
    "w, w_diff_idx, acc, violated_amount, yhat = pocket_ALG(data_points, y, 0.1, 7000)\n",
    "w, acc"
   ]
  },
  {
   "cell_type": "code",
   "execution_count": 191,
   "metadata": {},
   "outputs": [
    {
     "data": {
      "image/png": "[encoded data removed]",
      "text/plain": [
       "<Figure size 432x288 with 1 Axes>"
      ]
     },
     "metadata": {
      "needs_background": "light"
     },
     "output_type": "display_data"
    }
   ],
   "source": [
    "x = [i for i in range(1,7001)]\n",
    "y = violated_amount\n",
    "plt.plot(x,y)\n",
    "plt.xlabel('ALG iterations')\n",
    "plt.ylabel('Number of violated constraints')\n",
    "plt.show()"
   ]
  },
  {
   "cell_type": "markdown",
   "metadata": {},
   "source": [
    "#### ALG2: Randomly pick one that is wrong and update w everytime, but remember the w that have least wrong prediction"
   ]
  },
  {
   "cell_type": "code",
   "execution_count": 159,
   "metadata": {},
   "outputs": [],
   "source": [
    "def pocket_ALG(x, y_true, alpha, iteration_num):\n",
    "    w = np.zeros(len(x[0]))\n",
    "    w_diff_idx = find_all_diff(w, x, y_true)\n",
    "    violated_amount = []\n",
    "    w_diff_least = len(y)\n",
    "    for i in range(iteration_num):\n",
    "        violated_amount.append(len(w_diff_idx))\n",
    "        diff_idx = random.choice(w_diff_idx)\n",
    "        w = w + alpha*y_true[diff_idx]*x[diff_idx]\n",
    "        w_diff_idx = find_all_diff(w, x, y_true)\n",
    "        if len(w_diff_idx) < w_diff_least:\n",
    "            w_diff_least = len(w_diff_idx)\n",
    "            w_best = w\n",
    "    zi = x.dot(w)\n",
    "    yhat = sign(zi)\n",
    "    acc = accuracy_score(y_true, yhat)\n",
    "    return w_best, w_diff_idx, acc, violated_amount, yhat"
   ]
  },
  {
   "cell_type": "code",
   "execution_count": 160,
   "metadata": {},
   "outputs": [
    {
     "data": {
      "text/plain": [
       "(array([-0.08792977,  0.06165034,  0.01638292]), 0.494)"
      ]
     },
     "execution_count": 160,
     "metadata": {},
     "output_type": "execute_result"
    }
   ],
   "source": [
    "data_points = data[:,:3]\n",
    "y = data[:,4]\n",
    "x = np.concatenate((np.ones((len(data_points),1)), data_points), axis=1)\n",
    "w_best, w_diff_idx, acc, violated_amount, yhat = pocket_ALG(data_points, y, 0.1, 7000)\n",
    "w_best, acc"
   ]
  },
  {
   "cell_type": "code",
   "execution_count": 161,
   "metadata": {},
   "outputs": [
    {
     "data": {
      "image/png": "[encoded data removed]",
      "text/plain": [
       "<Figure size 432x288 with 1 Axes>"
      ]
     },
     "metadata": {
      "needs_background": "light"
     },
     "output_type": "display_data"
    }
   ],
   "source": [
    "x = [i for i in range(1,7001)]\n",
    "y = violated_amount\n",
    "plt.plot(x,y)\n",
    "plt.xlabel('ALG iterations')\n",
    "plt.ylabel('Number of violated constraints')\n",
    "plt.show()"
   ]
  },
  {
   "cell_type": "markdown",
   "metadata": {},
   "source": [
    "## Logistic Regression"
   ]
  },
  {
   "cell_type": "markdown",
   "metadata": {},
   "source": [
    "[3 points] Implement Logistic Regression and run it on the points in the data file \"classification.txt\" ignoring the 4th column. That is, consider only the first 3 columns and the 5th column in each row. The first 3 columns are the coordinates of a point; and the 5th column is its classification label +1 or -1. Use the sigmoid function Ɵ(s) = es/(1+es). Run up to 7000 iterations. Report your results (weights and accuracy after the final iteration)."
   ]
  },
  {
   "cell_type": "code",
   "execution_count": 162,
   "metadata": {},
   "outputs": [],
   "source": [
    "data = []\n",
    "with open('classification.txt') as f:\n",
    "    file = csv.reader(f)\n",
    "    for line in file:\n",
    "        data.append(line)\n",
    "data = np.array(data).astype('float64')"
   ]
  },
  {
   "cell_type": "code",
   "execution_count": 164,
   "metadata": {},
   "outputs": [],
   "source": [
    "def sigmoid(s):\n",
    "    z = np.exp(s)/(1+np.exp(s))\n",
    "    return z"
   ]
  },
  {
   "cell_type": "code",
   "execution_count": 165,
   "metadata": {},
   "outputs": [],
   "source": [
    "def gradient_Ein(w, xi, yi):\n",
    "    sum2=0\n",
    "    for x,y in zip(xi,yi):\n",
    "        sum2 += y*x*(1/(1+np.exp(y*x.dot(w))))\n",
    "    return sum2*(-1/len(xi))"
   ]
  },
  {
   "cell_type": "code",
   "execution_count": 168,
   "metadata": {},
   "outputs": [],
   "source": [
    "def Logistic_Reg(xi, yi, alpha, iteration_num):\n",
    "    w = np.zeros(len(xi[0]))\n",
    "    for i in range(iteration_num):\n",
    "        w = w - alpha*gradient_Ein(w, xi, yi)\n",
    "    s = xi.dot(w)\n",
    "    theta = sigmoid(s)\n",
    "    yhat = -1*(theta < 0.5) + 1*(theta >= 0.5)\n",
    "    acc = accuracy_score(yi, yhat)\n",
    "    return w, acc, yhat, theta"
   ]
  },
  {
   "cell_type": "code",
   "execution_count": 169,
   "metadata": {},
   "outputs": [
    {
     "data": {
      "text/plain": [
       "(array([-0.03149498, -0.17769975,  0.11444872,  0.07669738]), 0.5295)"
      ]
     },
     "execution_count": 169,
     "metadata": {},
     "output_type": "execute_result"
    }
   ],
   "source": [
    "data_points = data[:,:3]\n",
    "yi = data[:,4]\n",
    "xi = np.concatenate((np.ones((len(data_points),1)), data_points), axis=1)\n",
    "w, acc, yhat, theta = Logistic_Reg(xi, yi, 0.1, 7000)\n",
    "w, acc"
   ]
  },
  {
   "cell_type": "markdown",
   "metadata": {},
   "source": [
    "## Linear Regression"
   ]
  },
  {
   "cell_type": "markdown",
   "metadata": {},
   "source": [
    "[1 point] Implement Linear Regression and run it on the points in the data file \"linear-regression.txt\". The first 2 columns in each row represent the independent X and Y variables; and the 3rd column represents the dependent Z variable. Report your results (weights after the final iteration)."
   ]
  },
  {
   "cell_type": "code",
   "execution_count": 170,
   "metadata": {},
   "outputs": [],
   "source": [
    "data = []\n",
    "with open('linear-regression.txt') as f:\n",
    "    file = csv.reader(f)\n",
    "    for line in file:\n",
    "        data.append(line)\n",
    "data = np.array(data).astype('float64')"
   ]
  },
  {
   "cell_type": "code",
   "execution_count": 173,
   "metadata": {},
   "outputs": [],
   "source": [
    "def Linear_Reg(xi, yi):\n",
    "    DDT = xi.transpose().dot(xi)\n",
    "    DDT_inv = np.linalg.inv(DDT)\n",
    "    w = DDT_inv.dot(xi.transpose()).dot(yi)\n",
    "    return w"
   ]
  },
  {
   "cell_type": "code",
   "execution_count": 174,
   "metadata": {},
   "outputs": [
    {
     "data": {
      "text/plain": [
       "array([0.01523535, 1.08546357, 3.99068855])"
      ]
     },
     "execution_count": 174,
     "metadata": {},
     "output_type": "execute_result"
    }
   ],
   "source": [
    "data_points = data[:,:2]\n",
    "yi = data[:,2]\n",
    "xi = np.concatenate((np.ones((len(data_points),1)), data_points), axis=1)\n",
    "w = Linear_Reg(xi, yi)\n",
    "w"
   ]
  }
 ],
 "metadata": {
  "kernelspec": {
   "display_name": "Python 3",
   "language": "python",
   "name": "python3"
  },
  "language_info": {
   "codemirror_mode": {
    "name": "ipython",
    "version": 3
   },
   "file_extension": ".py",
   "mimetype": "text/x-python",
   "name": "python",
   "nbconvert_exporter": "python",
   "pygments_lexer": "ipython3",
   "version": "3.6.8"
  }
 },
 "nbformat": 4,
 "nbformat_minor": 2
}
