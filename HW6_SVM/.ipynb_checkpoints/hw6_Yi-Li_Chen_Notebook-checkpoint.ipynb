{
 "cells": [
  {
   "cell_type": "code",
   "execution_count": 12,
   "metadata": {},
   "outputs": [],
   "source": [
    "import csv\n",
    "import numpy as np\n",
    "import matplotlib.pyplot as plt\n",
    "from cvxopt import matrix, solvers"
   ]
  },
  {
   "cell_type": "markdown",
   "metadata": {},
   "source": [
    "## Part (a) [3.5 points]: \n",
    "Find the fattest margin line that separates the points in linsep.txt. Please solve the problem using a Quadratic Programming solver. Report the equation of the line as well as the support vectors."
   ]
  },
  {
   "cell_type": "code",
   "execution_count": 115,
   "metadata": {},
   "outputs": [],
   "source": [
    "linesp_data = []\n",
    "with open('linsep.txt') as f:\n",
    "    file = csv.reader(f)\n",
    "    for line in file:\n",
    "        linesp_data.append(line)\n",
    "linesp_data = np.array(linesp_data).astype('float64')"
   ]
  },
  {
   "cell_type": "code",
   "execution_count": 116,
   "metadata": {},
   "outputs": [],
   "source": [
    "X = linesp_data[:,:2]\n",
    "y = linesp_data[:,2]\n",
    "n_samples, n_features = X.shape"
   ]
  },
  {
   "cell_type": "code",
   "execution_count": 117,
   "metadata": {},
   "outputs": [],
   "source": [
    "# Q = y y X^T X\n",
    "K = np.zeros((n_samples, n_samples))\n",
    "for i in range(n_samples):\n",
    "    for j in range(n_samples):\n",
    "        K[i,j] = np.dot(X[i], X[j])\n",
    "Q = matrix(np.outer(y, y) * K)"
   ]
  },
  {
   "cell_type": "code",
   "execution_count": 118,
   "metadata": {},
   "outputs": [],
   "source": [
    "q = matrix(np.ones((n_samples, 1)) * -1)\n",
    "A = matrix(y.reshape(1, -1))\n",
    "b = matrix(np.zeros(1))          \n",
    "G = matrix(np.eye(n_samples) * -1)\n",
    "h = matrix(np.zeros(n_samples))"
   ]
  },
  {
   "cell_type": "code",
   "execution_count": 119,
   "metadata": {},
   "outputs": [
    {
     "name": "stdout",
     "output_type": "stream",
     "text": [
      "     pcost       dcost       gap    pres   dres\n",
      " 0: -2.0636e+01 -4.3905e+01  3e+02  2e+01  2e+00\n",
      " 1: -2.2372e+01 -3.7202e+01  9e+01  5e+00  5e-01\n",
      " 2: -2.3112e+01 -3.8857e+01  5e+01  2e+00  2e-01\n",
      " 3: -2.8318e+01 -3.3963e+01  1e+01  4e-01  4e-02\n",
      " 4: -3.2264e+01 -3.3927e+01  2e+00  1e-02  1e-03\n",
      " 5: -3.3568e+01 -3.3764e+01  2e-01  1e-03  1e-04\n",
      " 6: -3.3737e+01 -3.3739e+01  2e-03  1e-05  1e-06\n",
      " 7: -3.3739e+01 -3.3739e+01  2e-05  1e-07  1e-08\n",
      " 8: -3.3739e+01 -3.3739e+01  2e-07  1e-09  1e-10\n",
      "Optimal solution found.\n"
     ]
    }
   ],
   "source": [
    "solution = solvers.qp(Q, q, G, h, A, b)\n",
    "# find the support vectors\n",
    "alphas = np.array(solution['x'])\n",
    "idx = (alphas > 1e-4).flatten()\n",
    "sv = X[idx]\n",
    "sv_y = y[idx]\n",
    "alphas = alphas[idx]"
   ]
  },
  {
   "cell_type": "code",
   "execution_count": 120,
   "metadata": {},
   "outputs": [
    {
     "name": "stdout",
     "output_type": "stream",
     "text": [
      "---alphas---\n",
      "[[33.73875192]\n",
      " [ 1.29468506]\n",
      " [32.4440672 ]]\n",
      "-----sv-----\n",
      "[[0.24979414 0.18230306]\n",
      " [0.3917889  0.96675591]\n",
      " [0.02066458 0.27003158]]\n",
      "----sv_y----\n",
      "[ 1. -1. -1.]\n"
     ]
    }
   ],
   "source": [
    "# print the support vector\n",
    "print('---alphas---')\n",
    "print(alphas)\n",
    "print('-----sv-----')\n",
    "print(sv)\n",
    "print('----sv_y----')\n",
    "print(sv_y)"
   ]
  },
  {
   "cell_type": "code",
   "execution_count": 121,
   "metadata": {},
   "outputs": [
    {
     "data": {
      "text/plain": [
       "array([ 7.25005616, -3.86188932])"
      ]
     },
     "execution_count": 121,
     "metadata": {},
     "output_type": "execute_result"
    }
   ],
   "source": [
    "# Calculate w (exclude alpha = 0)\n",
    "w = np.zeros(n_features)\n",
    "for n in range(len(alphas)):\n",
    "    w += alphas[n]*sv_y[n]*sv[n]\n",
    "w"
   ]
  },
  {
   "cell_type": "code",
   "execution_count": 102,
   "metadata": {},
   "outputs": [
    {
     "data": {
      "text/plain": [
       "-0.1069872903246214"
      ]
     },
     "execution_count": 102,
     "metadata": {},
     "output_type": "execute_result"
    }
   ],
   "source": [
    "# Calculate b\n",
    "b = sv_y[0] - np.dot(sv[0], w)\n",
    "b"
   ]
  },
  {
   "cell_type": "markdown",
   "metadata": {},
   "source": [
    "### Plot the SV and plane"
   ]
  },
  {
   "cell_type": "code",
   "execution_count": 103,
   "metadata": {},
   "outputs": [
    {
     "data": {
      "image/png": "[encoded data removed]",
      "text/plain": [
       "<Figure size 432x288 with 1 Axes>"
      ]
     },
     "metadata": {
      "needs_background": "light"
     },
     "output_type": "display_data"
    }
   ],
   "source": [
    "# plot all data points and mark them respectively\n",
    "pos_idx = np.where(linesp_data[:,2]==1)\n",
    "neg_idx = np.where(linesp_data[:,2]==-1)\n",
    "X_pos = linesp_data[pos_idx]\n",
    "X_neg = linesp_data[neg_idx]\n",
    "plt.scatter(X_pos[:,0], X_pos[:,1], marker = 'o', color = 'b', label = 'Positive +1')\n",
    "plt.scatter(X_neg[:,0], X_neg[:,1], marker = 'x', color = 'r', label = 'Negative -1')\n",
    "# plot maximum margin separating hyperplane\n",
    "x_plane = np.linspace(-1,1,100)\n",
    "y_plane = (-b-w[0]*x_plane)/w[1]\n",
    "plt.plot(x_plane, y_plane, color='black')\n",
    "plt.plot(x_plane, (1/w[1])+y_plane, '--', color='black')\n",
    "plt.plot(x_plane, (-1/w[1])+y_plane, '--', color='black')\n",
    "# circle the support vecotor(sv)\n",
    "plt.scatter(sv[:,0], sv[:,1], s=150, facecolors='none', edgecolors='k')\n",
    "plt.xlim(-0.025, 1.025)\n",
    "plt.ylim(-0.025, 1.025)\n",
    "plt.show()"
   ]
  },
  {
   "cell_type": "code",
   "execution_count": null,
   "metadata": {},
   "outputs": [],
   "source": []
  },
  {
   "cell_type": "markdown",
   "metadata": {},
   "source": [
    "# Part (b) [3.5 points]: \n",
    "Using a kernel function of your choice along with the same Quadratic Programming solver, find the equation of a curve that separates the points in nonlinsep.txt. Report the kernel function you use as well as the support vectors."
   ]
  },
  {
   "cell_type": "code",
   "execution_count": 161,
   "metadata": {},
   "outputs": [],
   "source": [
    "nonlinesp_data = []\n",
    "with open('nonlinsep.txt') as f:\n",
    "    file = csv.reader(f)\n",
    "    for line in file:\n",
    "        nonlinesp_data.append(line)\n",
    "nonlinesp_data = np.array(nonlinesp_data).astype('float64')"
   ]
  },
  {
   "cell_type": "code",
   "execution_count": 162,
   "metadata": {},
   "outputs": [],
   "source": [
    "X = nonlinesp_data[:,:2]\n",
    "y = nonlinesp_data[:,2]\n",
    "n_samples, n_features = X.shape"
   ]
  },
  {
   "cell_type": "code",
   "execution_count": 163,
   "metadata": {},
   "outputs": [],
   "source": [
    "def RBF_kernel_function(x1, x2, gamma=0.01):\n",
    "    return np.exp(-gamma * np.linalg.norm(x1 - x2) ** 2)"
   ]
  },
  {
   "cell_type": "code",
   "execution_count": 164,
   "metadata": {},
   "outputs": [],
   "source": [
    "# new Q from kernel function(K)\n",
    "K = np.zeros((n_samples, n_samples))\n",
    "for i in range(n_samples):\n",
    "    for j in range(n_samples):\n",
    "        K[i,j] = RBF_kernel_function(X[i], X[j])\n",
    "Q = matrix(np.outer(y, y) * K)"
   ]
  },
  {
   "cell_type": "code",
   "execution_count": 165,
   "metadata": {},
   "outputs": [],
   "source": [
    "q = matrix(np.ones((n_samples, 1)) * -1)\n",
    "A = matrix(y.reshape(1, -1))\n",
    "b = matrix(np.zeros(1))          \n",
    "G = matrix(np.eye(n_samples) * -1)\n",
    "h = matrix(np.zeros(n_samples))"
   ]
  },
  {
   "cell_type": "code",
   "execution_count": 166,
   "metadata": {},
   "outputs": [
    {
     "name": "stdout",
     "output_type": "stream",
     "text": [
      "     pcost       dcost       gap    pres   dres\n",
      " 0: -1.6406e+01 -4.8454e+01  3e+02  1e+01  2e+00\n",
      " 1: -3.2833e+01 -6.7668e+01  1e+02  4e+00  8e-01\n",
      " 2: -9.1774e+01 -1.2550e+02  1e+02  4e+00  8e-01\n",
      " 3: -1.8108e+02 -2.2278e+02  1e+02  3e+00  5e-01\n",
      " 4: -1.8669e+02 -2.0570e+02  4e+01  6e-01  1e-01\n",
      " 5: -1.8547e+02 -1.8731e+02  3e+00  3e-02  6e-03\n",
      " 6: -1.8616e+02 -1.8620e+02  6e-02  4e-04  6e-05\n",
      " 7: -1.8619e+02 -1.8619e+02  6e-04  4e-06  7e-07\n",
      " 8: -1.8619e+02 -1.8619e+02  6e-06  4e-08  7e-09\n",
      "Optimal solution found.\n"
     ]
    }
   ],
   "source": [
    "solution = solvers.qp(Q, q, G, h, A, b)\n",
    "alphas = np.array(solution['x'])\n",
    "# find the support vectors\n",
    "ind = (alphas > 1e-4).flatten()\n",
    "sv = X[ind]\n",
    "sv_y = y[ind]\n",
    "alphas = alphas[ind]"
   ]
  },
  {
   "cell_type": "code",
   "execution_count": 167,
   "metadata": {},
   "outputs": [
    {
     "name": "stdout",
     "output_type": "stream",
     "text": [
      "---alphas---\n",
      "[[  4.90610978]\n",
      " [154.79716375]\n",
      " [  6.06570051]\n",
      " [ 11.36810383]\n",
      " [  9.05592846]\n",
      " [ 16.36480164]\n",
      " [141.11823703]\n",
      " [  9.22492878]\n",
      " [ 12.26624767]\n",
      " [  7.21879402]]\n",
      "-----sv-----\n",
      "[[ 12.74780931   0.19913032]\n",
      " [-10.260969     2.07391791]\n",
      " [  1.66404809  12.68562818]\n",
      " [  1.3393313  -10.29098822]\n",
      " [  9.67917724   4.3759541 ]\n",
      " [ -9.53754332  -0.51895777]\n",
      " [ -9.46760885   2.36139525]\n",
      " [  0.20162846  -8.81260121]\n",
      " [  9.90143538  -0.31483149]\n",
      " [  4.27289989   8.67079427]]\n",
      "----sv_y----\n",
      "[ 1.  1.  1.  1.  1. -1. -1. -1. -1. -1.]\n"
     ]
    }
   ],
   "source": [
    "# print the support vector\n",
    "print('---alphas---')\n",
    "print(alphas)\n",
    "print('-----sv-----')\n",
    "print(sv)\n",
    "print('----sv_y----')\n",
    "print(sv_y)"
   ]
  },
  {
   "cell_type": "code",
   "execution_count": 154,
   "metadata": {},
   "outputs": [
    {
     "data": {
      "image/png": "[encoded data removed]",
      "text/plain": [
       "<Figure size 432x288 with 1 Axes>"
      ]
     },
     "metadata": {
      "needs_background": "light"
     },
     "output_type": "display_data"
    }
   ],
   "source": [
    "# plot all data points and mark them respectively\n",
    "pos_idx = np.where(nonlinesp_data[:,2]==1)\n",
    "neg_idx = np.where(nonlinesp_data[:,2]==-1)\n",
    "X_pos = nonlinesp_data[pos_idx]\n",
    "X_neg = nonlinesp_data[neg_idx]\n",
    "plt.scatter(X_pos[:,0], X_pos[:,1], marker = 'o', color = 'b', label = 'Positive +1')\n",
    "plt.scatter(X_neg[:,0], X_neg[:,1], marker = 'x', color = 'r', label = 'Negative -1')\n",
    "# circle the support vecotor(sv)\n",
    "plt.scatter(sv[:,0], sv[:,1], s=150, facecolors='none', edgecolors='k')\n",
    "plt.show()"
   ]
  },
  {
   "cell_type": "code",
   "execution_count": null,
   "metadata": {},
   "outputs": [],
   "source": []
  }
 ],
 "metadata": {
  "file_extension": ".py",
  "kernelspec": {
   "display_name": "'Python Interactive'",
   "language": "python",
   "name": "ab685acf-2bf2-4bcd-95ee-ca12abba8189"
  },
  "language_info": {
   "codemirror_mode": {
    "name": "ipython",
    "version": 3
   },
   "file_extension": ".py",
   "mimetype": "text/x-python",
   "name": "python",
   "nbconvert_exporter": "python",
   "pygments_lexer": "ipython3",
   "version": "3.6.8"
  },
  "mimetype": "text/x-python",
  "name": "python",
  "npconvert_exporter": "python",
  "pygments_lexer": "ipython3",
  "version": 3
 },
 "nbformat": 4,
 "nbformat_minor": 2
}
