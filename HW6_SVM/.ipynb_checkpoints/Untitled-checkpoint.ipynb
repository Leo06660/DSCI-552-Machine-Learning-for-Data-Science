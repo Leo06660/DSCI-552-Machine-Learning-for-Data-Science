{
 "cells": [
  {
   "cell_type": "code",
   "execution_count": 1,
   "metadata": {},
   "outputs": [],
   "source": [
    "import csv\n",
    "import numpy as np\n",
    "from sklearn.metrics import accuracy_score\n",
    "import random\n",
    "import matplotlib.pyplot as plt"
   ]
  },
  {
   "cell_type": "code",
   "execution_count": 10,
   "metadata": {},
   "outputs": [
    {
     "data": {
      "text/plain": [
       "array([[ 0.84195828,  0.85016774,  1.        ],\n",
       "       [ 0.23307747,  0.86884518, -1.        ],\n",
       "       [ 0.23918196,  0.81585285, -1.        ],\n",
       "       [ 0.93477399,  0.65732897,  1.        ],\n",
       "       [ 0.99876689,  0.32412814,  1.        ],\n",
       "       [ 0.34064056,  0.18106445,  1.        ]])"
      ]
     },
     "execution_count": 10,
     "metadata": {},
     "output_type": "execute_result"
    }
   ],
   "source": [
    "linesp_data = []\n",
    "with open('linsep.txt') as f:\n",
    "    file = csv.reader(f)\n",
    "    for line in file:\n",
    "        linesp_data.append(line)\n",
    "linesp_data = np.array(linesp_data).astype('float64')\n",
    "linesp_data[:6]"
   ]
  },
  {
   "cell_type": "code",
   "execution_count": 11,
   "metadata": {},
   "outputs": [
    {
     "data": {
      "text/plain": [
       "array([[ 13.14703274, -19.8118231 ,   1.        ],\n",
       "       [ 10.24592717,   7.95373492,   1.        ],\n",
       "       [-20.56769507,   8.68464484,   1.        ],\n",
       "       [-13.58465635,  21.94036504,   1.        ],\n",
       "       [-14.23121874,   8.57661163,   1.        ],\n",
       "       [ -8.47422847,   5.15621613,  -1.        ]])"
      ]
     },
     "execution_count": 11,
     "metadata": {},
     "output_type": "execute_result"
    }
   ],
   "source": [
    "nonlinesp_data = []\n",
    "with open('nonlinsep.txt') as f:\n",
    "    file = csv.reader(f)\n",
    "    for line in file:\n",
    "        nonlinesp_data.append(line)\n",
    "nonlinesp_data = np.array(nonlinesp_data).astype('float64')\n",
    "nonlinesp_data[:6]"
   ]
  },
  {
   "cell_type": "code",
   "execution_count": null,
   "metadata": {},
   "outputs": [],
   "source": []
  }
 ],
 "metadata": {
  "kernelspec": {
   "display_name": "Python 3",
   "language": "python",
   "name": "python3"
  },
  "language_info": {
   "codemirror_mode": {
    "name": "ipython",
    "version": 3
   },
   "file_extension": ".py",
   "mimetype": "text/x-python",
   "name": "python",
   "nbconvert_exporter": "python",
   "pygments_lexer": "ipython3",
   "version": "3.6.8"
  }
 },
 "nbformat": 4,
 "nbformat_minor": 2
}
