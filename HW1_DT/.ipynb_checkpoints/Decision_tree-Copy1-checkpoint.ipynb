{
 "cells": [
  {
   "cell_type": "code",
   "execution_count": 272,
   "metadata": {},
   "outputs": [],
   "source": [
    "import pandas as pd\n",
    "from math import log "
   ]
  },
  {
   "cell_type": "markdown",
   "metadata": {},
   "source": [
    "# PART1"
   ]
  },
  {
   "cell_type": "markdown",
   "metadata": {},
   "source": [
    "## (a)"
   ]
  },
  {
   "cell_type": "code",
   "execution_count": 273,
   "metadata": {},
   "outputs": [],
   "source": [
    "def get_orginal_entropy(df, target):\n",
    "    orginal_e = 0\n",
    "    # The probs of enjoy and not enjoy\n",
    "    probs = df.groupby(target).size().div(len(df))\n",
    "    for p in probs:\n",
    "        orginal_e += -p*log(p, 2)\n",
    "    return orginal_e"
   ]
  },
  {
   "cell_type": "code",
   "execution_count": 274,
   "metadata": {},
   "outputs": [],
   "source": [
    "def get_feature_entropy(col_name, df, target): #Get entropy of each branch\n",
    "    feature_e = 0\n",
    "    # The probs of each categorized group \n",
    "    probs = df.groupby(col_name).size().div(len(df))\n",
    "    # iterate all groups and sum the entropy\n",
    "    for index_value, p_value in list(probs.items()):\n",
    "#         print(index_value, p_value)\n",
    "        # calculate each group probs\n",
    "        group_df = df[df[col_name] == index_value]\n",
    "        group_probs = group_df.groupby(target).size().div(len(group_df))\n",
    "        group_entropy=0 # remove the previous group's value\n",
    "        # Sum H(C|when x=xi)\n",
    "        for p in group_probs:\n",
    "            group_entropy += -p*log(p,2)\n",
    "#             print(group_entropy)\n",
    "        # Sum H(target|col_name)\n",
    "        feature_e += p_value * group_entropy\n",
    "#         print(feature_e)\n",
    "    return feature_e"
   ]
  },
  {
   "cell_type": "code",
   "execution_count": 275,
   "metadata": {},
   "outputs": [],
   "source": [
    "def get_max_info_gain(df, target):\n",
    "    d = {}\n",
    "    orginal_e = get_orginal_entropy(df, target)\n",
    "    all_col_name = list(df.columns)\n",
    "    all_col_name.pop(-1)\n",
    "    for col_name in all_col_name:\n",
    "        d[col_name] = orginal_e - get_feature_entropy(col_name, df, target)\n",
    "#     print(d)\n",
    "    return max(d, key=d.get)"
   ]
  },
  {
   "cell_type": "code",
   "execution_count": 276,
   "metadata": {},
   "outputs": [],
   "source": [
    "def split_df(df, best_feature):\n",
    "#     best_feature = get_max_info_gain(df,df['Enjoy'])\n",
    "    splitDict = {}\n",
    "    for k in df[best_feature].unique():\n",
    "        splitDict[k] = df[df[best_feature]==k].drop(columns=best_feature)\n",
    "    return splitDict"
   ]
  },
  {
   "cell_type": "code",
   "execution_count": 277,
   "metadata": {},
   "outputs": [],
   "source": [
    "def create_decision_tree(df, target):\n",
    "    \n",
    "#     print('###',df)\n",
    "    # if left only one type of label, return\n",
    "#     if len(df.iloc[:,-1].unique()) == 1:\n",
    "#         return df.iloc[:,-1].iloc[0]\n",
    "    # if the original_e less than threshold\n",
    "    if get_orginal_entropy(df, target) < 0.01:\n",
    "        return df.iloc[:,-1].value_counts().index[0]\n",
    "#     for col_name in list(df.columns):\n",
    "#         if get_feature_entropy(col_name, df, target) <= 0.01:\n",
    "#             return df.iloc[:,-1].value_counts().index[0]\n",
    "    # if left only one type of feature, then return\n",
    "    if len(df.columns) == 1:\n",
    "        last_col_name = df.columns[0]\n",
    "        return df[last_col_name].value_counts().index[0]\n",
    "    \n",
    "    # find max info gain of feature\n",
    "    fname = get_max_info_gain(df, target)\n",
    "    \n",
    "    node = {fname: {}}\n",
    "    \n",
    "    #build tree \n",
    "    df2 = split_df(df, fname)\n",
    "    for t,d in df2.items():#zip(df2.keys(),df2.values()):\n",
    "#         print(t,'   ',d)\n",
    "        node[fname][t] = create_decision_tree(d, d.iloc[:,-1])\n",
    "    \n",
    "    return node"
   ]
  },
  {
   "cell_type": "code",
   "execution_count": null,
   "metadata": {},
   "outputs": [],
   "source": []
  },
  {
   "cell_type": "markdown",
   "metadata": {},
   "source": [
    "## (b)"
   ]
  },
  {
   "cell_type": "code",
   "execution_count": 278,
   "metadata": {},
   "outputs": [],
   "source": [
    "df = pd.read_csv('dt_data.txt', sep=\",\", header=None)\n",
    "df = df.drop([0])\n",
    "df.columns = ['Occupied', 'Price', 'Music', 'Location', 'VIP', 'Favorite Beer', 'Enjoy']\n",
    "df = df.reset_index()\n",
    "df = df.drop(columns=['index'])\n",
    "for i in range(22):\n",
    "    df['Occupied'][i] = df['Occupied'][i].lstrip('0123456789: ')\n",
    "    df['Enjoy'][i] = df['Enjoy'][i].rstrip(';').lstrip(' ')\n",
    "    for j in range(6):\n",
    "        df.iloc[:,j][i] = df.iloc[:,j][i].lstrip(' ')"
   ]
  },
  {
   "cell_type": "code",
   "execution_count": 279,
   "metadata": {},
   "outputs": [
    {
     "data": {
      "text/plain": [
       "{'Occupied': {'High': {'Location': {'Talpiot': 'No',\n",
       "    'City-Center': 'Yes',\n",
       "    'Mahane-Yehuda': 'Yes',\n",
       "    'German-Colony': 'No'}},\n",
       "  'Moderate': {'Location': {'City-Center': 'Yes',\n",
       "    'German-Colony': {'VIP': {'No': 'No', 'Yes': 'Yes'}},\n",
       "    'Ein-Karem': 'Yes',\n",
       "    'Mahane-Yehuda': 'Yes',\n",
       "    'Talpiot': {'Price': {'Cheap': 'No', 'Normal': 'Yes'}}}},\n",
       "  'Low': {'Location': {'Ein-Karem': {'Price': {'Normal': 'No',\n",
       "      'Cheap': 'Yes'}},\n",
       "    'City-Center': {'Price': {'Cheap': 'No',\n",
       "      'Normal': {'Music': {'Quiet': {'VIP': {'No': {'Favorite Beer': {'No': 'No'}}}}}}}},\n",
       "    'Talpiot': 'No',\n",
       "    'Mahane-Yehuda': 'No'}}}}"
      ]
     },
     "execution_count": 279,
     "metadata": {},
     "output_type": "execute_result"
    }
   ],
   "source": [
    "tree_model = create_decision_tree(df, df['Enjoy'])\n",
    "tree_model"
   ]
  },
  {
   "cell_type": "code",
   "execution_count": 294,
   "metadata": {},
   "outputs": [
    {
     "name": "stdout",
     "output_type": "stream",
     "text": [
      "Occupied\n",
      "├── Location\n",
      "│   ├── No\n",
      "│   ├── No\n",
      "│   ├── Yes\n",
      "│   └── Yes\n",
      "├── Location\n",
      "├── Location\n",
      "└── Location\n",
      "\n"
     ]
    }
   ],
   "source": [
    "# !pip3 install treelib\n",
    "from treelib import Node, Tree\n",
    "tree = Tree()\n",
    "tree.create_node('Occupied', 'occupied')\n",
    "tree.create_node('Location', 'locationH', parent='occupied')\n",
    "tree.create_node('No', 'Talpiot', parent='locationH')\n",
    "tree.create_node('Yes', 'City-Center', parent='locationH')\n",
    "tree.create_node('Yes', 'Mahane-Yehuda', parent='locationH')\n",
    "tree.create_node('No', 'German-Colony', parent='locationH')\n",
    "\n",
    "tree.create_node('Location', 'locationM', parent='occupied')\n",
    "tree.create_node('Location', 'locationL', parent='occupied')\n",
    "tree.create_node('Location', 'location', parent='occupied')\n",
    "tree.show()"
   ]
  },
  {
   "cell_type": "markdown",
   "metadata": {},
   "source": [
    "## (c)"
   ]
  },
  {
   "cell_type": "code",
   "execution_count": 281,
   "metadata": {},
   "outputs": [],
   "source": [
    "def tree_predict(tree_model, feature_names, data):\n",
    "    key = list(tree_model.keys())[0]\n",
    "    tree_model = tree_model[key]\n",
    "\n",
    "    pred=None\n",
    "    for k in tree_model:\n",
    "\n",
    "        # find the corresponding attribute\n",
    "        if data[key][0] == k:\n",
    "            # judge is it dict or not\n",
    "            if isinstance(tree_model[k], dict):\n",
    "                # if yes, keep finding in the next dict inside\n",
    "                pred = tree_predict(tree_model[k], feature_names, data)\n",
    "            else:\n",
    "                # if no, return the label\n",
    "                pred = tree_model[k]\n",
    "    return pred"
   ]
  },
  {
   "cell_type": "code",
   "execution_count": 282,
   "metadata": {},
   "outputs": [
    {
     "data": {
      "text/html": [
       "<div>\n",
       "<style scoped>\n",
       "    .dataframe tbody tr th:only-of-type {\n",
       "        vertical-align: middle;\n",
       "    }\n",
       "\n",
       "    .dataframe tbody tr th {\n",
       "        vertical-align: top;\n",
       "    }\n",
       "\n",
       "    .dataframe thead th {\n",
       "        text-align: right;\n",
       "    }\n",
       "</style>\n",
       "<table border=\"1\" class=\"dataframe\">\n",
       "  <thead>\n",
       "    <tr style=\"text-align: right;\">\n",
       "      <th></th>\n",
       "      <th>Occupied</th>\n",
       "      <th>Price</th>\n",
       "      <th>Music</th>\n",
       "      <th>Location</th>\n",
       "      <th>VIP</th>\n",
       "      <th>Favorite Beer</th>\n",
       "    </tr>\n",
       "  </thead>\n",
       "  <tbody>\n",
       "    <tr>\n",
       "      <th>0</th>\n",
       "      <td>Moderate</td>\n",
       "      <td>Cheap</td>\n",
       "      <td>Loud</td>\n",
       "      <td>City-Center</td>\n",
       "      <td>No</td>\n",
       "      <td>No</td>\n",
       "    </tr>\n",
       "  </tbody>\n",
       "</table>\n",
       "</div>"
      ],
      "text/plain": [
       "   Occupied  Price Music     Location VIP Favorite Beer\n",
       "0  Moderate  Cheap  Loud  City-Center  No            No"
      ]
     },
     "execution_count": 282,
     "metadata": {},
     "output_type": "execute_result"
    }
   ],
   "source": [
    "data = pd.DataFrame(data = [['Moderate','Cheap','Loud','City-Center','No','No']],columns=['Occupied', 'Price', 'Music', 'Location', 'VIP', 'Favorite Beer'])\n",
    "data"
   ]
  },
  {
   "cell_type": "code",
   "execution_count": 283,
   "metadata": {},
   "outputs": [
    {
     "data": {
      "text/plain": [
       "'Yes'"
      ]
     },
     "execution_count": 283,
     "metadata": {},
     "output_type": "execute_result"
    }
   ],
   "source": [
    "tree_predict(tree_model, list(data.columns), data)"
   ]
  },
  {
   "cell_type": "code",
   "execution_count": 284,
   "metadata": {},
   "outputs": [
    {
     "data": {
      "text/plain": [
       "'Yes'"
      ]
     },
     "execution_count": 284,
     "metadata": {},
     "output_type": "execute_result"
    }
   ],
   "source": [
    "data = pd.DataFrame(\n",
    "    data = [['Moderate','Cheap','Loud','City-Center','No','No']],\n",
    "    columns=['Occupied', 'Price', 'Music', 'Location', 'VIP', 'Favorite Beer'])\n",
    "tree_predict(tree_model, list(data.columns), data)"
   ]
  },
  {
   "cell_type": "code",
   "execution_count": null,
   "metadata": {},
   "outputs": [],
   "source": []
  },
  {
   "cell_type": "code",
   "execution_count": null,
   "metadata": {},
   "outputs": [],
   "source": []
  },
  {
   "cell_type": "code",
   "execution_count": null,
   "metadata": {},
   "outputs": [],
   "source": []
  }
 ],
 "metadata": {
  "kernelspec": {
   "display_name": "Python 3",
   "language": "python",
   "name": "python3"
  },
  "language_info": {
   "codemirror_mode": {
    "name": "ipython",
    "version": 3
   },
   "file_extension": ".py",
   "mimetype": "text/x-python",
   "name": "python",
   "nbconvert_exporter": "python",
   "pygments_lexer": "ipython3",
   "version": "3.6.8"
  }
 },
 "nbformat": 4,
 "nbformat_minor": 2
}
