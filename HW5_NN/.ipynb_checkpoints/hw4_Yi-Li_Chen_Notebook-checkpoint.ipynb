{
 "cells": [
  {
   "cell_type": "code",
   "execution_count": 1,
   "metadata": {},
   "outputs": [
    {
     "name": "stdout",
     "output_type": "stream",
     "text": [
      "Requirement already satisfied: Pillow in /Library/Frameworks/Python.framework/Versions/3.6/lib/python3.6/site-packages (8.0.1)\n",
      "\u001b[33mWARNING: You are using pip version 19.1.1, however version 20.2.4 is available.\n",
      "You should consider upgrading via the 'pip install --upgrade pip' command.\u001b[0m\n"
     ]
    }
   ],
   "source": [
    "! pip3 install Pillow"
   ]
  },
  {
   "cell_type": "code",
   "execution_count": 2,
   "metadata": {},
   "outputs": [],
   "source": [
    "import csv\n",
    "import os\n",
    "from PIL import Image\n",
    "import numpy as np\n",
    "from sklearn.metrics import accuracy_score\n",
    "import random\n",
    "import matplotlib.pyplot as plt"
   ]
  },
  {
   "cell_type": "code",
   "execution_count": 3,
   "metadata": {},
   "outputs": [
    {
     "data": {
      "text/plain": [
       "83"
      ]
     },
     "execution_count": 3,
     "metadata": {},
     "output_type": "execute_result"
    }
   ],
   "source": [
    "test_down_labels = []\n",
    "with open('downgesture_test.list.txt') as f:\n",
    "    file = csv.reader(f)\n",
    "    for line in file:\n",
    "        test_down_labels.append(line[0])\n",
    "len(test_down_labels)"
   ]
  },
  {
   "cell_type": "code",
   "execution_count": 4,
   "metadata": {},
   "outputs": [
    {
     "data": {
      "text/plain": [
       "184"
      ]
     },
     "execution_count": 4,
     "metadata": {},
     "output_type": "execute_result"
    }
   ],
   "source": [
    "train_down_labels = []\n",
    "with open('downgesture_train.list.txt') as f:\n",
    "    file = csv.reader(f)\n",
    "    for line in file:\n",
    "        train_down_labels.append(line[0])\n",
    "len(train_down_labels)"
   ]
  },
  {
   "cell_type": "code",
   "execution_count": 5,
   "metadata": {},
   "outputs": [],
   "source": [
    "# 如何讀取資料夾 https://kk665403.pixnet.net/blog/post/405117823-python-filedir"
   ]
  },
  {
   "cell_type": "code",
   "execution_count": 6,
   "metadata": {},
   "outputs": [],
   "source": [
    "data_path = '/Users/leo/Desktop/Analytics/2020 Fall/DSCI552/HW5_1028due/gestures'"
   ]
  },
  {
   "cell_type": "markdown",
   "metadata": {},
   "source": [
    "Use os.walk to read: https://www.ewdna.com/2012/04/pythonoswalk.html"
   ]
  },
  {
   "cell_type": "markdown",
   "metadata": {},
   "source": [
    "# read data"
   ]
  },
  {
   "cell_type": "code",
   "execution_count": 314,
   "metadata": {
    "collapsed": true
   },
   "outputs": [
    {
     "name": "stdout",
     "output_type": "stream",
     "text": [
      "/Users/leo/Desktop/Analytics/2020 Fall/DSCI552/HW5_1028due/gestures/.DS_Store\n",
      "IS NOT FILE!\n",
      "gestures/I/I_down_2.pgm\n",
      "gestures/I/I_down_1.pgm\n",
      "gestures/I/I_hold_1.pgm\n",
      "gestures/I/I_down_7.pgm\n",
      "gestures/I/I_hold_6.pgm\n",
      "gestures/I/I_hold_7.pgm\n",
      "gestures/I/I_down_6.pgm\n",
      "gestures/I/I_up_7.pgm\n",
      "gestures/I/I_stop_7.pgm\n",
      "gestures/I/I_up_6.pgm\n",
      "gestures/I/I_up_1.pgm\n",
      "gestures/I/I_stop_1.pgm\n",
      "gestures/G/G_up_7.pgm\n",
      "gestures/G/G_up_6.pgm\n",
      "gestures/G/G_stop_1.pgm\n",
      "gestures/G/G_up_1.pgm\n",
      "gestures/G/G_stop_6.pgm\n",
      "gestures/G/G_stop_7.pgm\n",
      "gestures/G/G_down_6.pgm\n",
      "gestures/G/G_hold_6.pgm\n",
      "gestures/G/G_down_5.pgm\n",
      "gestures/G/G_hold_5.pgm\n",
      "gestures/G/G_down_4.pgm\n",
      "gestures/G/G_hold_1.pgm\n",
      "gestures/G/G_down_1.pgm\n",
      "gestures/A/A_stop_9.pgm\n",
      "gestures/A/A_up_3.pgm\n",
      "gestures/A/A_up_7.pgm\n",
      "gestures/A/A_up_6.pgm\n",
      "gestures/A/A_hold_9.pgm\n",
      "gestures/A/A_down_8.pgm\n",
      "gestures/A/A_up_4.pgm\n",
      "gestures/A/A_up_5.pgm\n",
      "gestures/A/A_down_9.pgm\n",
      "gestures/A/A_hold_8.pgm\n",
      "gestures/A/A_hold_5.pgm\n",
      "gestures/A/A_down_4.pgm\n",
      "gestures/A/A_up_8.pgm\n",
      "gestures/A/A_up_9.pgm\n",
      "gestures/A/A_hold_4.pgm\n",
      "gestures/A/A_down_7.pgm\n",
      "gestures/A/A_down_6.pgm\n",
      "gestures/A/A_hold_3.pgm\n",
      "gestures/A/A_up_12.pgm\n",
      "gestures/A/A_stop_6.pgm\n",
      "gestures/A/A_stop_5.pgm\n",
      "gestures/F/F_down_8.pgm\n",
      "gestures/F/F_up_5.pgm\n",
      "gestures/F/F_up_1.pgm\n",
      "gestures/F/F_up_2.pgm\n",
      "gestures/F/F_stop_6.pgm\n",
      "gestures/F/F_stop_7.pgm\n",
      "gestures/F/F_stop_1.pgm\n",
      "gestures/F/F_hold_3.pgm\n",
      "gestures/F/F_down_6.pgm\n",
      "gestures/F/F_hold_7.pgm\n",
      "gestures/F/F_down_7.pgm\n",
      "gestures/F/F_down_5.pgm\n",
      "gestures/F/F_hold_4.pgm\n",
      "gestures/H/H_down_5.pgm\n",
      "gestures/H/H_down_7.pgm\n",
      "gestures/H/H_hold_6.pgm\n",
      "gestures/H/H_hold_7.pgm\n",
      "gestures/H/H_down_6.pgm\n",
      "gestures/H/H_down_1.pgm\n",
      "gestures/H/H_hold_1.pgm\n",
      "gestures/H/H_stop_1.pgm\n",
      "gestures/H/H_stop_7.pgm\n",
      "gestures/H/H_up_6.pgm\n",
      "gestures/H/H_up_4.pgm\n",
      "gestures/H/H_up_1.pgm\n",
      "gestures/H/H_hold_9.pgm\n",
      "gestures/H/H_hold_8.pgm\n",
      "gestures/M/M_down_1.pgm\n",
      "gestures/M/M_hold_1.pgm\n",
      "gestures/M/M_down_2.pgm\n",
      "gestures/M/M_hold_2.pgm\n",
      "gestures/M/M_down_3.pgm\n",
      "gestures/M/M_up_6.pgm\n",
      "gestures/M/M_up_2.pgm\n",
      "gestures/M/M_hold_6.pgm\n",
      "gestures/M/M_down_7.pgm\n",
      "gestures/M/M_up_3.pgm\n",
      "gestures/M/M_up_1.pgm\n",
      "gestures/M/M_hold_5.pgm\n",
      "gestures/M/M_down_4.pgm\n",
      "gestures/M/M_stop_4.pgm\n",
      "gestures/M/M_stop_5.pgm\n",
      "gestures/M/M_stop_2.pgm\n",
      "gestures/M/M_stop_3.pgm\n",
      "gestures/M/M_stop_1.pgm\n",
      "gestures/M/M_stop_8.pgm\n",
      "gestures/M/M_stop_9.pgm\n",
      "gestures/M/M_down_8.pgm\n",
      "gestures/J/J_stop_1.pgm\n",
      "gestures/J/J_stop_3.pgm\n",
      "gestures/J/J_stop_2.pgm\n",
      "gestures/J/J_stop_6.pgm\n",
      "gestures/J/J_up_3.pgm\n",
      "gestures/J/J_hold_6.pgm\n",
      "gestures/J/J_down_7.pgm\n",
      "gestures/J/J_down_2.pgm\n",
      "gestures/J/J_up_7.pgm\n",
      "gestures/J/J_hold_1.pgm\n",
      "gestures/J/J_down_1.pgm\n",
      "gestures/J/J_up_6.pgm\n",
      "gestures/J/J_down_8.pgm\n",
      "gestures/J/J_stop_9.pgm\n",
      "gestures/C/C_stop_6.pgm\n",
      "gestures/C/C_stop_5.pgm\n",
      "gestures/C/C_stop_4.pgm\n",
      "gestures/C/C_down_5.pgm\n",
      "gestures/C/C_up_5.pgm\n",
      "gestures/C/C_down_6.pgm\n",
      "gestures/C/C_up_6.pgm\n",
      "gestures/C/C_hold_3.pgm\n",
      "gestures/D/D_hold_3.pgm\n",
      "gestures/D/D_down_3.pgm\n",
      "gestures/D/D_up_4.pgm\n",
      "gestures/D/D_up_5.pgm\n",
      "gestures/D/D_hold_7.pgm\n",
      "gestures/D/D_down_6.pgm\n",
      "gestures/D/D_hold_5.pgm\n",
      "gestures/D/D_up_6.pgm\n",
      "gestures/D/D_hold_4.pgm\n",
      "gestures/D/D_stop_4.pgm\n",
      "gestures/D/D_stop_6.pgm\n",
      "gestures/D/D_stop_3.pgm\n",
      "gestures/E/E_down_7.pgm\n",
      "gestures/E/E_hold_6.pgm\n",
      "gestures/E/E_down_6.pgm\n",
      "gestures/E/E_down_2.pgm\n",
      "gestures/E/E_stop_3.pgm\n",
      "gestures/E/E_up_8.pgm\n",
      "gestures/E/E_up_9.pgm\n",
      "gestures/E/E_stop_6.pgm\n",
      "gestures/E/E_up_3.pgm\n",
      "gestures/E/E_up_4.pgm\n",
      "gestures/E/E_up_5.pgm\n",
      "gestures/B/B_stop_4.pgm\n",
      "gestures/B/B_stop_3.pgm\n",
      "gestures/B/B_hold_3.pgm\n",
      "gestures/B/B_hold_4.pgm\n",
      "gestures/B/B_down_5.pgm\n",
      "gestures/B/B_hold_5.pgm\n",
      "gestures/B/B_down_6.pgm\n",
      "gestures/B/B_down_7.pgm\n",
      "gestures/B/B_hold_6.pgm\n",
      "gestures/B/B_up_5.pgm\n",
      "gestures/B/B_up_7.pgm\n",
      "gestures/B/B_up_6.pgm\n",
      "gestures/K/K_hold_8.pgm\n",
      "gestures/K/K_hold_9.pgm\n",
      "gestures/K/K_down_8.pgm\n",
      "gestures/K/K_up_2.pgm\n",
      "gestures/K/K_up_3.pgm\n",
      "gestures/K/K_up_1.pgm\n",
      "gestures/K/K_stop_8.pgm\n",
      "gestures/K/K_up_7.pgm\n",
      "gestures/K/K_up_6.pgm\n",
      "gestures/K/K_stop_6.pgm\n",
      "gestures/K/K_stop_7.pgm\n",
      "gestures/K/K_stop_3.pgm\n",
      "gestures/K/K_down_1.pgm\n",
      "gestures/K/K_down_5.pgm\n",
      "gestures/K/K_hold_4.pgm\n",
      "gestures/K/K_hold_7.pgm\n",
      "gestures/L/L_up_4.pgm\n",
      "gestures/L/L_up_6.pgm\n",
      "gestures/L/L_up_2.pgm\n",
      "gestures/L/L_up_3.pgm\n",
      "gestures/L/L_down_8.pgm\n",
      "gestures/L/L_hold_6.pgm\n",
      "gestures/L/L_down_6.pgm\n",
      "gestures/L/L_hold_5.pgm\n",
      "gestures/L/L_down_1.pgm\n",
      "gestures/L/L_hold_1.pgm\n",
      "gestures/L/L_down_2.pgm\n",
      "gestures/L/L_hold_2.pgm\n",
      "gestures/L/L_down_3.pgm\n",
      "gestures/L/L_stop_2.pgm\n",
      "gestures/L/L_stop_3.pgm\n",
      "gestures/L/L_stop_1.pgm\n",
      "gestures/L/L_stop_4.pgm\n"
     ]
    }
   ],
   "source": [
    "all_files = os.listdir(data_path)\n",
    "training_imgs_data = []\n",
    "training_imgs_label = []\n",
    "for folder in all_files:\n",
    "#     print(folder)\n",
    "    folder_path = os.path.join(data_path,folder)\n",
    "    # check if it is foler\n",
    "    if os.path.isdir(folder_path):\n",
    "        all_imgs = os.listdir(folder_path)\n",
    "        for img_name in all_imgs:\n",
    "#             print(img_name)\n",
    "            name = 'gestures/'+folder+'/'+img_name\n",
    "#             print(name)\n",
    "            if name in train_down_labels:\n",
    "                print(name)\n",
    "                img_path = os.path.join(folder_path,img_name)\n",
    "                img  = Image.open(img_path)\n",
    "                img_bytes = np.array(img)\n",
    "                img_gray_scale = img_bytes/255\n",
    "                training_imgs_data.append(img_gray_scale.flatten())\n",
    "                if 'down' in name:\n",
    "                    training_imgs_label.append(1)\n",
    "                else:\n",
    "                    training_imgs_label.append(0)\n",
    "    else:\n",
    "        print(folder_path)\n",
    "        print('IS NOT FILE!')\n",
    "training_imgs_data = np.array(training_imgs_data)\n",
    "training_imgs_label = np.array(training_imgs_label)"
   ]
  },
  {
   "cell_type": "code",
   "execution_count": 11,
   "metadata": {},
   "outputs": [],
   "source": [
    "def read_imgs(data_path, train_down_labels):\n",
    "    all_files = os.listdir(data_path)\n",
    "    training_imgs_data = []\n",
    "    training_imgs_label = []\n",
    "    for folder in all_files:\n",
    "        folder_path = os.path.join(data_path,folder)\n",
    "        # check if it is foler\n",
    "        if os.path.isdir(folder_path):\n",
    "            all_imgs = os.listdir(folder_path)\n",
    "            for img_name in all_imgs:\n",
    "                name = 'gestures/'+folder+'/'+img_name\n",
    "                if name in train_down_labels:\n",
    "                    img_path = os.path.join(folder_path,img_name)\n",
    "                    img  = Image.open(img_path)\n",
    "                    img_bytes = np.array(img)\n",
    "                    img_gray_scale = img_bytes/255\n",
    "                    training_imgs_data.append(img_gray_scale.flatten())\n",
    "                    if 'down' in name:\n",
    "                        training_imgs_label.append(1)\n",
    "                    else:\n",
    "                        training_imgs_label.append(0)\n",
    "    return np.array(training_imgs_data), np.array(training_imgs_label)"
   ]
  },
  {
   "cell_type": "code",
   "execution_count": 12,
   "metadata": {},
   "outputs": [
    {
     "name": "stdout",
     "output_type": "stream",
     "text": [
      "(184, 960)\n",
      "(184,)\n"
     ]
    }
   ],
   "source": [
    "training_imgs_data, training_imgs_label = read_imgs(data_path, train_down_labels)\n",
    "print(training_imgs_data.shape)\n",
    "print(training_imgs_label.shape)"
   ]
  },
  {
   "cell_type": "code",
   "execution_count": 13,
   "metadata": {},
   "outputs": [],
   "source": [
    "# training_imgs_data.shape"
   ]
  },
  {
   "cell_type": "code",
   "execution_count": 29,
   "metadata": {},
   "outputs": [],
   "source": [
    "ytrain = training_imgs_label\n",
    "Xtrain = np.concatenate((np.ones((len(training_imgs_data),1)), training_imgs_data), axis=1)\n",
    "# Xtrain.shape\n",
    "# xi[0]"
   ]
  },
  {
   "cell_type": "code",
   "execution_count": 15,
   "metadata": {},
   "outputs": [],
   "source": [
    "# xi_list[0]"
   ]
  },
  {
   "cell_type": "code",
   "execution_count": 59,
   "metadata": {},
   "outputs": [],
   "source": [
    "# # Initialize a network\n",
    "# def initialize_NN(n_inputs, n_hidden, n_outputs):\n",
    "#     network = []\n",
    "#     hidden_layer = [{'weights':[random.random() for i in range(n_inputs + 1)]} for i in range(n_hidden)]\n",
    "#     network.append(hidden_layer)\n",
    "#     output_layer = [{'weights':[random.random() for i in range(n_hidden + 1)]} for i in range(n_outputs)]\n",
    "#     network.append(output_layer)\n",
    "#     return network"
   ]
  },
  {
   "cell_type": "markdown",
   "metadata": {},
   "source": [
    "## Forward Propagation"
   ]
  },
  {
   "cell_type": "code",
   "execution_count": 20,
   "metadata": {},
   "outputs": [],
   "source": [
    "# Initialize a network\n",
    "def initialize_NN(n_inputs, n_hidden, n_outputs):\n",
    "    network = []\n",
    "    hidden_layer = np.random.randint(-100,100, size=(n_inputs+1,n_hidden))/10000\n",
    "    network.append(hidden_layer)\n",
    "    output_layer = np.random.randint(-100,100, size=(n_hidden+1,n_outputs))/10000\n",
    "    network.append(output_layer)\n",
    "    return network"
   ]
  },
  {
   "cell_type": "code",
   "execution_count": 22,
   "metadata": {},
   "outputs": [],
   "source": [
    "NN = initialize_NN(960,100,1)\n",
    "# print(NN[0].shape)\n",
    "# print(NN[1].shape)\n",
    "# NN"
   ]
  },
  {
   "cell_type": "code",
   "execution_count": 230,
   "metadata": {},
   "outputs": [],
   "source": [
    "# testNN = initialize_NN(2, 5, 1)\n",
    "# testNN\n",
    "# # print(test[0].shape)\n",
    "# # print(test[1].shape)"
   ]
  },
  {
   "cell_type": "code",
   "execution_count": 231,
   "metadata": {},
   "outputs": [],
   "source": [
    "# initialize_NN(2, 5, 1)"
   ]
  },
  {
   "cell_type": "code",
   "execution_count": 232,
   "metadata": {},
   "outputs": [],
   "source": [
    "# initialize_NN(2, 5, 1)"
   ]
  },
  {
   "cell_type": "code",
   "execution_count": 233,
   "metadata": {},
   "outputs": [],
   "source": [
    "#########"
   ]
  },
  {
   "cell_type": "code",
   "execution_count": 23,
   "metadata": {},
   "outputs": [],
   "source": [
    "def calculate_activation(w, inputs):\n",
    "    s = inputs.dot(w)\n",
    "    return s"
   ]
  },
  {
   "cell_type": "code",
   "execution_count": 24,
   "metadata": {},
   "outputs": [],
   "source": [
    "def sigmoid(s):\n",
    "    return 1/(1+np.exp(-s))"
   ]
  },
  {
   "cell_type": "code",
   "execution_count": 25,
   "metadata": {},
   "outputs": [],
   "source": [
    "# Forward propagate input to a network output\n",
    "def forward_propagate(network, row):\n",
    "    inputs = row\n",
    "    output_list = []\n",
    "    for layer in network:\n",
    "        s = inputs.dot(layer)\n",
    "        new_inputs = sigmoid(s)\n",
    "        output_list.append(new_inputs)\n",
    "        inputs = np.insert(new_inputs,0,1)\n",
    "    return new_inputs, output_list"
   ]
  },
  {
   "cell_type": "code",
   "execution_count": 26,
   "metadata": {},
   "outputs": [
    {
     "ename": "NameError",
     "evalue": "name 'xi' is not defined",
     "output_type": "error",
     "traceback": [
      "\u001b[0;31m---------------------------------------------------------------------------\u001b[0m",
      "\u001b[0;31mNameError\u001b[0m                                 Traceback (most recent call last)",
      "\u001b[0;32m<ipython-input-26-48a46d3e5309>\u001b[0m in \u001b[0;36m<module>\u001b[0;34m\u001b[0m\n\u001b[1;32m      1\u001b[0m \u001b[0;31m# xi = xi_list[0]\u001b[0m\u001b[0;34m\u001b[0m\u001b[0;34m\u001b[0m\u001b[0;34m\u001b[0m\u001b[0m\n\u001b[0;32m----> 2\u001b[0;31m \u001b[0myhat\u001b[0m\u001b[0;34m,\u001b[0m \u001b[0moutput_list\u001b[0m \u001b[0;34m=\u001b[0m \u001b[0mforward_propagate\u001b[0m\u001b[0;34m(\u001b[0m\u001b[0mNN\u001b[0m\u001b[0;34m,\u001b[0m \u001b[0mxi\u001b[0m\u001b[0;34m)\u001b[0m\u001b[0;34m\u001b[0m\u001b[0;34m\u001b[0m\u001b[0m\n\u001b[0m\u001b[1;32m      3\u001b[0m \u001b[0myhat\u001b[0m\u001b[0;34m\u001b[0m\u001b[0;34m\u001b[0m\u001b[0m\n",
      "\u001b[0;31mNameError\u001b[0m: name 'xi' is not defined"
     ]
    }
   ],
   "source": [
    "# xi = xi_list[0]\n",
    "yhat, output_list = forward_propagate(NN, Xtrain)\n",
    "yhat"
   ]
  },
  {
   "cell_type": "code",
   "execution_count": 277,
   "metadata": {},
   "outputs": [
    {
     "data": {
      "text/plain": [
       "[array([0.51923139, 0.49142025, 0.49411811, 0.49410733, 0.48068902,\n",
       "        0.4839987 , 0.5158822 , 0.50225106, 0.48658822, 0.49169772,\n",
       "        0.5046632 , 0.50711589, 0.51080391, 0.48987315, 0.49726728,\n",
       "        0.50306486, 0.49672456, 0.49005974, 0.50560849, 0.49699347,\n",
       "        0.49368289, 0.49443935, 0.48584898, 0.50965017, 0.50547576,\n",
       "        0.49384198, 0.49300183, 0.50557908, 0.50551174, 0.50758138,\n",
       "        0.50251223, 0.5015948 , 0.50780515, 0.51141047, 0.4852484 ,\n",
       "        0.48337446, 0.49947088, 0.49876461, 0.5088924 , 0.49254398,\n",
       "        0.48902892, 0.50226018, 0.50080853, 0.51639863, 0.50468692,\n",
       "        0.50647101, 0.49369269, 0.48852456, 0.49725042, 0.49723797,\n",
       "        0.50287791, 0.48818348, 0.50762078, 0.4993299 , 0.49815266,\n",
       "        0.49168155, 0.49410655, 0.5147948 , 0.51843644, 0.48175477,\n",
       "        0.48948645, 0.47482464, 0.48920766, 0.50887407, 0.51709089,\n",
       "        0.48642157, 0.49880579, 0.50215293, 0.49518329, 0.49426525,\n",
       "        0.50518432, 0.49331393, 0.50276331, 0.5021392 , 0.49200235,\n",
       "        0.50691083, 0.50042373, 0.51413114, 0.49575667, 0.49344753,\n",
       "        0.50439508, 0.49876196, 0.49756914, 0.47062201, 0.47875985,\n",
       "        0.50271301, 0.50392806, 0.51305507, 0.4961589 , 0.50045167,\n",
       "        0.5028534 , 0.48869026, 0.50148696, 0.49797874, 0.49206655,\n",
       "        0.51444098, 0.52561814, 0.50288889, 0.50653463, 0.48179609]),\n",
       " array([0.50549801])]"
      ]
     },
     "execution_count": 277,
     "metadata": {},
     "output_type": "execute_result"
    }
   ],
   "source": [
    "len(output_list[0])\n",
    "output_list"
   ]
  },
  {
   "cell_type": "markdown",
   "metadata": {},
   "source": [
    "## Back Propagate"
   ]
  },
  {
   "cell_type": "code",
   "execution_count": 278,
   "metadata": {},
   "outputs": [
    {
     "data": {
      "text/plain": [
       "array([0.24453222])"
      ]
     },
     "execution_count": 278,
     "metadata": {},
     "output_type": "execute_result"
    }
   ],
   "source": [
    "error = (y_train[0] - yhat)**2\n",
    "error"
   ]
  },
  {
   "cell_type": "code",
   "execution_count": 279,
   "metadata": {},
   "outputs": [
    {
     "data": {
      "text/plain": [
       "array([-0.2472211])"
      ]
     },
     "execution_count": 279,
     "metadata": {},
     "output_type": "execute_result"
    }
   ],
   "source": [
    "y_train = training_imgs_label\n",
    "delta = 2*(yhat-y_train[0])*(yhat*(1-yhat))\n",
    "delta"
   ]
  },
  {
   "cell_type": "code",
   "execution_count": 280,
   "metadata": {},
   "outputs": [
    {
     "data": {
      "text/plain": [
       "(100,)"
      ]
     },
     "execution_count": 280,
     "metadata": {},
     "output_type": "execute_result"
    }
   ],
   "source": [
    "deltaj = (yhat*(1-yhat))*NN[1]*delta\n",
    "deltaj = np.delete(deltaj,0)\n",
    "deltaj.shape"
   ]
  },
  {
   "cell_type": "code",
   "execution_count": 281,
   "metadata": {},
   "outputs": [
    {
     "data": {
      "text/plain": [
       "(961, 100)"
      ]
     },
     "execution_count": 281,
     "metadata": {},
     "output_type": "execute_result"
    }
   ],
   "source": [
    "new_w1 = NN[0] - 0.1*xi.reshape(-1,1)*deltaj\n",
    "new_w1.shape"
   ]
  },
  {
   "cell_type": "code",
   "execution_count": 291,
   "metadata": {},
   "outputs": [
    {
     "data": {
      "text/plain": [
       "(101, 1)"
      ]
     },
     "execution_count": 291,
     "metadata": {},
     "output_type": "execute_result"
    }
   ],
   "source": [
    "xj = np.insert(output_list[0],0,1)\n",
    "new_w2 = NN[1] - 0.1*delta*xj.reshape(-1,1)\n",
    "new_w2.shape"
   ]
  },
  {
   "cell_type": "code",
   "execution_count": 310,
   "metadata": {},
   "outputs": [],
   "source": [
    "def backpropagate(yhat, output_list, xi, yi):\n",
    "    delta = 2*(yhat-yi)*(yhat*(1-yhat))\n",
    "    deltaj = (yhat*(1-yhat))*NN[1]*delta\n",
    "    deltaj = np.delete(deltaj,0)\n",
    "    NN[0] = NN[0] - 0.1*xi.reshape(-1,1)*deltaj\n",
    "    xj = np.insert(output_list[0],0,1)\n",
    "    NN[1] = NN[1] - 0.1*delta*xj.reshape(-1,1)\n",
    "    return NN"
   ]
  },
  {
   "cell_type": "code",
   "execution_count": 311,
   "metadata": {},
   "outputs": [],
   "source": [
    "def train(X ,y, epochs):\n",
    "    NN = initialize_NN(960,100,1)\n",
    "    for epoch in range(epochs):\n",
    "        for xi, yi in zip(X, y):\n",
    "            yhat, output_list = forward_propagate(NN, xi)\n",
    "            NN = backpropagate(yhat, output_list, xi, yi)\n",
    "            if epoch == len(epochs)-1:\n",
    "                print(yhat, yi)\n",
    "    return NN"
   ]
  },
  {
   "cell_type": "code",
   "execution_count": 312,
   "metadata": {},
   "outputs": [
    {
     "name": "stderr",
     "output_type": "stream",
     "text": [
      "/Library/Frameworks/Python.framework/Versions/3.6/lib/python3.6/site-packages/ipykernel_launcher.py:2: RuntimeWarning: overflow encountered in exp\n",
      "  \n"
     ]
    },
    {
     "name": "stdout",
     "output_type": "stream",
     "text": [
      "[0.99998867] 1\n",
      "[0.87830445] 1\n",
      "[0.0612841] 0\n",
      "[0.99999711] 1\n",
      "[0.06218808] 0\n",
      "[0.03454404] 0\n",
      "[1.] 1\n",
      "[0.00010374] 0\n",
      "[0.00010174] 0\n",
      "[0.06122621] 0\n",
      "[0.0001016] 0\n",
      "[0.0001016] 0\n",
      "[0.06527528] 0\n",
      "[0.99999407] 0\n",
      "[0.06509089] 0\n",
      "[0.06530296] 0\n",
      "[0.06486072] 0\n",
      "[0.06464957] 0\n",
      "[0.99989702] 1\n",
      "[0.06340679] 0\n",
      "[0.99999999] 1\n",
      "[0.06251384] 0\n",
      "[0.99986249] 1\n",
      "[0.06388871] 0\n",
      "[0.99794914] 1\n",
      "[0.07836052] 0\n",
      "[0.02878192] 0\n",
      "[0.00601026] 0\n",
      "[0.00211478] 0\n",
      "[0.02205751] 0\n",
      "[0.99995671] 1\n",
      "[0.99903489] 0\n",
      "[0.00333257] 0\n",
      "[0.8292806] 1\n",
      "[0.05459468] 0\n",
      "[0.04116742] 0\n",
      "[1.] 1\n",
      "[0.02841708] 0\n",
      "[0.02242902] 0\n",
      "[0.04663018] 0\n",
      "[0.99705598] 1\n",
      "[0.88207055] 1\n",
      "[0.06436241] 0\n",
      "[0.05516708] 0\n",
      "[0.11054505] 0\n",
      "[0.02004357] 0\n",
      "[0.9999579] 1\n",
      "[0.06472327] 0\n",
      "[0.06747566] 0\n",
      "[0.06398617] 0\n",
      "[0.0601386] 0\n",
      "[0.06290519] 0\n",
      "[0.05708865] 0\n",
      "[0.06286887] 0\n",
      "[0.99948859] 1\n",
      "[0.06256722] 0\n",
      "[0.9999995] 1\n",
      "[0.9999995] 1\n",
      "[0.06240884] 0\n",
      "[0.99999983] 1\n",
      "[1.] 1\n",
      "[0.06220037] 0\n",
      "[0.06191258] 0\n",
      "[0.99703471] 1\n",
      "[0.99999757] 1\n",
      "[0.04566693] 0\n",
      "[0.0617897] 0\n",
      "[0.06162386] 0\n",
      "[0.06141837] 0\n",
      "[0.06128343] 0\n",
      "[0.06108859] 0\n",
      "[0.05468863] 0\n",
      "[0.04489117] 0\n",
      "[0.97155391] 1\n",
      "[0.12671832] 0\n",
      "[0.99996206] 1\n",
      "[1.] 0\n",
      "[0.99997092] 1\n",
      "[0.01101844] 0\n",
      "[0.18068161] 0\n",
      "[0.00024293] 0\n",
      "[0.99987861] 1\n",
      "[0.00196479] 0\n",
      "[0.05900905] 0\n",
      "[0.00036665] 0\n",
      "[0.9999987] 1\n",
      "[0.06272851] 0\n",
      "[0.01459635] 0\n",
      "[0.0079433] 0\n",
      "[0.02952915] 0\n",
      "[0.01133373] 0\n",
      "[0.00547028] 0\n",
      "[0.00786103] 0\n",
      "[0.98428055] 1\n",
      "[0.05502315] 0\n",
      "[0.01314912] 0\n",
      "[0.0001137] 0\n",
      "[0.05827806] 0\n",
      "[9.57768462e-05] 0\n",
      "[0.00491169] 0\n",
      "[0.06260231] 1\n",
      "[0.99998488] 1\n",
      "[0.00010069] 0\n",
      "[0.05412594] 0\n",
      "[1.] 1\n",
      "[9.78055852e-05] 0\n",
      "[0.99676213] 1\n",
      "[0.04624745] 0\n",
      "[0.06025904] 0\n",
      "[0.06170572] 0\n",
      "[0.00014248] 0\n",
      "[1.] 1\n",
      "[0.05497228] 0\n",
      "[1.] 1\n",
      "[0.11975521] 0\n",
      "[0.99985038] 0\n",
      "[0.05952811] 0\n",
      "[0.06004458] 1\n",
      "[0.06222098] 0\n",
      "[0.0620476] 0\n",
      "[0.06040475] 0\n",
      "[0.06174594] 1\n",
      "[0.11862701] 0\n",
      "[0.06370332] 0\n",
      "[0.06324767] 0\n",
      "[0.99999966] 0\n",
      "[0.06326935] 0\n",
      "[0.06309235] 0\n",
      "[0.96052971] 1\n",
      "[0.08061458] 0\n",
      "[0.07281189] 1\n",
      "[0.06753152] 1\n",
      "[0.05017583] 0\n",
      "[0.99999966] 0\n",
      "[0.06970047] 0\n",
      "[0.04052216] 0\n",
      "[0.05852134] 0\n",
      "[0.06472334] 0\n",
      "[0.06827366] 0\n",
      "[0.06758069] 0\n",
      "[0.06716553] 0\n",
      "[0.06726635] 0\n",
      "[0.06632184] 0\n",
      "[0.90329363] 1\n",
      "[0.06718425] 0\n",
      "[0.91194502] 1\n",
      "[0.99999641] 1\n",
      "[0.06717207] 0\n",
      "[0.06707371] 0\n",
      "[0.06675897] 0\n",
      "[0.06377798] 0\n",
      "[0.06644962] 0\n",
      "[0.06288918] 0\n",
      "[0.99982204] 1\n",
      "[0.00010201] 0\n",
      "[0.0001019] 0\n",
      "[0.0001019] 0\n",
      "[0.00562134] 0\n",
      "[0.02487208] 0\n",
      "[0.00016387] 0\n",
      "[0.00194585] 0\n",
      "[0.00011111] 0\n",
      "[0.00013628] 0\n",
      "[0.99999999] 1\n",
      "[1.] 1\n",
      "[0.06604966] 0\n",
      "[0.04808095] 0\n",
      "[0.00011933] 0\n",
      "[0.0657458] 0\n",
      "[0.06415581] 0\n",
      "[0.06534625] 0\n",
      "[1.] 1\n",
      "[0.00605802] 0\n",
      "[0.85032223] 1\n",
      "[0.02679891] 0\n",
      "[1.] 1\n",
      "[0.06446365] 0\n",
      "[1.] 1\n",
      "[0.06155443] 0\n",
      "[1.] 1\n",
      "[0.06506107] 0\n",
      "[0.05528257] 0\n",
      "[0.00011008] 0\n",
      "[0.00115588] 0\n"
     ]
    }
   ],
   "source": [
    "NN = train(xi_list ,y_train, 1000)"
   ]
  },
  {
   "cell_type": "code",
   "execution_count": null,
   "metadata": {},
   "outputs": [],
   "source": []
  },
  {
   "cell_type": "code",
   "execution_count": null,
   "metadata": {},
   "outputs": [],
   "source": []
  },
  {
   "cell_type": "code",
   "execution_count": 318,
   "metadata": {},
   "outputs": [
    {
     "name": "stdout",
     "output_type": "stream",
     "text": [
      "/Users/leo/Desktop/Analytics/2020 Fall/DSCI552/HW5_1028due/gestures/.DS_Store\n",
      "IS NOT FILE!\n"
     ]
    }
   ],
   "source": [
    "all_files = os.listdir(data_path)\n",
    "test_imgs_data = []\n",
    "test_imgs_label = []\n",
    "for folder in all_files:\n",
    "#     print(folder)\n",
    "    folder_path = os.path.join(data_path,folder)\n",
    "    # check if it is foler\n",
    "    if os.path.isdir(folder_path):\n",
    "        all_imgs = os.listdir(folder_path)\n",
    "        for img_name in all_imgs:\n",
    "#             print(img_name)\n",
    "            name = 'gestures/'+folder+'/'+img_name\n",
    "#             print(name)\n",
    "            if name in test_down_labels:\n",
    "#                 print(name)\n",
    "                img_path = os.path.join(folder_path,img_name)\n",
    "                img  = Image.open(img_path)\n",
    "                img_bytes = np.array(img)\n",
    "                img_gray_scale = img_bytes/255\n",
    "                test_imgs_data.append(img_gray_scale.flatten())\n",
    "                if 'down' in name:\n",
    "                    test_imgs_label.append(1)\n",
    "                else:\n",
    "                    test_imgs_label.append(0)\n",
    "    else:\n",
    "        print(folder_path)\n",
    "        print('IS NOT FILE!')\n",
    "test_imgs_data = np.array(test_imgs_data)\n",
    "test_imgs_label = np.array(test_imgs_label)"
   ]
  },
  {
   "cell_type": "code",
   "execution_count": 319,
   "metadata": {},
   "outputs": [
    {
     "name": "stdout",
     "output_type": "stream",
     "text": [
      "(81, 960)\n",
      "(81,)\n"
     ]
    }
   ],
   "source": [
    "print(test_imgs_data.shape)\n",
    "print(test_imgs_label.shape)"
   ]
  },
  {
   "cell_type": "code",
   "execution_count": 346,
   "metadata": {},
   "outputs": [],
   "source": [
    "def predict(NN, Xtest, ytest, threshold):\n",
    "    y_pred_list = []\n",
    "    xi_test = np.concatenate((np.ones((len(Xtest),1)), Xtest), axis=1)\n",
    "    for xi, yi in zip(xi_test, test_imgs_label):\n",
    "        yhat, output_list = forward_propagate(NN, xi)\n",
    "        if yhat > threshold:\n",
    "            y_pred_list.append(1)\n",
    "        else:\n",
    "            y_pred_list.append(0)\n",
    "    acc = accuracy_score(ytest, y_pred_list)\n",
    "    return y_pred_list, acc"
   ]
  },
  {
   "cell_type": "code",
   "execution_count": 348,
   "metadata": {},
   "outputs": [
    {
     "name": "stderr",
     "output_type": "stream",
     "text": [
      "/Library/Frameworks/Python.framework/Versions/3.6/lib/python3.6/site-packages/ipykernel_launcher.py:2: RuntimeWarning: overflow encountered in exp\n",
      "  \n"
     ]
    },
    {
     "data": {
      "text/plain": [
       "(array([1, 0, 0, 0, 0, 0, 0, 0, 0, 0, 1, 0, 1, 1, 0, 0, 1, 1, 0, 0, 0, 0,\n",
       "        0, 0, 0, 1, 0, 1, 0, 0, 0, 0, 0, 0, 0, 0, 0, 1, 0, 0, 0, 0, 0, 0,\n",
       "        0, 0, 1, 0, 0, 1, 0, 0, 0, 0, 0, 0, 1, 0, 1, 0, 1, 0, 0, 0, 1, 0,\n",
       "        0, 0, 0, 1, 0, 1, 1, 0, 0, 0, 0, 1, 1, 0, 0]), 0.8888888888888888)"
      ]
     },
     "execution_count": 348,
     "metadata": {},
     "output_type": "execute_result"
    }
   ],
   "source": [
    "y_pred_list, acc = predict(NN, test_imgs_data, test_imgs_label, 0.5)\n",
    "np.array(y_pred_list), acc\n",
    "# y_pred_list"
   ]
  },
  {
   "cell_type": "code",
   "execution_count": 333,
   "metadata": {},
   "outputs": [
    {
     "name": "stdout",
     "output_type": "stream",
     "text": [
      "[0.99998925] 1\n",
      "[0.00081955] 0\n",
      "[0.000242] 0\n",
      "[0.00944232] 0\n",
      "[0.00842664] 0\n",
      "[1.16393423e-05] 0\n",
      "[0.02721668] 0\n",
      "[0.02720422] 0\n",
      "[0.02725773] 0\n",
      "[0.02721821] 0\n",
      "[0.99999996] 0\n",
      "[1.16395787e-05] 0\n",
      "[0.99873696] 1\n",
      "[0.99999999] 1\n",
      "[0.09605588] 0\n",
      "[0.07291988] 0\n",
      "[0.99909515] 1\n",
      "[1.] 1\n",
      "[0.01744973] 0\n",
      "[0.00503205] 0\n",
      "[0.01073203] 0\n",
      "[0.02014384] 0\n",
      "[0.02734564] 0\n",
      "[0.02724753] 0\n",
      "[0.02725227] 0\n",
      "[0.99820742] 1\n",
      "[0.03193201] 0\n",
      "[0.99999998] 1\n",
      "[0.02721818] 0\n",
      "[0.02728482] 1\n",
      "[0.02720714] 0\n",
      "[0.02721819] 0\n",
      "[0.02721819] 0\n",
      "[0.02721819] 0\n",
      "[0.02721819] 0\n",
      "[0.02720927] 0\n",
      "[1.16407982e-05] 0\n",
      "[0.99999648] 1\n",
      "[0.02618135] 0\n",
      "[0.02730801] 1\n",
      "[0.02677693] 0\n",
      "[0.02581578] 0\n",
      "[0.02721384] 0\n",
      "[0.01116333] 0\n",
      "[0.02789233] 0\n",
      "[0.0272147] 0\n",
      "[0.99999997] 1\n",
      "[0.02733806] 0\n",
      "[0.04511073] 0\n",
      "[0.9999956] 1\n",
      "[0.02722264] 1\n",
      "[0.03446073] 0\n",
      "[0.02722074] 0\n",
      "[0.02727708] 1\n",
      "[0.02767397] 0\n",
      "[0.02723086] 0\n",
      "[0.99664034] 0\n",
      "[0.0276095] 0\n",
      "[0.96659709] 0\n",
      "[0.00197942] 0\n",
      "[0.98529851] 1\n",
      "[0.02744478] 0\n",
      "[0.02707411] 0\n",
      "[0.02668453] 0\n",
      "[0.99997164] 0\n",
      "[0.03282635] 0\n",
      "[0.02721487] 0\n",
      "[0.02721851] 0\n",
      "[0.02863111] 0\n",
      "[0.99999993] 1\n",
      "[0.02935491] 0\n",
      "[0.99999887] 1\n",
      "[0.78991124] 0\n",
      "[0.02721819] 0\n",
      "[0.02635001] 0\n",
      "[0.00482666] 0\n",
      "[0.02716633] 0\n",
      "[1.] 1\n",
      "[1.] 1\n",
      "[0.00024701] 0\n",
      "[0.02721091] 0\n"
     ]
    },
    {
     "name": "stderr",
     "output_type": "stream",
     "text": [
      "/Library/Frameworks/Python.framework/Versions/3.6/lib/python3.6/site-packages/ipykernel_launcher.py:2: RuntimeWarning: overflow encountered in exp\n",
      "  \n"
     ]
    }
   ],
   "source": [
    "Xtest = test_imgs_data\n",
    "xi_test = np.concatenate((np.ones((len(Xtest),1)), Xtest), axis=1)\n",
    "for xi, yi in zip(xi_test, test_imgs_label):\n",
    "    yhat, output_list = forward_propagate(NN, xi)\n",
    "    print(yhat, yi)"
   ]
  },
  {
   "cell_type": "code",
   "execution_count": null,
   "metadata": {},
   "outputs": [],
   "source": []
  },
  {
   "cell_type": "code",
   "execution_count": null,
   "metadata": {},
   "outputs": [],
   "source": []
  }
 ],
 "metadata": {
  "kernelspec": {
   "display_name": "Python 3",
   "language": "python",
   "name": "python3"
  },
  "language_info": {
   "codemirror_mode": {
    "name": "ipython",
    "version": 3
   },
   "file_extension": ".py",
   "mimetype": "text/x-python",
   "name": "python",
   "nbconvert_exporter": "python",
   "pygments_lexer": "ipython3",
   "version": "3.6.8"
  }
 },
 "nbformat": 4,
 "nbformat_minor": 2
}
