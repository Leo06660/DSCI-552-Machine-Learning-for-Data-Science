{
 "cells": [
  {
   "cell_type": "code",
   "execution_count": 28,
   "metadata": {},
   "outputs": [],
   "source": [
    "def square_func(x):\n",
    "    y = x**2\n",
    "    return y"
   ]
  },
  {
   "cell_type": "code",
   "execution_count": 30,
   "metadata": {},
   "outputs": [],
   "source": [
    "e = square_func(2)"
   ]
  },
  {
   "cell_type": "code",
   "execution_count": 45,
   "metadata": {},
   "outputs": [],
   "source": [
    "def sqrt2(x):\n",
    "    y = x**0.5\n",
    "    return y"
   ]
  },
  {
   "cell_type": "code",
   "execution_count": null,
   "metadata": {},
   "outputs": [],
   "source": []
  },
  {
   "cell_type": "code",
   "execution_count": 43,
   "metadata": {},
   "outputs": [
    {
     "data": {
      "text/plain": [
       "3.0"
      ]
     },
     "execution_count": 43,
     "metadata": {},
     "output_type": "execute_result"
    }
   ],
   "source": [
    "from math import *\n",
    "sqrt(9)"
   ]
  },
  {
   "cell_type": "code",
   "execution_count": null,
   "metadata": {},
   "outputs": [],
   "source": []
  },
  {
   "cell_type": "code",
   "execution_count": 164,
   "metadata": {},
   "outputs": [],
   "source": [
    "def read_file(filename):\n",
    "    f = open(filename, 'r')\n",
    "    d = f.readlines()\n",
    "    f.close()\n",
    "    return d"
   ]
  },
  {
   "cell_type": "code",
   "execution_count": 165,
   "metadata": {},
   "outputs": [
    {
     "data": {
      "text/plain": [
       "['-1.861331241,-2.991682765\\n',\n",
       " '-2.17009237,-3.292317782\\n',\n",
       " '-1.014080969,0.38579499\\n',\n",
       " '-2.912942536,-2.579539167\\n',\n",
       " '0.035720735,-0.799697919\\n',\n",
       " '2.483509421,1.550806091\\n',\n",
       " '-0.557616974,1.844299967\\n',\n",
       " '1.108422549,3.089071693\\n',\n",
       " '0.362326849,-2.019124527\\n',\n",
       " '2.709714097,1.713412757\\n',\n",
       " '-0.354004402,0.650573081\\n',\n",
       " '0.655103152,2.504877515\\n',\n",
       " '5.517977144,0.440317168\\n',\n",
       " '2.563056623,1.630393367\\n',\n",
       " '-2.088136684,2.278844396\\n',\n",
       " '2.503931156,-0.823421912\\n',\n",
       " '-2.066633814,-0.922130196\\n',\n",
       " '0.022152636,-2.65809723\\n',\n",
       " '0.647043958,-0.175000364\\n',\n",
       " '1.945385949,0.710891971\\n',\n",
       " '-0.888304367,-1.486277456\\n',\n",
       " '1.202686553,0.144061369\\n',\n",
       " '3.957251541,-0.712806721\\n',\n",
       " '-4.260793979,-0.863383567\\n',\n",
       " '-2.407681997,1.558656361\\n',\n",
       " '2.671969068,1.632649153\\n',\n",
       " '-0.657288731,2.296608052\\n',\n",
       " '-0.085368179,-2.169919876\\n',\n",
       " '2.065980497,-0.272244547\\n',\n",
       " '4.970915839,1.310183455\\n',\n",
       " '-2.911126633,-2.5869221\\n',\n",
       " '-2.032565311,3.853479975\\n',\n",
       " '-0.173295647,0.466503496\\n',\n",
       " '0.001141395,-1.090044699\\n',\n",
       " '0.238936033,2.065624994\\n',\n",
       " '-0.698691938,0.75427311\\n',\n",
       " '2.727212888,0.218510668\\n',\n",
       " '-2.033841104,-1.36037659\\n',\n",
       " '0.45610562,-3.530784753\\n',\n",
       " '2.213142571,-1.927135447\\n',\n",
       " '0.838971758,-1.291265274\\n',\n",
       " '-1.391116494,0.905055556\\n',\n",
       " '0.269569161,1.228996444\\n',\n",
       " '-0.709719127,-1.57060131\\n',\n",
       " '-1.340933861,1.656352386\\n',\n",
       " '3.02574413,1.334834017\\n',\n",
       " '-0.441998312,-0.251001766\\n',\n",
       " '-1.292451675,-1.902457742\\n',\n",
       " '-1.6903992,1.784079993\\n',\n",
       " '0.271009047,-0.25944316\\n',\n",
       " '-2.013485131,-0.813921938\\n',\n",
       " '-0.747712984,-0.42340055\\n',\n",
       " '-0.476414674,-0.660342733\\n',\n",
       " '-2.461629635,-1.6728271\\n',\n",
       " '0.866405597,-1.537013685\\n',\n",
       " '-3.149052031,-2.040157753\\n',\n",
       " '-2.635236659,-0.002715675\\n',\n",
       " '0.224019127,-1.026053949\\n',\n",
       " '-0.674825989,-1.656999196\\n',\n",
       " '-1.428913044,-0.322254384\\n',\n",
       " '-0.988403911,-1.510834134\\n',\n",
       " '-0.268681527,-0.553995371\\n',\n",
       " '-1.868022763,0.51663461\\n',\n",
       " '-0.07184042,-0.062243723\\n',\n",
       " '-0.302683237,-1.16016268\\n',\n",
       " '-1.045150343,-1.11383812\\n',\n",
       " '-0.808788859,0.937126165\\n',\n",
       " '-1.628762958,-1.170798806\\n',\n",
       " '-1.856613207,-0.698831465\\n',\n",
       " '-1.38871274,-0.674011314\\n',\n",
       " '0.02850845,-0.075163335\\n',\n",
       " '-1.239720321,-0.78470877\\n',\n",
       " '-1.451622767,-0.633750694\\n',\n",
       " '-1.979267221,-0.677849094\\n',\n",
       " '-2.133447286,1.6890035\\n',\n",
       " '-0.977879107,-0.123931134\\n',\n",
       " '0.040239494,-1.876490013\\n',\n",
       " '0.231484088,-2.217446994\\n',\n",
       " '-0.439820579,-2.614839707\\n',\n",
       " '-1.30903867,0.840080492\\n',\n",
       " '-1.367604084,-1.818925757\\n',\n",
       " '-0.634366635,-0.007864425\\n',\n",
       " '-0.0625613,-0.466182212\\n',\n",
       " '-0.025756298,-2.526727116\\n',\n",
       " '-3.118923984,1.022859185\\n',\n",
       " '-1.046464742,-0.44770405\\n',\n",
       " '-1.966780905,0.820142408\\n',\n",
       " '-1.471249024,-0.657355514\\n',\n",
       " '0.735227438,-0.820438514\\n',\n",
       " '-1.777530134,-2.019318258\\n',\n",
       " '-2.68379741,-0.962400535\\n',\n",
       " '-0.822972897,-0.862876698\\n',\n",
       " '-1.124477539,-2.521052262\\n',\n",
       " '-1.415554856,-1.018918453\\n',\n",
       " '-0.120541736,-0.836753322\\n',\n",
       " '-0.433871895,-1.721150679\\n',\n",
       " '-0.624083008,-0.589396641\\n',\n",
       " '-1.276953828,-2.212631093\\n',\n",
       " '-0.649901474,-1.573744692\\n',\n",
       " '-1.291307157,-0.894607808\\n',\n",
       " '3.951942892,2.22086267\\n',\n",
       " '5.730569717,3.146865381\\n',\n",
       " '4.371596477,4.600689623\\n',\n",
       " '3.485988104,5.436480626\\n',\n",
       " '6.613567952,4.269563509\\n',\n",
       " '6.039303337,4.14499667\\n',\n",
       " '5.989625741,4.648855334\\n',\n",
       " '6.186645661,8.595480962\\n',\n",
       " '6.748367662,4.576277497\\n',\n",
       " '6.716238425,4.243822227\\n',\n",
       " '5.058353716,6.7328904\\n',\n",
       " '4.22010943,4.155101237\\n',\n",
       " '4.808337705,2.834357979\\n',\n",
       " '7.144034224,5.614086814\\n',\n",
       " '2.925245443,3.380115652\\n',\n",
       " '4.022441045,4.350050329\\n',\n",
       " '6.807063521,5.517710153\\n',\n",
       " '6.465317971,5.39940756\\n',\n",
       " '4.141706131,1.222944183\\n',\n",
       " '4.641781214,-0.091193854\\n',\n",
       " '4.73015313,2.784619761\\n',\n",
       " '4.522996541,6.861180403\\n',\n",
       " '0.768168376,4.407158109\\n',\n",
       " '4.259855126,3.737156474\\n',\n",
       " '5.535308292,3.729993007\\n',\n",
       " '9.24625283,5.798154028\\n',\n",
       " '2.466653985,4.572414717\\n',\n",
       " '3.899209735,4.824121253\\n',\n",
       " '4.332341441,0.379144641\\n',\n",
       " '3.367927409,3.698562852\\n',\n",
       " '3.832990752,4.033234891\\n',\n",
       " '1.667111769,2.510388945\\n',\n",
       " '4.805286947,3.9602504\\n',\n",
       " '4.101915277,2.956755898\\n',\n",
       " '5.926616878,5.506714092\\n',\n",
       " '5.099433384,3.01132382\\n',\n",
       " '6.846049468,6.259771187\\n',\n",
       " '7.807198154,3.926138031\\n',\n",
       " '5.21105679,5.551104793\\n',\n",
       " '2.855650295,7.957486741\\n',\n",
       " '5.422837908,4.115748421\\n',\n",
       " '7.421854319,6.588704854\\n',\n",
       " '4.834635336,2.142437441\\n',\n",
       " '5.671382288,7.158125544\\n',\n",
       " '3.326294053,1.906939311\\n',\n",
       " '7.6139873,3.886738434\\n',\n",
       " '5.69945536,3.433902874\\n',\n",
       " '4.268829876,2.0096126\\n',\n",
       " '2.100505144,1.734405305\\n',\n",
       " '3.808989639,5.119568133']"
      ]
     },
     "execution_count": 165,
     "metadata": {},
     "output_type": "execute_result"
    }
   ],
   "source": [
    "read_file('clusters.txt')"
   ]
  },
  {
   "cell_type": "code",
   "execution_count": null,
   "metadata": {},
   "outputs": [],
   "source": []
  },
  {
   "cell_type": "code",
   "execution_count": null,
   "metadata": {},
   "outputs": [],
   "source": []
  },
  {
   "cell_type": "code",
   "execution_count": 180,
   "metadata": {},
   "outputs": [
    {
     "data": {
      "text/plain": [
       "[[-1.861331241, -2.991682765],\n",
       " [-2.17009237, -3.292317782],\n",
       " [-1.014080969, 0.38579499],\n",
       " [-2.912942536, -2.579539167],\n",
       " [0.035720735, -0.799697919]]"
      ]
     },
     "execution_count": 180,
     "metadata": {},
     "output_type": "execute_result"
    }
   ],
   "source": [
    "len(data)\n",
    "data[:5]"
   ]
  },
  {
   "cell_type": "code",
   "execution_count": 65,
   "metadata": {},
   "outputs": [
    {
     "data": {
      "text/plain": [
       "array([ 74, 110,  32,  24])"
      ]
     },
     "execution_count": 65,
     "metadata": {},
     "output_type": "execute_result"
    }
   ],
   "source": [
    "c0 = np.random.randint(len(data), size=3)\n",
    "c0"
   ]
  },
  {
   "cell_type": "code",
   "execution_count": 70,
   "metadata": {},
   "outputs": [],
   "source": [
    "c0 = c0.astype(int)"
   ]
  },
  {
   "cell_type": "code",
   "execution_count": 71,
   "metadata": {},
   "outputs": [
    {
     "ename": "TypeError",
     "evalue": "only integer scalar arrays can be converted to a scalar index",
     "output_type": "error",
     "traceback": [
      "\u001b[0;31m---------------------------------------------------------------------------\u001b[0m",
      "\u001b[0;31mTypeError\u001b[0m                                 Traceback (most recent call last)",
      "\u001b[0;32m<ipython-input-71-1452ef1899c8>\u001b[0m in \u001b[0;36m<module>\u001b[0;34m\u001b[0m\n\u001b[0;32m----> 1\u001b[0;31m \u001b[0mcenter\u001b[0m \u001b[0;34m=\u001b[0m \u001b[0mdata\u001b[0m\u001b[0;34m[\u001b[0m\u001b[0mc0\u001b[0m\u001b[0;34m]\u001b[0m\u001b[0;34m\u001b[0m\u001b[0;34m\u001b[0m\u001b[0m\n\u001b[0m\u001b[1;32m      2\u001b[0m \u001b[0mcenter\u001b[0m\u001b[0;34m\u001b[0m\u001b[0;34m\u001b[0m\u001b[0m\n",
      "\u001b[0;31mTypeError\u001b[0m: only integer scalar arrays can be converted to a scalar index"
     ]
    }
   ],
   "source": [
    "center = data[c0]\n",
    "center"
   ]
  },
  {
   "cell_type": "code",
   "execution_count": 79,
   "metadata": {},
   "outputs": [
    {
     "data": {
      "text/plain": [
       "array([0.47766268, 0.77004761, 0.13503573])"
      ]
     },
     "execution_count": 79,
     "metadata": {},
     "output_type": "execute_result"
    }
   ],
   "source": [
    "rarray = np.random.random(size=3)\n",
    "rarray"
   ]
  },
  {
   "cell_type": "code",
   "execution_count": 80,
   "metadata": {},
   "outputs": [
    {
     "data": {
      "text/plain": [
       "array([ 71., 115.,  20.])"
      ]
     },
     "execution_count": 80,
     "metadata": {},
     "output_type": "execute_result"
    }
   ],
   "source": [
    "rarray = np.floor(rarray*150)\n",
    "rarray"
   ]
  },
  {
   "cell_type": "code",
   "execution_count": 81,
   "metadata": {},
   "outputs": [
    {
     "data": {
      "text/plain": [
       "array([ 71, 115,  20])"
      ]
     },
     "execution_count": 81,
     "metadata": {},
     "output_type": "execute_result"
    }
   ],
   "source": [
    "rarray = rarray.astype(int)\n",
    "rarray"
   ]
  },
  {
   "cell_type": "code",
   "execution_count": 82,
   "metadata": {},
   "outputs": [
    {
     "ename": "TypeError",
     "evalue": "only integer scalar arrays can be converted to a scalar index",
     "output_type": "error",
     "traceback": [
      "\u001b[0;31m---------------------------------------------------------------------------\u001b[0m",
      "\u001b[0;31mTypeError\u001b[0m                                 Traceback (most recent call last)",
      "\u001b[0;32m<ipython-input-82-edfeafde353f>\u001b[0m in \u001b[0;36m<module>\u001b[0;34m\u001b[0m\n\u001b[0;32m----> 1\u001b[0;31m \u001b[0mcenter\u001b[0m \u001b[0;34m=\u001b[0m \u001b[0mdata\u001b[0m\u001b[0;34m[\u001b[0m\u001b[0mrarray\u001b[0m\u001b[0;34m]\u001b[0m\u001b[0;34m\u001b[0m\u001b[0;34m\u001b[0m\u001b[0m\n\u001b[0m",
      "\u001b[0;31mTypeError\u001b[0m: only integer scalar arrays can be converted to a scalar index"
     ]
    }
   ],
   "source": [
    "center = data[rarray]"
   ]
  },
  {
   "cell_type": "code",
   "execution_count": 90,
   "metadata": {},
   "outputs": [],
   "source": [
    "numSamples, dim = np.array(data).shape"
   ]
  },
  {
   "cell_type": "code",
   "execution_count": 91,
   "metadata": {},
   "outputs": [
    {
     "data": {
      "text/plain": [
       "150"
      ]
     },
     "execution_count": 91,
     "metadata": {},
     "output_type": "execute_result"
    }
   ],
   "source": [
    "numSamples"
   ]
  },
  {
   "cell_type": "code",
   "execution_count": 95,
   "metadata": {},
   "outputs": [
    {
     "data": {
      "text/plain": [
       "array([[0., 0.],\n",
       "       [0., 0.],\n",
       "       [0., 0.]])"
      ]
     },
     "execution_count": 95,
     "metadata": {},
     "output_type": "execute_result"
    }
   ],
   "source": [
    "centroids = np.zeros((3, dim))\n",
    "centroids"
   ]
  },
  {
   "cell_type": "code",
   "execution_count": 102,
   "metadata": {},
   "outputs": [
    {
     "name": "stdout",
     "output_type": "stream",
     "text": [
      "74\n",
      "61\n",
      "95\n"
     ]
    }
   ],
   "source": [
    "for i in range(3):\n",
    "    index = int(np.random.uniform(0, numSamples))\n",
    "    print(index)\n",
    "    centroids[i] = data[index]"
   ]
  },
  {
   "cell_type": "code",
   "execution_count": 100,
   "metadata": {},
   "outputs": [
    {
     "data": {
      "text/plain": [
       "79.21320448159413"
      ]
     },
     "execution_count": 100,
     "metadata": {},
     "output_type": "execute_result"
    }
   ],
   "source": [
    "np.random.uniform(0, numSamples)"
   ]
  },
  {
   "cell_type": "code",
   "execution_count": 103,
   "metadata": {},
   "outputs": [
    {
     "data": {
      "text/plain": [
       "array([[-2.13344729,  1.6890035 ],\n",
       "       [-0.26868153, -0.55399537],\n",
       "       [-0.4338719 , -1.72115068]])"
      ]
     },
     "execution_count": 103,
     "metadata": {},
     "output_type": "execute_result"
    }
   ],
   "source": [
    "centroids"
   ]
  },
  {
   "cell_type": "code",
   "execution_count": 107,
   "metadata": {},
   "outputs": [],
   "source": [
    "def initial_centroids(data, k):\n",
    "    num_samples, dim = np.array(data).shape\n",
    "    centroids = np.zeros((k, dim))\n",
    "    for i in range(k):\n",
    "        index = int(random.uniform(0, num_samples))\n",
    "        centroids[i,] = data[index]\n",
    "    return centroids"
   ]
  },
  {
   "cell_type": "code",
   "execution_count": 108,
   "metadata": {},
   "outputs": [
    {
     "data": {
      "text/plain": [
       "array([[ 4.22010943e+00,  4.15510124e+00],\n",
       "       [-2.63523666e+00, -2.71567500e-03],\n",
       "       [-1.30903867e+00,  8.40080492e-01]])"
      ]
     },
     "execution_count": 108,
     "metadata": {},
     "output_type": "execute_result"
    }
   ],
   "source": [
    "initial_centroids(data, 3)"
   ]
  },
  {
   "cell_type": "code",
   "execution_count": 375,
   "metadata": {},
   "outputs": [],
   "source": [
    "def initial_centroids(data, k):  # random.sample 可以直接選點\n",
    "    num_samples, dim = np.array(data).shape\n",
    "    centroids = np.zeros((k, dim))\n",
    "    idx = np.random.randint(len(data), size=3)  # index may duplicate\n",
    "    for i in range(k):\n",
    "        centroids[i] = data[idx[i]]\n",
    "    return centroids"
   ]
  },
  {
   "cell_type": "code",
   "execution_count": 376,
   "metadata": {},
   "outputs": [
    {
     "data": {
      "text/plain": [
       "array([[ 5.51797714,  0.44031717],\n",
       "       [ 0.23893603,  2.06562499],\n",
       "       [-1.97926722, -0.67784909]])"
      ]
     },
     "execution_count": 376,
     "metadata": {},
     "output_type": "execute_result"
    }
   ],
   "source": [
    "centroids = initial_centroids(data, 3)\n",
    "centroids"
   ]
  },
  {
   "cell_type": "code",
   "execution_count": 373,
   "metadata": {},
   "outputs": [],
   "source": [
    "def min_distance(p1, p2):\n",
    "    return sqrt((p1[0]-p2[0])**2+(p1[1]-p2[1])**2)"
   ]
  },
  {
   "cell_type": "code",
   "execution_count": 374,
   "metadata": {},
   "outputs": [],
   "source": [
    "def update2centroids(datapoint, centroids):\n",
    "    k_num_distance = []\n",
    "    for c in centroids:\n",
    "#         print('c=',c)\n",
    "#         print('datapoint=',datapoint)\n",
    "        d = min_distance(c, datapoint)\n",
    "        k_num_distance.append(d)\n",
    "#     print(k_num_distance)\n",
    "#     print(np.argmin(k_num_distance))\n",
    "    return np.argmin(k_num_distance)"
   ]
  },
  {
   "cell_type": "code",
   "execution_count": 375,
   "metadata": {},
   "outputs": [],
   "source": [
    "# # def clasify2cluster(data, k):\n",
    "# cluster=[[] for i in range(3)]\n",
    "# for p_idx in range(10):#range(len(data)):\n",
    "# #     print('data[',p_idx,']=',data[p_idx])\n",
    "#     c_idx = classify2centroid(data[p_idx])\n",
    "# #     print('c_idx =',c_idx)\n",
    "#     cluster[c_idx].append(p_idx)\n",
    "# #     print('cluster',cluster)\n"
   ]
  },
  {
   "cell_type": "code",
   "execution_count": 384,
   "metadata": {
    "scrolled": true
   },
   "outputs": [],
   "source": [
    "def clasify2cluster(data, k, centroids):\n",
    "    cluster=[[] for i in range(k)]\n",
    "    for p in data[:20]:#range(len(data)):\n",
    "    #     print('data[',p_idx,']=',data[p_idx])\n",
    "    #     print(data)\n",
    "        c_idx = update2centroids(p, centroids)\n",
    "    #     print('c_idx =',c_idx)\n",
    "        cluster[c_idx].append(p)\n",
    "    #     print('cluster',cluster)\n",
    "    # find new centroids from the clusters\n",
    "#     print(len(cluster[0]))\n",
    "#     print(len(cluster[1]))\n",
    "#     print(len(cluster[2]))\n",
    "#     print(np.array(cluster).shape)\n",
    "    num_samples, dim = np.array(data).shape\n",
    "    new_centroids = np.zeros((k, dim))\n",
    "    for i in range(k):\n",
    "        new_x = np.array(cluster[i])[:,0].mean()\n",
    "        new_y = np.array(cluster[i])[:,1].mean()\n",
    "        new_centroids[i] = [new_x,new_y]\n",
    "        difference = new_centroids - centroids\n",
    "    return (difference, new_centroids)"
   ]
  },
  {
   "cell_type": "code",
   "execution_count": 371,
   "metadata": {},
   "outputs": [
    {
     "name": "stdout",
     "output_type": "stream",
     "text": [
      "1\n",
      "16\n",
      "3\n",
      "difference\n",
      "[[ 0.20598145 -3.60239835]\n",
      " [ 0.8205766  -0.19365664]\n",
      " [ 1.57569298  0.12522762]]\n",
      "new_centroids\n",
      "[[-2.91294254 -2.57953917]\n",
      " [ 0.74873618 -0.25590036]\n",
      " [-0.5124437   2.40407202]]\n"
     ]
    }
   ],
   "source": [
    "difference, new_centroids = clasify2cluster(data, 3, centroids)\n",
    "print('difference')\n",
    "print(difference)\n",
    "print('new_centroids')\n",
    "print(new_centroids)"
   ]
  },
  {
   "cell_type": "code",
   "execution_count": 417,
   "metadata": {},
   "outputs": [],
   "source": [
    "def kmeans(data, k):\n",
    "    centroids = initial_centroids(data, k)\n",
    "    difference, new_centroids = clasify2cluster(data, k, centroids)\n",
    "#     while difference != np.array([[0., 0.], [0., 0.], [0., 0.]]):\n",
    "    while np.any(difference != 0):\n",
    "        difference, new_centroids = clasify2cluster(data, k, new_centroids)\n",
    "        print('difference')\n",
    "        print(difference)\n",
    "    print('cluster')\n",
    "    print(cluster)\n",
    "    return (difference, new_centroids)"
   ]
  },
  {
   "cell_type": "code",
   "execution_count": 419,
   "metadata": {},
   "outputs": [
    {
     "name": "stdout",
     "output_type": "stream",
     "text": [
      "difference\n",
      "[[ 0.38269352 -0.33346523]\n",
      " [-0.41794    -0.1562769 ]\n",
      " [ 0.1646194   0.24920588]]\n",
      "difference\n",
      "[[ 0.          0.        ]\n",
      " [-0.38766825 -0.10673283]\n",
      " [ 0.54273555  0.14942597]]\n",
      "difference\n",
      "[[ 0.25439777 -0.16469056]\n",
      " [ 0.          0.        ]\n",
      " [ 0.22141036  0.25132918]]\n",
      "difference\n",
      "[[ 0.26364379 -0.31695311]\n",
      " [ 0.          0.        ]\n",
      " [ 0.22291017  0.26297716]]\n",
      "difference\n",
      "[[0. 0.]\n",
      " [0. 0.]\n",
      " [0. 0.]]\n",
      "cluster\n",
      "[[[-1.014080969, 0.38579499], [0.035720735, -0.799697919], [2.483509421, 1.550806091], [-0.557616974, 1.844299967], [1.108422549, 3.089071693], [2.709714097, 1.713412757], [-0.354004402, 0.650573081], [0.655103152, 2.504877515], [2.563056623, 1.630393367], [-2.088136684, 2.278844396], [2.503931156, -0.823421912], [0.647043958, -0.175000364], [1.945385949, 0.710891971]], [[5.517977144, 0.440317168]], [[-1.861331241, -2.991682765], [-2.17009237, -3.292317782], [-2.912942536, -2.579539167], [0.362326849, -2.019124527], [-2.066633814, -0.922130196], [0.022152636, -2.65809723]]]\n"
     ]
    },
    {
     "data": {
      "text/plain": [
       "(array([[0., 0.],\n",
       "        [0., 0.],\n",
       "        [0., 0.]]), array([[ 2.95392907,  0.87039991],\n",
       "        [-1.22725711, -2.18036994],\n",
       "        [-0.22903848,  1.51120875]]))"
      ]
     },
     "execution_count": 419,
     "metadata": {},
     "output_type": "execute_result"
    }
   ],
   "source": [
    "kmeans(data, 3)"
   ]
  },
  {
   "cell_type": "code",
   "execution_count": 426,
   "metadata": {},
   "outputs": [
    {
     "data": {
      "text/plain": [
       "13"
      ]
     },
     "execution_count": 426,
     "metadata": {},
     "output_type": "execute_result"
    }
   ],
   "source": [
    "len(cluster[0])"
   ]
  },
  {
   "cell_type": "code",
   "execution_count": 423,
   "metadata": {},
   "outputs": [
    {
     "data": {
      "text/plain": [
       "array([[ 0.81831143,  1.12006505],\n",
       "       [ 5.51797714,  0.44031717],\n",
       "       [-1.43775341, -2.41048194]])"
      ]
     },
     "execution_count": 423,
     "metadata": {},
     "output_type": "execute_result"
    }
   ],
   "source": [
    "num_samples, dim = np.array(data).shape\n",
    "new_centroids = np.zeros((3, dim))\n",
    "for i in range(3):\n",
    "    new_x = np.array(cluster[i])[:,0].mean()\n",
    "    new_y = np.array(cluster[i])[:,1].mean()\n",
    "    new_centroids[i] = [new_x,new_y]\n",
    "new_centroids"
   ]
  },
  {
   "cell_type": "code",
   "execution_count": 318,
   "metadata": {},
   "outputs": [
    {
     "data": {
      "text/plain": [
       "array([[ 2.15924529, -0.53628734],\n",
       "       [-0.15340514, -6.71780838],\n",
       "       [ 1.71129862, -0.37032419]])"
      ]
     },
     "execution_count": 318,
     "metadata": {},
     "output_type": "execute_result"
    }
   ],
   "source": [
    "difference = new_centroids - centroids\n",
    "difference"
   ]
  },
  {
   "cell_type": "code",
   "execution_count": null,
   "metadata": {},
   "outputs": [],
   "source": []
  },
  {
   "cell_type": "markdown",
   "metadata": {},
   "source": [
    "# k-means"
   ]
  },
  {
   "cell_type": "code",
   "execution_count": 1,
   "metadata": {},
   "outputs": [],
   "source": [
    "import csv\n",
    "import numpy as np\n",
    "from math import *\n",
    "import pandas as pd\n",
    "import matplotlib.pyplot as plt\n",
    "from scipy.stats import multivariate_normal"
   ]
  },
  {
   "cell_type": "code",
   "execution_count": 2,
   "metadata": {},
   "outputs": [],
   "source": [
    "data = []\n",
    "with open('clusters.txt') as file:\n",
    "    reader = csv.reader(file)\n",
    "    for line in reader:\n",
    "        data.append([float(line[0]),float(line[1])])"
   ]
  },
  {
   "cell_type": "code",
   "execution_count": 384,
   "metadata": {},
   "outputs": [],
   "source": [
    "def initial_centroids(data, k):\n",
    "    num_samples, dim = np.array(data).shape\n",
    "    centroids = np.zeros((k, dim))\n",
    "    idx = np.random.randint(len(data), size=3)\n",
    "    for i in range(k):\n",
    "        centroids[i] = data[idx[i]]\n",
    "    return centroids"
   ]
  },
  {
   "cell_type": "code",
   "execution_count": 385,
   "metadata": {},
   "outputs": [],
   "source": [
    "def min_distance(p1, p2):\n",
    "    return sqrt((p1[0]-p2[0])**2+(p1[1]-p2[1])**2)"
   ]
  },
  {
   "cell_type": "code",
   "execution_count": 386,
   "metadata": {},
   "outputs": [],
   "source": [
    "def update2centroids(datapoint, centroids):\n",
    "    k_num_distance = []\n",
    "    for c in centroids:\n",
    "        d = min_distance(c, datapoint)\n",
    "        k_num_distance.append(d)\n",
    "    return np.argmin(k_num_distance)"
   ]
  },
  {
   "cell_type": "code",
   "execution_count": 387,
   "metadata": {},
   "outputs": [],
   "source": [
    "def clasify2cluster(data, k, centroids, cluster):\n",
    "    cluster=[[] for i in range(k)]\n",
    "    for p in data:\n",
    "        c_idx = update2centroids(p, centroids)\n",
    "        cluster[c_idx].append(p)\n",
    "    # find new centroids from the clusters\n",
    "    num_samples, dim = np.array(data).shape\n",
    "    new_centroids = np.zeros((k, dim))\n",
    "    for i in range(k):\n",
    "        new_x = np.array(cluster[i])[:,0].mean()\n",
    "        new_y = np.array(cluster[i])[:,1].mean()\n",
    "        new_centroids[i] = [new_x,new_y]\n",
    "        difference = new_centroids - centroids\n",
    "    return (difference, new_centroids, cluster)"
   ]
  },
  {
   "cell_type": "code",
   "execution_count": 388,
   "metadata": {},
   "outputs": [],
   "source": [
    "def kmeans(data, k):\n",
    "    mark = ['or', 'ob', 'og', 'ok', '^r', '+r', 'sr', 'dr', '<r', 'pr']\n",
    "    centroids_dict = {'cluster1':[],'cluster2':[],'cluster3':[]}\n",
    "    cluster=[[] for i in range(k)]\n",
    "    centroids = initial_centroids(data, k)\n",
    "    centroids_dict['cluster1'].append(tuple(centroids[0]))\n",
    "    centroids_dict['cluster2'].append(tuple(centroids[1]))\n",
    "    centroids_dict['cluster3'].append(tuple(centroids[2]))\n",
    "    difference, new_centroids, cluster = clasify2cluster(data, k, centroids, cluster)\n",
    "    while np.any(difference != 0):\n",
    "        cluster=[[] for i in range(k)]\n",
    "        difference, new_centroids, cluster = clasify2cluster(data, k, new_centroids, cluster)\n",
    "#         print(new_centroids)\n",
    "        for i in range(3):\n",
    "            plt.plot(np.array(cluster[i])[:,0],np.array(cluster[i])[:,1],mark[i])\n",
    "        plt.show()\n",
    "        centroids_dict['cluster1'].append(tuple(new_centroids[0]))\n",
    "        centroids_dict['cluster2'].append(tuple(new_centroids[1]))\n",
    "        centroids_dict['cluster3'].append(tuple(new_centroids[2]))\n",
    "#         for key_index in range(3):\n",
    "#             centroids_dict[list(centroids_dict.keys())[i]].append(new_centroids[i])\n",
    "    return (difference, new_centroids, cluster, centroids_dict)"
   ]
  },
  {
   "cell_type": "code",
   "execution_count": 389,
   "metadata": {},
   "outputs": [],
   "source": [
    "# np.array(cluster[0])[:,0]"
   ]
  },
  {
   "cell_type": "code",
   "execution_count": 390,
   "metadata": {
    "scrolled": false
   },
   "outputs": [
    {
     "data": {
      "image/png": "[encoded data removed]",
      "text/plain": [
       "<Figure size 432x288 with 1 Axes>"
      ]
     },
     "metadata": {
      "needs_background": "light"
     },
     "output_type": "display_data"
    },
    {
     "data": {
      "image/png": "[encoded data removed]",
      "text/plain": [
       "<Figure size 432x288 with 1 Axes>"
      ]
     },
     "metadata": {
      "needs_background": "light"
     },
     "output_type": "display_data"
    },
    {
     "data": {
      "image/png": "[encoded data removed]",
      "text/plain": [
       "<Figure size 432x288 with 1 Axes>"
      ]
     },
     "metadata": {
      "needs_background": "light"
     },
     "output_type": "display_data"
    },
    {
     "data": {
      "image/png": "[encoded data removed]",
      "text/plain": [
       "<Figure size 432x288 with 1 Axes>"
      ]
     },
     "metadata": {
      "needs_background": "light"
     },
     "output_type": "display_data"
    },
    {
     "data": {
      "image/png": "[encoded data removed]",
      "text/plain": [
       "<Figure size 432x288 with 1 Axes>"
      ]
     },
     "metadata": {
      "needs_background": "light"
     },
     "output_type": "display_data"
    },
    {
     "data": {
      "image/png": "[encoded data removed]",
      "text/plain": [
       "<Figure size 432x288 with 1 Axes>"
      ]
     },
     "metadata": {
      "needs_background": "light"
     },
     "output_type": "display_data"
    },
    {
     "data": {
      "image/png": "[encoded data removed]",
      "text/plain": [
       "<Figure size 432x288 with 1 Axes>"
      ]
     },
     "metadata": {
      "needs_background": "light"
     },
     "output_type": "display_data"
    },
    {
     "data": {
      "image/png": "[encoded data removed]",
      "text/plain": [
       "<Figure size 432x288 with 1 Axes>"
      ]
     },
     "metadata": {
      "needs_background": "light"
     },
     "output_type": "display_data"
    },
    {
     "data": {
      "image/png": "[encoded data removed]",
      "text/plain": [
       "<Figure size 432x288 with 1 Axes>"
      ]
     },
     "metadata": {
      "needs_background": "light"
     },
     "output_type": "display_data"
    }
   ],
   "source": [
    "difference, new_centroids, cluster, centroids_dict = kmeans(data, 3)"
   ]
  },
  {
   "cell_type": "code",
   "execution_count": 391,
   "metadata": {},
   "outputs": [
    {
     "data": {
      "text/html": [
       "<div>\n",
       "<style scoped>\n",
       "    .dataframe tbody tr th:only-of-type {\n",
       "        vertical-align: middle;\n",
       "    }\n",
       "\n",
       "    .dataframe tbody tr th {\n",
       "        vertical-align: top;\n",
       "    }\n",
       "\n",
       "    .dataframe thead th {\n",
       "        text-align: right;\n",
       "    }\n",
       "</style>\n",
       "<table border=\"1\" class=\"dataframe\">\n",
       "  <thead>\n",
       "    <tr style=\"text-align: right;\">\n",
       "      <th></th>\n",
       "      <th>cluster1</th>\n",
       "      <th>cluster2</th>\n",
       "      <th>cluster3</th>\n",
       "    </tr>\n",
       "  </thead>\n",
       "  <tbody>\n",
       "    <tr>\n",
       "      <th>0</th>\n",
       "      <td>(9.24625283, 5.798154028)</td>\n",
       "      <td>(4.332341441, 0.379144641)</td>\n",
       "      <td>(7.6139873, 3.886738434)</td>\n",
       "    </tr>\n",
       "    <tr>\n",
       "      <th>1</th>\n",
       "      <td>(7.046183187285714, 6.504576220285714)</td>\n",
       "      <td>(-0.39503845620388345, -0.33566899328155325)</td>\n",
       "      <td>(4.87937217245, 3.920994646174999)</td>\n",
       "    </tr>\n",
       "    <tr>\n",
       "      <th>2</th>\n",
       "      <td>(6.4214513885333355, 6.02525778)</td>\n",
       "      <td>(-0.6973655013617024, -0.5281010588723403)</td>\n",
       "      <td>(4.220482793170732, 3.0990377052439024)</td>\n",
       "    </tr>\n",
       "    <tr>\n",
       "      <th>3</th>\n",
       "      <td>(6.3445781536500006, 5.66186046165)</td>\n",
       "      <td>(-0.8382861027777778, -0.5996742275444444)</td>\n",
       "      <td>(3.809084859925, 2.713284608175)</td>\n",
       "    </tr>\n",
       "    <tr>\n",
       "      <th>4</th>\n",
       "      <td>(6.300685761, 5.588236078761905)</td>\n",
       "      <td>(-0.8868890721704545, -0.6498460223295455)</td>\n",
       "      <td>(3.6473425753658537, 2.6251562290731707)</td>\n",
       "    </tr>\n",
       "    <tr>\n",
       "      <th>5</th>\n",
       "      <td>(6.265895876045454, 5.503770484590909)</td>\n",
       "      <td>(-0.8868890721704545, -0.6498460223295455)</td>\n",
       "      <td>(3.6001434324499995, 2.597535309625)</td>\n",
       "    </tr>\n",
       "    <tr>\n",
       "      <th>6</th>\n",
       "      <td>(5.969836109730769, 5.372061227576923)</td>\n",
       "      <td>(-0.8868890721704545, -0.6498460223295455)</td>\n",
       "      <td>(3.517769658833333, 2.369743642472222)</td>\n",
       "    </tr>\n",
       "    <tr>\n",
       "      <th>7</th>\n",
       "      <td>(5.850027767310345, 5.227752722448277)</td>\n",
       "      <td>(-0.9258640173218393, -0.6478508971609195)</td>\n",
       "      <td>(3.373781543382353, 2.1340032994999993)</td>\n",
       "    </tr>\n",
       "    <tr>\n",
       "      <th>8</th>\n",
       "      <td>(5.738495346032258, 5.164838081193549)</td>\n",
       "      <td>(-0.960652907023256, -0.652218412860465)</td>\n",
       "      <td>(3.2888485605151514, 1.9326883657575757)</td>\n",
       "    </tr>\n",
       "    <tr>\n",
       "      <th>9</th>\n",
       "      <td>(5.738495346032258, 5.164838081193549)</td>\n",
       "      <td>(-0.960652907023256, -0.652218412860465)</td>\n",
       "      <td>(3.2888485605151514, 1.9326883657575757)</td>\n",
       "    </tr>\n",
       "  </tbody>\n",
       "</table>\n",
       "</div>"
      ],
      "text/plain": [
       "                                 cluster1  \\\n",
       "0               (9.24625283, 5.798154028)   \n",
       "1  (7.046183187285714, 6.504576220285714)   \n",
       "2        (6.4214513885333355, 6.02525778)   \n",
       "3     (6.3445781536500006, 5.66186046165)   \n",
       "4        (6.300685761, 5.588236078761905)   \n",
       "5  (6.265895876045454, 5.503770484590909)   \n",
       "6  (5.969836109730769, 5.372061227576923)   \n",
       "7  (5.850027767310345, 5.227752722448277)   \n",
       "8  (5.738495346032258, 5.164838081193549)   \n",
       "9  (5.738495346032258, 5.164838081193549)   \n",
       "\n",
       "                                       cluster2  \\\n",
       "0                    (4.332341441, 0.379144641)   \n",
       "1  (-0.39503845620388345, -0.33566899328155325)   \n",
       "2    (-0.6973655013617024, -0.5281010588723403)   \n",
       "3    (-0.8382861027777778, -0.5996742275444444)   \n",
       "4    (-0.8868890721704545, -0.6498460223295455)   \n",
       "5    (-0.8868890721704545, -0.6498460223295455)   \n",
       "6    (-0.8868890721704545, -0.6498460223295455)   \n",
       "7    (-0.9258640173218393, -0.6478508971609195)   \n",
       "8      (-0.960652907023256, -0.652218412860465)   \n",
       "9      (-0.960652907023256, -0.652218412860465)   \n",
       "\n",
       "                                   cluster3  \n",
       "0                  (7.6139873, 3.886738434)  \n",
       "1        (4.87937217245, 3.920994646174999)  \n",
       "2   (4.220482793170732, 3.0990377052439024)  \n",
       "3          (3.809084859925, 2.713284608175)  \n",
       "4  (3.6473425753658537, 2.6251562290731707)  \n",
       "5      (3.6001434324499995, 2.597535309625)  \n",
       "6    (3.517769658833333, 2.369743642472222)  \n",
       "7   (3.373781543382353, 2.1340032994999993)  \n",
       "8  (3.2888485605151514, 1.9326883657575757)  \n",
       "9  (3.2888485605151514, 1.9326883657575757)  "
      ]
     },
     "execution_count": 391,
     "metadata": {},
     "output_type": "execute_result"
    }
   ],
   "source": [
    "df = pd.DataFrame(centroids_dict)\n",
    "df"
   ]
  },
  {
   "cell_type": "code",
   "execution_count": 392,
   "metadata": {},
   "outputs": [
    {
     "name": "stdout",
     "output_type": "stream",
     "text": [
      "31\n",
      "86\n",
      "33\n"
     ]
    }
   ],
   "source": [
    "print(len(cluster[0]))\n",
    "print(len(cluster[1]))\n",
    "print(len(cluster[2]))"
   ]
  },
  {
   "cell_type": "code",
   "execution_count": null,
   "metadata": {},
   "outputs": [],
   "source": []
  },
  {
   "cell_type": "code",
   "execution_count": 119,
   "metadata": {},
   "outputs": [
    {
     "name": "stdout",
     "output_type": "stream",
     "text": [
      "83\n",
      "29\n",
      "38\n"
     ]
    }
   ],
   "source": [
    "print(len(cluster[0]))\n",
    "print(len(cluster[1]))\n",
    "print(len(cluster[2]))"
   ]
  },
  {
   "cell_type": "code",
   "execution_count": 27,
   "metadata": {},
   "outputs": [
    {
     "name": "stdout",
     "output_type": "stream",
     "text": [
      "36\n",
      "49\n",
      "65\n"
     ]
    }
   ],
   "source": [
    "print(len(cluster[0]))\n",
    "print(len(cluster[1]))\n",
    "print(len(cluster[2]))"
   ]
  },
  {
   "cell_type": "code",
   "execution_count": 25,
   "metadata": {},
   "outputs": [
    {
     "name": "stdout",
     "output_type": "stream",
     "text": [
      "49\n",
      "36\n",
      "65\n"
     ]
    }
   ],
   "source": [
    "print(len(cluster[0]))\n",
    "print(len(cluster[1]))\n",
    "print(len(cluster[2]))"
   ]
  },
  {
   "cell_type": "code",
   "execution_count": 29,
   "metadata": {},
   "outputs": [
    {
     "name": "stdout",
     "output_type": "stream",
     "text": [
      "38\n",
      "29\n",
      "83\n"
     ]
    }
   ],
   "source": [
    "print(len(cluster[0]))\n",
    "print(len(cluster[1]))\n",
    "print(len(cluster[2]))"
   ]
  },
  {
   "cell_type": "code",
   "execution_count": null,
   "metadata": {},
   "outputs": [],
   "source": []
  },
  {
   "cell_type": "code",
   "execution_count": null,
   "metadata": {},
   "outputs": [],
   "source": []
  },
  {
   "cell_type": "code",
   "execution_count": null,
   "metadata": {},
   "outputs": [],
   "source": []
  },
  {
   "cell_type": "markdown",
   "metadata": {},
   "source": [
    "# GMM"
   ]
  },
  {
   "cell_type": "code",
   "execution_count": 20,
   "metadata": {},
   "outputs": [],
   "source": [
    "def initial_weights(data, k):\n",
    "    initalWeight = np.zeros((len(data), k))\n",
    "    random_int = np.random.randint(low=1,high=10000,size=(len(data), k))\n",
    "    for row in range(len(random_int)):\n",
    "        initalWeight[row] = random_int[row]/sum(random_int[row])\n",
    "    return initalWeight"
   ]
  },
  {
   "cell_type": "code",
   "execution_count": 21,
   "metadata": {},
   "outputs": [],
   "source": [
    "# initial_weights(data, 3)"
   ]
  },
  {
   "cell_type": "code",
   "execution_count": 22,
   "metadata": {},
   "outputs": [],
   "source": [
    "def caluculate_new_mu(k, ric, data):\n",
    "    new_mu = np.zeros((k, 2))\n",
    "    # calculate the mu of each cluster\n",
    "    for c_index in range(k):\n",
    "        # loop all datapoints and their corresponding ric\n",
    "        for r, p in zip(ric[:,c_index], np.array(data)):\n",
    "            new_mu[c_index] += r*p\n",
    "        new_mu[c_index] = new_mu[c_index] / sum(ric[:,c_index])\n",
    "    return new_mu"
   ]
  },
  {
   "cell_type": "code",
   "execution_count": 23,
   "metadata": {},
   "outputs": [],
   "source": [
    "def caluculate_new_sigma(k, ric, data, mu):\n",
    "    new_sigma = np.array([[[0, 0], [0, 0]] for i in range(0,k)], dtype='float64')\n",
    "    for c_index in range(k):\n",
    "        # loop all datapoints and their corresponding ric\n",
    "        for r, p in zip(ric[:,c_index], np.array(data)):\n",
    "            new_sigma[c_index] += r*np.outer(p-mu[c_index],p-mu[c_index])\n",
    "        new_sigma[c_index] = new_sigma[c_index] / sum(ric[:,c_index])\n",
    "    return new_sigma"
   ]
  },
  {
   "cell_type": "code",
   "execution_count": 24,
   "metadata": {},
   "outputs": [],
   "source": [
    "def caluculate_new_pi(k, ric, data):\n",
    "    new_pi = np.zeros(k)\n",
    "    for idx in range(k):\n",
    "        new_pi[idx] = sum(ric[:,idx]) / len(data)\n",
    "    return new_pi"
   ]
  },
  {
   "cell_type": "code",
   "execution_count": 25,
   "metadata": {},
   "outputs": [],
   "source": [
    "def update_ric(k, data, mu, sigma, pi):\n",
    "    pdfs = np.zeros(((len(data), k)))\n",
    "    for i in range(k):\n",
    "        pdfs[:, i] = pi[i] * multivariate_normal.pdf(data, mu[i], sigma[i])\n",
    "    ric = pdfs / pdfs.sum(axis=1).reshape(-1, 1)\n",
    "    return ric"
   ]
  },
  {
   "cell_type": "code",
   "execution_count": 26,
   "metadata": {},
   "outputs": [],
   "source": [
    "def GMM(data, k):\n",
    "    diff = float('Inf')\n",
    "    cluster=[[] for i in range(k)]\n",
    "    ric = initial_weights(data, k)\n",
    "    while np.any(abs(diff) > 0.005):\n",
    "        mu = caluculate_new_mu(k, ric, data)\n",
    "        sigma = caluculate_new_sigma(k, ric, data, mu)\n",
    "        pi = caluculate_new_pi(k, ric, data)\n",
    "        new_ric = update_ric(k, data, mu, sigma, pi)\n",
    "        diff = new_ric - ric\n",
    "        ric = new_ric\n",
    "#         print('####',mu)\n",
    "        for idx in range(len(ric)):\n",
    "            c_idx = np.argmax(ric[idx])\n",
    "            cluster[c_idx].append(data[idx])\n",
    "        \n",
    "    for i in range(3):\n",
    "        mark = ['or', 'ob', 'og', 'ok', '^r', '+r', 'sr', 'dr', '<r', 'pr']\n",
    "        plt.plot(np.array(cluster[i])[:,0],np.array(cluster[i])[:,1],mark[i])\n",
    "    plt.show()\n",
    "    return (mu, sigma, pi, ric)"
   ]
  },
  {
   "cell_type": "code",
   "execution_count": 29,
   "metadata": {},
   "outputs": [
    {
     "data": {
      "image/png": "[encoded data removed]",
      "text/plain": [
       "<Figure size 432x288 with 1 Axes>"
      ]
     },
     "metadata": {
      "needs_background": "light"
     },
     "output_type": "display_data"
    }
   ],
   "source": [
    "mu, sigma, pi, ric = GMM(data, 3)"
   ]
  },
  {
   "cell_type": "code",
   "execution_count": null,
   "metadata": {},
   "outputs": [],
   "source": []
  },
  {
   "cell_type": "code",
   "execution_count": null,
   "metadata": {},
   "outputs": [],
   "source": []
  },
  {
   "cell_type": "code",
   "execution_count": null,
   "metadata": {},
   "outputs": [],
   "source": []
  },
  {
   "cell_type": "code",
   "execution_count": 204,
   "metadata": {},
   "outputs": [],
   "source": [
    "for row in range(len(random_int)):\n",
    "    initalWeight[row] = random_int[row]/sum(random_int[row])"
   ]
  },
  {
   "cell_type": "code",
   "execution_count": 205,
   "metadata": {},
   "outputs": [],
   "source": [
    "# initalWeight[0] = initalWeight[0]/sum(initalWeight[0])"
   ]
  },
  {
   "cell_type": "code",
   "execution_count": 206,
   "metadata": {
    "collapsed": true
   },
   "outputs": [
    {
     "data": {
      "text/plain": [
       "array([[0.53846154, 0.15384615, 0.30769231],\n",
       "       [0.3125    , 0.25      , 0.4375    ],\n",
       "       [0.3       , 0.3       , 0.4       ],\n",
       "       [0.27272727, 0.27272727, 0.45454545],\n",
       "       [0.27777778, 0.16666667, 0.55555556],\n",
       "       [0.42857143, 0.33333333, 0.23809524],\n",
       "       [0.23809524, 0.28571429, 0.47619048],\n",
       "       [0.23529412, 0.23529412, 0.52941176],\n",
       "       [0.5       , 0.45      , 0.05      ],\n",
       "       [0.17391304, 0.39130435, 0.43478261],\n",
       "       [0.47368421, 0.10526316, 0.42105263],\n",
       "       [0.33333333, 0.22222222, 0.44444444],\n",
       "       [0.47619048, 0.04761905, 0.47619048],\n",
       "       [0.20833333, 0.41666667, 0.375     ],\n",
       "       [0.26923077, 0.38461538, 0.34615385],\n",
       "       [0.05882353, 0.52941176, 0.41176471],\n",
       "       [0.35294118, 0.41176471, 0.23529412],\n",
       "       [0.375     , 0.125     , 0.5       ],\n",
       "       [0.27272727, 0.36363636, 0.36363636],\n",
       "       [0.45454545, 0.45454545, 0.09090909],\n",
       "       [0.19047619, 0.47619048, 0.33333333],\n",
       "       [0.46153846, 0.30769231, 0.23076923],\n",
       "       [0.47368421, 0.31578947, 0.21052632],\n",
       "       [0.42857143, 0.14285714, 0.42857143],\n",
       "       [0.17647059, 0.23529412, 0.58823529],\n",
       "       [0.375     , 0.41666667, 0.20833333],\n",
       "       [0.16666667, 0.33333333, 0.5       ],\n",
       "       [0.25      , 0.5       , 0.25      ],\n",
       "       [0.42857143, 0.42857143, 0.14285714],\n",
       "       [0.10526316, 0.52631579, 0.36842105],\n",
       "       [0.44444444, 0.22222222, 0.33333333],\n",
       "       [0.14285714, 0.14285714, 0.71428571],\n",
       "       [0.40909091, 0.27272727, 0.31818182],\n",
       "       [0.21052632, 0.36842105, 0.42105263],\n",
       "       [0.35714286, 0.35714286, 0.28571429],\n",
       "       [0.52941176, 0.29411765, 0.17647059],\n",
       "       [0.625     , 0.125     , 0.25      ],\n",
       "       [0.45      , 0.1       , 0.45      ],\n",
       "       [0.46666667, 0.26666667, 0.26666667],\n",
       "       [0.22222222, 0.33333333, 0.44444444],\n",
       "       [0.27272727, 0.36363636, 0.36363636],\n",
       "       [0.33333333, 0.38888889, 0.27777778],\n",
       "       [0.21052632, 0.36842105, 0.42105263],\n",
       "       [0.17647059, 0.58823529, 0.23529412],\n",
       "       [0.5       , 0.28571429, 0.21428571],\n",
       "       [0.66666667, 0.11111111, 0.22222222],\n",
       "       [0.16666667, 0.27777778, 0.55555556],\n",
       "       [0.375     , 0.25      , 0.375     ],\n",
       "       [0.21052632, 0.26315789, 0.52631579],\n",
       "       [0.5       , 0.38888889, 0.11111111],\n",
       "       [0.42857143, 0.21428571, 0.35714286],\n",
       "       [0.07692308, 0.38461538, 0.53846154],\n",
       "       [0.13636364, 0.40909091, 0.45454545],\n",
       "       [0.35294118, 0.52941176, 0.11764706],\n",
       "       [0.45      , 0.35      , 0.2       ],\n",
       "       [0.29411765, 0.58823529, 0.11764706],\n",
       "       [0.23529412, 0.58823529, 0.17647059],\n",
       "       [0.41666667, 0.16666667, 0.41666667],\n",
       "       [0.37037037, 0.33333333, 0.2962963 ],\n",
       "       [0.37037037, 0.2962963 , 0.33333333],\n",
       "       [0.32142857, 0.35714286, 0.32142857],\n",
       "       [0.5       , 0.16666667, 0.33333333],\n",
       "       [0.39130435, 0.2173913 , 0.39130435],\n",
       "       [0.05555556, 0.5       , 0.44444444],\n",
       "       [0.44444444, 0.05555556, 0.5       ],\n",
       "       [0.47058824, 0.29411765, 0.23529412],\n",
       "       [0.11764706, 0.41176471, 0.47058824],\n",
       "       [0.5       , 0.3       , 0.2       ],\n",
       "       [0.26666667, 0.33333333, 0.4       ],\n",
       "       [0.32142857, 0.32142857, 0.35714286],\n",
       "       [0.45      , 0.5       , 0.05      ],\n",
       "       [0.36363636, 0.36363636, 0.27272727],\n",
       "       [0.05555556, 0.38888889, 0.55555556],\n",
       "       [0.07692308, 0.69230769, 0.23076923],\n",
       "       [0.39130435, 0.30434783, 0.30434783],\n",
       "       [0.45      , 0.05      , 0.5       ],\n",
       "       [0.18181818, 0.54545455, 0.27272727],\n",
       "       [0.4       , 0.2       , 0.4       ],\n",
       "       [0.18181818, 0.45454545, 0.36363636],\n",
       "       [0.44444444, 0.44444444, 0.11111111],\n",
       "       [0.53333333, 0.06666667, 0.4       ],\n",
       "       [0.42105263, 0.36842105, 0.21052632],\n",
       "       [0.40909091, 0.18181818, 0.40909091],\n",
       "       [0.23076923, 0.15384615, 0.61538462],\n",
       "       [0.5       , 0.05      , 0.45      ],\n",
       "       [0.35      , 0.3       , 0.35      ],\n",
       "       [0.41666667, 0.41666667, 0.16666667],\n",
       "       [0.47058824, 0.35294118, 0.17647059],\n",
       "       [0.39130435, 0.30434783, 0.30434783],\n",
       "       [0.46153846, 0.30769231, 0.23076923],\n",
       "       [0.26666667, 0.06666667, 0.66666667],\n",
       "       [0.35714286, 0.21428571, 0.42857143],\n",
       "       [0.5625    , 0.125     , 0.3125    ],\n",
       "       [0.47058824, 0.05882353, 0.47058824],\n",
       "       [0.14285714, 0.42857143, 0.42857143],\n",
       "       [0.33333333, 0.6       , 0.06666667],\n",
       "       [0.21428571, 0.5       , 0.28571429],\n",
       "       [0.47058824, 0.11764706, 0.41176471],\n",
       "       [0.52941176, 0.29411765, 0.17647059],\n",
       "       [0.36      , 0.28      , 0.36      ],\n",
       "       [0.5       , 0.25      , 0.25      ],\n",
       "       [0.33333333, 0.5       , 0.16666667],\n",
       "       [0.39130435, 0.17391304, 0.43478261],\n",
       "       [0.125     , 0.625     , 0.25      ],\n",
       "       [0.625     , 0.0625    , 0.3125    ],\n",
       "       [0.47368421, 0.05263158, 0.47368421],\n",
       "       [0.11764706, 0.52941176, 0.35294118],\n",
       "       [0.07142857, 0.57142857, 0.35714286],\n",
       "       [0.21052632, 0.36842105, 0.42105263],\n",
       "       [0.4       , 0.13333333, 0.46666667],\n",
       "       [0.35714286, 0.35714286, 0.28571429],\n",
       "       [0.31578947, 0.31578947, 0.36842105],\n",
       "       [0.16666667, 0.25      , 0.58333333],\n",
       "       [0.45454545, 0.27272727, 0.27272727],\n",
       "       [0.23076923, 0.23076923, 0.53846154],\n",
       "       [0.20833333, 0.375     , 0.41666667],\n",
       "       [0.26315789, 0.31578947, 0.42105263],\n",
       "       [0.14285714, 0.38095238, 0.47619048],\n",
       "       [0.29411765, 0.47058824, 0.23529412],\n",
       "       [0.5       , 0.33333333, 0.16666667],\n",
       "       [0.6       , 0.1       , 0.3       ],\n",
       "       [0.4375    , 0.1875    , 0.375     ],\n",
       "       [0.66666667, 0.22222222, 0.11111111],\n",
       "       [0.0625    , 0.5625    , 0.375     ],\n",
       "       [0.47619048, 0.33333333, 0.19047619],\n",
       "       [0.33333333, 0.11111111, 0.55555556],\n",
       "       [0.64285714, 0.28571429, 0.07142857],\n",
       "       [0.07142857, 0.5       , 0.42857143],\n",
       "       [0.53333333, 0.13333333, 0.33333333],\n",
       "       [0.47058824, 0.29411765, 0.23529412],\n",
       "       [0.1       , 0.45      , 0.45      ],\n",
       "       [0.69230769, 0.15384615, 0.15384615],\n",
       "       [0.6       , 0.3       , 0.1       ],\n",
       "       [0.44444444, 0.38888889, 0.16666667],\n",
       "       [0.34782609, 0.2173913 , 0.43478261],\n",
       "       [0.28      , 0.36      , 0.36      ],\n",
       "       [0.32      , 0.4       , 0.28      ],\n",
       "       [0.125     , 0.75      , 0.125     ],\n",
       "       [0.29411765, 0.35294118, 0.35294118],\n",
       "       [0.22727273, 0.31818182, 0.45454545],\n",
       "       [0.4       , 0.33333333, 0.26666667],\n",
       "       [0.5       , 0.3       , 0.2       ],\n",
       "       [0.33333333, 0.33333333, 0.33333333],\n",
       "       [0.27272727, 0.27272727, 0.45454545],\n",
       "       [0.33333333, 0.53333333, 0.13333333],\n",
       "       [0.45      , 0.5       , 0.05      ],\n",
       "       [0.41666667, 0.33333333, 0.25      ],\n",
       "       [0.28571429, 0.47619048, 0.23809524],\n",
       "       [0.27777778, 0.16666667, 0.55555556],\n",
       "       [0.33333333, 0.41666667, 0.25      ]])"
      ]
     },
     "execution_count": 206,
     "metadata": {},
     "output_type": "execute_result"
    }
   ],
   "source": [
    "initalWeight"
   ]
  },
  {
   "cell_type": "code",
   "execution_count": 4,
   "metadata": {},
   "outputs": [],
   "source": [
    "def initial_weights(data, k):\n",
    "    initalWeight = np.zeros((len(data), k))\n",
    "    random_int = np.random.randint(low=1,high=10000,size=(len(data), k))\n",
    "    for row in range(len(random_int)):\n",
    "        initalWeight[row] = random_int[row]/sum(random_int[row])\n",
    "    return initalWeight"
   ]
  },
  {
   "cell_type": "code",
   "execution_count": 7,
   "metadata": {},
   "outputs": [
    {
     "data": {
      "text/plain": [
       "array([[0.77793638, 0.16823002, 0.05383361],\n",
       "       [0.48778639, 0.30869236, 0.20352125],\n",
       "       [0.06324228, 0.48752969, 0.44922803],\n",
       "       [0.4022959 , 0.34489835, 0.25280575],\n",
       "       [0.35707389, 0.49366729, 0.14925882],\n",
       "       [0.7816584 , 0.07897702, 0.13936458],\n",
       "       [0.36159072, 0.38649873, 0.25191056],\n",
       "       [0.42987734, 0.16975237, 0.40037028],\n",
       "       [0.11402556, 0.1767605 , 0.70921393],\n",
       "       [0.0089694 , 0.5722828 , 0.4187478 ],\n",
       "       [0.79002961, 0.10146435, 0.10850604],\n",
       "       [0.59567857, 0.27214915, 0.13217228],\n",
       "       [0.14217235, 0.48469332, 0.37313433],\n",
       "       [0.35425722, 0.12132447, 0.52441831],\n",
       "       [0.3625144 , 0.43749657, 0.19998903],\n",
       "       [0.26426271, 0.32890499, 0.4068323 ],\n",
       "       [0.49877647, 0.10410682, 0.39711671],\n",
       "       [0.27344683, 0.37477599, 0.35177718],\n",
       "       [0.27054696, 0.15908437, 0.57036867],\n",
       "       [0.16616264, 0.38065651, 0.45318084],\n",
       "       [0.36002483, 0.56672874, 0.07324643],\n",
       "       [0.79278623, 0.15101558, 0.0561982 ],\n",
       "       [0.26274911, 0.42243229, 0.3148186 ],\n",
       "       [0.19054211, 0.26358049, 0.5458774 ],\n",
       "       [0.02714676, 0.35611273, 0.6167405 ],\n",
       "       [0.51574074, 0.47928241, 0.00497685],\n",
       "       [0.08006014, 0.06370983, 0.85623003],\n",
       "       [0.10884745, 0.21358745, 0.6775651 ],\n",
       "       [0.82839879, 0.03856999, 0.13303122],\n",
       "       [0.72792051, 0.25160578, 0.02047371],\n",
       "       [0.13384189, 0.37361304, 0.49254508],\n",
       "       [0.24680446, 0.3789321 , 0.37426344],\n",
       "       [0.30548493, 0.56713888, 0.1273762 ],\n",
       "       [0.45498858, 0.19954303, 0.34546839],\n",
       "       [0.32629923, 0.36269367, 0.3110071 ],\n",
       "       [0.37323944, 0.30639482, 0.32036574],\n",
       "       [0.51657308, 0.20032603, 0.28310089],\n",
       "       [0.37772926, 0.2319214 , 0.39034934],\n",
       "       [0.6083472 , 0.09154799, 0.3001048 ],\n",
       "       [0.22527407, 0.39510033, 0.3796256 ],\n",
       "       [0.30076762, 0.41775043, 0.28148195],\n",
       "       [0.30880609, 0.28399881, 0.4071951 ],\n",
       "       [0.0584681 , 0.4737871 , 0.4677448 ],\n",
       "       [0.20005107, 0.52617133, 0.27377761],\n",
       "       [0.64300928, 0.27914806, 0.07784267],\n",
       "       [0.37132374, 0.27839248, 0.35028378],\n",
       "       [0.24797505, 0.31393067, 0.43809428],\n",
       "       [0.60093748, 0.09406531, 0.30499722],\n",
       "       [0.73396029, 0.26144201, 0.0045977 ],\n",
       "       [0.38766603, 0.10815939, 0.50417457],\n",
       "       [0.27086022, 0.24527243, 0.48386735],\n",
       "       [0.35702604, 0.324653  , 0.31832096],\n",
       "       [0.03034617, 0.69541436, 0.27423947],\n",
       "       [0.36932083, 0.14268609, 0.48799308],\n",
       "       [0.02412975, 0.02333861, 0.95253165],\n",
       "       [0.11108894, 0.43723808, 0.45167299],\n",
       "       [0.21358276, 0.41716145, 0.3692558 ],\n",
       "       [0.50936095, 0.40841063, 0.08222842],\n",
       "       [0.59212317, 0.08406731, 0.32380952],\n",
       "       [0.19179427, 0.24937835, 0.55882738],\n",
       "       [0.43453263, 0.54158023, 0.02388714],\n",
       "       [0.32900997, 0.36020832, 0.31078171],\n",
       "       [0.47553366, 0.25155993, 0.2729064 ],\n",
       "       [0.40915139, 0.37403958, 0.21680903],\n",
       "       [0.35410152, 0.06743645, 0.57846203],\n",
       "       [0.29398827, 0.16972141, 0.53629032],\n",
       "       [0.39207545, 0.43988374, 0.16804081],\n",
       "       [0.33699801, 0.54000611, 0.12299588],\n",
       "       [0.42579929, 0.19023091, 0.3839698 ],\n",
       "       [0.3081822 , 0.03772671, 0.6540911 ],\n",
       "       [0.30760807, 0.17510086, 0.51729107],\n",
       "       [0.30008681, 0.10195814, 0.59795505],\n",
       "       [0.48298559, 0.00832091, 0.50869349],\n",
       "       [0.23272514, 0.69473144, 0.07254342],\n",
       "       [0.15793643, 0.4316764 , 0.41038717],\n",
       "       [0.41422211, 0.34023049, 0.24554741],\n",
       "       [0.49669841, 0.25335372, 0.24994787],\n",
       "       [0.27865862, 0.36914122, 0.35220017],\n",
       "       [0.29785724, 0.22200937, 0.48013339],\n",
       "       [0.12518009, 0.80902833, 0.06579158],\n",
       "       [0.07620349, 0.52659239, 0.39720412],\n",
       "       [0.85416667, 0.11158192, 0.03425141],\n",
       "       [0.45644847, 0.17367394, 0.36987759],\n",
       "       [0.36170791, 0.08684616, 0.55144593],\n",
       "       [0.38087039, 0.42559511, 0.1935345 ],\n",
       "       [0.07828991, 0.4752171 , 0.44649299],\n",
       "       [0.3622827 , 0.19672853, 0.44098878],\n",
       "       [0.40586915, 0.37572162, 0.21840924],\n",
       "       [0.29118573, 0.30340279, 0.40541148],\n",
       "       [0.55456385, 0.01921933, 0.42621683],\n",
       "       [0.02304369, 0.51620259, 0.46075372],\n",
       "       [0.50534396, 0.23999223, 0.25466382],\n",
       "       [0.2318123 , 0.37178286, 0.39640484],\n",
       "       [0.08818835, 0.34586991, 0.56594174],\n",
       "       [0.34504601, 0.48353114, 0.17142286],\n",
       "       [0.33050921, 0.30673468, 0.36275612],\n",
       "       [0.00687002, 0.3577906 , 0.63533938],\n",
       "       [0.20428703, 0.71181623, 0.08389674],\n",
       "       [0.80069626, 0.11067595, 0.08862779],\n",
       "       [0.12577975, 0.31537908, 0.55884117],\n",
       "       [0.51761962, 0.42088444, 0.06149594],\n",
       "       [0.01019433, 0.86381013, 0.12599554],\n",
       "       [0.57985304, 0.17356525, 0.24658171],\n",
       "       [0.58351574, 0.05872141, 0.35776285],\n",
       "       [0.46193808, 0.51568886, 0.02237307],\n",
       "       [0.47635206, 0.03252245, 0.4911255 ],\n",
       "       [0.03053242, 0.13777441, 0.83169316],\n",
       "       [0.66666667, 0.05868703, 0.27464631],\n",
       "       [0.41269054, 0.27456934, 0.31274012],\n",
       "       [0.19060916, 0.6801117 , 0.12927914],\n",
       "       [0.07330651, 0.43057929, 0.4961142 ],\n",
       "       [0.47871521, 0.46249038, 0.05879441],\n",
       "       [0.44510576, 0.27854592, 0.27634832],\n",
       "       [0.12442684, 0.03939141, 0.83618174],\n",
       "       [0.64445852, 0.31247625, 0.04306523],\n",
       "       [0.11434163, 0.86161588, 0.02404249],\n",
       "       [0.30384381, 0.36171882, 0.33443737],\n",
       "       [0.44647188, 0.44924356, 0.10428456],\n",
       "       [0.20073447, 0.44553741, 0.35372811],\n",
       "       [0.34210856, 0.42033346, 0.23755798],\n",
       "       [0.24815809, 0.19865042, 0.55319149],\n",
       "       [0.39651553, 0.10915197, 0.49433249],\n",
       "       [0.26751139, 0.07937073, 0.65311788],\n",
       "       [0.55683068, 0.17777625, 0.26539307],\n",
       "       [0.18897638, 0.23966535, 0.57135827],\n",
       "       [0.41619289, 0.18494417, 0.39886294],\n",
       "       [0.37087253, 0.00836847, 0.620759  ],\n",
       "       [0.17689123, 0.5242755 , 0.29883327],\n",
       "       [0.60705613, 0.14361846, 0.24932542],\n",
       "       [0.22198366, 0.41665176, 0.36136459],\n",
       "       [0.65413742, 0.19800517, 0.14785741],\n",
       "       [0.52924305, 0.4467439 , 0.02401305],\n",
       "       [0.46305623, 0.20670855, 0.33023521],\n",
       "       [0.91685133, 0.00982754, 0.07332113],\n",
       "       [0.41722454, 0.12216238, 0.46061308],\n",
       "       [0.066     , 0.52497297, 0.40902703],\n",
       "       [0.58171533, 0.0100902 , 0.40819447],\n",
       "       [0.10471017, 0.52776785, 0.36752198],\n",
       "       [0.70020299, 0.19056077, 0.10923623],\n",
       "       [0.77312775, 0.08745789, 0.13941436],\n",
       "       [0.44663457, 0.3156786 , 0.23768683],\n",
       "       [0.26947503, 0.31061003, 0.41991493],\n",
       "       [0.2094886 , 0.61138984, 0.17912156],\n",
       "       [0.48771852, 0.09399203, 0.41828944],\n",
       "       [0.42045661, 0.26239932, 0.31714407],\n",
       "       [0.81685861, 0.1487524 , 0.034389  ],\n",
       "       [0.7228825 , 0.16172709, 0.1153904 ],\n",
       "       [0.40591953, 0.30442446, 0.28965601],\n",
       "       [0.51606755, 0.32442162, 0.15951083],\n",
       "       [0.43058968, 0.29269042, 0.2767199 ]])"
      ]
     },
     "execution_count": 7,
     "metadata": {},
     "output_type": "execute_result"
    }
   ],
   "source": [
    "initalWeight = initial_weights(data, 3)\n",
    "initalWeight"
   ]
  },
  {
   "cell_type": "code",
   "execution_count": 268,
   "metadata": {},
   "outputs": [
    {
     "name": "stdout",
     "output_type": "stream",
     "text": [
      "### [[ 0.45053946 -0.02175571]\n",
      " [ 0.          0.        ]\n",
      " [ 0.          0.        ]]\n",
      "### [[ 0.45053946 -0.02175571]\n",
      " [ 0.53070956  0.13960506]\n",
      " [ 0.          0.        ]]\n",
      "### [[ 0.45053946 -0.02175571]\n",
      " [ 0.53070956  0.13960506]\n",
      " [ 0.11772305 -0.06618377]]\n"
     ]
    }
   ],
   "source": [
    "new_mu = np.zeros((3, 2))\n",
    "total_rk = np.zeros(3)\n",
    "# calculate the mu of each cluster\n",
    "for c_index in range(3):\n",
    "#     print('%%%%%%%%%%%%%%%%%%%%%%%%%%%%%%%%%%%%%%%%%%%%%%%%')\n",
    "    # loop all datapoints and their corresponding ric\n",
    "    for ric, p in zip(initalWeight[:,c_index], np.array(data[:20])):\n",
    "#         print(ric,' * ',p,' = ',ric*p)\n",
    "        new_mu[c_index] += ric*p\n",
    "    new_mu[c_index] = new_mu[c_index] / sum(initalWeight[:,c_index])\n",
    "    print('###',new_mu)\n"
   ]
  },
  {
   "cell_type": "code",
   "execution_count": 5,
   "metadata": {},
   "outputs": [],
   "source": [
    "def caluculate_new_mu(k, ric, data):\n",
    "    new_mu = np.zeros((k, 2))\n",
    "    # calculate the mu of each cluster\n",
    "    for c_index in range(k):\n",
    "        # loop all datapoints and their corresponding ric\n",
    "        for r, p in zip(ric[:,c_index], np.array(data)):\n",
    "            new_mu[c_index] += r*p\n",
    "        new_mu[c_index] = new_mu[c_index] / sum(ric[:,c_index])\n",
    "    return new_mu"
   ]
  },
  {
   "cell_type": "code",
   "execution_count": 9,
   "metadata": {},
   "outputs": [
    {
     "data": {
      "text/plain": [
       "array([[1.60088428, 1.33742607],\n",
       "       [1.25968258, 0.97586372],\n",
       "       [1.17842442, 1.00459914]])"
      ]
     },
     "execution_count": 9,
     "metadata": {},
     "output_type": "execute_result"
    }
   ],
   "source": [
    "mu = caluculate_new_mu(3, initalWeight, data)\n",
    "mu"
   ]
  },
  {
   "cell_type": "code",
   "execution_count": 342,
   "metadata": {},
   "outputs": [
    {
     "data": {
      "text/plain": [
       "array([[ 0.45053946, -0.02175571],\n",
       "       [ 0.53070956,  0.13960506],\n",
       "       [ 0.11772305, -0.06618377]])"
      ]
     },
     "execution_count": 342,
     "metadata": {},
     "output_type": "execute_result"
    }
   ],
   "source": [
    "new_mu"
   ]
  },
  {
   "cell_type": "code",
   "execution_count": 315,
   "metadata": {},
   "outputs": [
    {
     "name": "stdout",
     "output_type": "stream",
     "text": [
      "[[29.63538426 10.30733283]\n",
      " [10.30733283 20.96841062]]\n",
      "[[5.02003746 1.74599379]\n",
      " [1.74599379 3.55190963]]\n",
      "[[5.02003746 1.74599379]\n",
      " [1.74599379 3.55190963]]\n"
     ]
    },
    {
     "data": {
      "text/plain": [
       "array([[[5.02003746, 1.74599379],\n",
       "        [1.74599379, 3.55190963]],\n",
       "\n",
       "       [[3.92499203, 1.54859461],\n",
       "        [1.54859461, 4.01399503]],\n",
       "\n",
       "       [[4.10001143, 1.8134912 ],\n",
       "        [1.8134912 , 3.33902584]]])"
      ]
     },
     "execution_count": 315,
     "metadata": {},
     "output_type": "execute_result"
    }
   ],
   "source": [
    "new_sigma = np.array([[[0, 0], [0, 0]] for i in range(0,3)], dtype='float64')\n",
    "for c_index in range(3):\n",
    "#     print('%%%%%%%%%%%%%%%%%%%%%%%%%%%%%%%%%%%%%%%%%%%%%%%%')\n",
    "    # loop all datapoints and their corresponding ric\n",
    "    for ric, p in zip(initalWeight[:,c_index], np.array(data[:20])):\n",
    "#         new_sigma[c_index] += ric*np.outer(p-new_mu[c_index],p-new_mu[c_index])\n",
    "        new_sigma[c_index] += ric*np.outer(p-new_mu[c_index],p-new_mu[c_index])\n",
    "#         print(ric,' * ',p,' = ',ric*p)\n",
    "    print(new_sigma[0])\n",
    "#     print(sum(ric[:,c_index]))\n",
    "    new_sigma[c_index] = new_sigma[c_index] / sum(initalWeight[:,c_index])\n",
    "#         print('###',new_mu)\n",
    "new_sigma"
   ]
  },
  {
   "cell_type": "code",
   "execution_count": 6,
   "metadata": {},
   "outputs": [],
   "source": [
    "def caluculate_new_sigma(k, ric, data, mu):\n",
    "    new_sigma = np.array([[[0, 0], [0, 0]] for i in range(0,k)], dtype='float64')\n",
    "    for c_index in range(k):\n",
    "        # loop all datapoints and their corresponding ric\n",
    "        for r, p in zip(ric[:,c_index], np.array(data)):\n",
    "            new_sigma[c_index] += r*np.outer(p-mu[c_index],p-mu[c_index])\n",
    "        new_sigma[c_index] = new_sigma[c_index] / sum(ric[:,c_index])\n",
    "    return new_sigma"
   ]
  },
  {
   "cell_type": "code",
   "execution_count": 11,
   "metadata": {},
   "outputs": [
    {
     "data": {
      "text/plain": [
       "array([[[8.98433479, 6.36951278],\n",
       "        [6.36951278, 7.86039813]],\n",
       "\n",
       "       [[9.48426767, 5.57867601],\n",
       "        [5.57867601, 5.99392886]],\n",
       "\n",
       "       [[9.51805277, 6.47983286],\n",
       "        [6.47983286, 7.67249558]]])"
      ]
     },
     "execution_count": 11,
     "metadata": {},
     "output_type": "execute_result"
    }
   ],
   "source": [
    "sigma = caluculate_new_sigma(3, initalWeight, data, mu)\n",
    "sigma"
   ]
  },
  {
   "cell_type": "code",
   "execution_count": 7,
   "metadata": {},
   "outputs": [],
   "source": [
    "def caluculate_new_pi(k, ric, data):\n",
    "    new_pi = np.zeros(k)\n",
    "    for idx in range(k):\n",
    "        new_pi[idx] = sum(ric[:,idx]) / len(data)\n",
    "    return new_pi"
   ]
  },
  {
   "cell_type": "code",
   "execution_count": 13,
   "metadata": {},
   "outputs": [
    {
     "data": {
      "text/plain": [
       "array([0.3687402 , 0.30182447, 0.32943533])"
      ]
     },
     "execution_count": 13,
     "metadata": {},
     "output_type": "execute_result"
    }
   ],
   "source": [
    "pi = caluculate_new_pi(3, initalWeight, data)\n",
    "pi"
   ]
  },
  {
   "cell_type": "code",
   "execution_count": null,
   "metadata": {},
   "outputs": [],
   "source": []
  },
  {
   "cell_type": "code",
   "execution_count": 353,
   "metadata": {},
   "outputs": [
    {
     "data": {
      "text/plain": [
       "array([[2.10392504e-09, 6.86959135e-09, 3.23783541e-06],\n",
       "       [1.25394154e-10, 4.79101770e-10, 5.94255919e-07],\n",
       "       [9.00747357e-04, 2.90184306e-03, 6.49231139e-04],\n",
       "       [3.45901498e-10, 8.39147400e-09, 2.82006660e-07],\n",
       "       [2.04765372e-03, 3.71794336e-03, 1.10330969e-02],\n",
       "       [4.21151234e-02, 3.64090075e-02, 3.81458360e-02],\n",
       "       [5.32878600e-04, 3.50127600e-04, 5.89676671e-05],\n",
       "       [1.32495306e-03, 2.06649635e-04, 5.44952843e-04],\n",
       "       [7.14344726e-06, 3.15373482e-06, 1.33484537e-04],\n",
       "       [2.82018264e-02, 2.37393491e-02, 2.67503383e-02],\n",
       "       [8.07120198e-03, 1.67484470e-02, 5.92270706e-03],\n",
       "       [4.22223700e-03, 1.33122530e-03, 1.22697453e-03],\n",
       "       [3.54063321e-10, 8.98162841e-11, 2.21248013e-12],\n",
       "       [3.70852098e-02, 3.15826451e-02, 3.44005526e-02],\n",
       "       [9.03565979e-09, 2.38175516e-09, 2.39956103e-11],\n",
       "       [5.04637419e-05, 1.16597868e-05, 2.19248479e-05],\n",
       "       [3.62264272e-06, 4.22130909e-05, 2.54134128e-05],\n",
       "       [1.28978056e-07, 3.58137490e-08, 9.40553877e-06],\n",
       "       [1.68478121e-02, 2.43172341e-02, 3.59324713e-02],\n",
       "       [4.61394943e-02, 4.39341107e-02, 4.08180188e-02],\n",
       "       [4.49638454e-05, 1.42373053e-04, 1.11715206e-03],\n",
       "       [3.27278891e-02, 3.74622570e-02, 4.52854162e-02],\n",
       "       [5.24484691e-08, 4.66743495e-09, 1.55977758e-09],\n",
       "       [8.79146365e-13, 7.92152252e-11, 6.34015094e-13],\n",
       "       [2.26002933e-08, 2.52354171e-08, 1.69867490e-10],\n",
       "       [3.00879474e-02, 2.56859680e-02, 2.74787676e-02],\n",
       "       [6.68009354e-05, 2.15028770e-05, 3.30980613e-06],\n",
       "       [3.41714884e-06, 2.20900808e-06, 1.39701742e-04],\n",
       "       [2.55959229e-03, 1.44183188e-03, 2.09045294e-03],\n",
       "       [7.93548543e-07, 6.09052171e-07, 7.78104076e-08],\n",
       "       [3.37643203e-10, 8.13517672e-09, 2.81890397e-07],\n",
       "       [2.39684375e-13, 9.76569188e-16, 2.26790325e-17],\n",
       "       [1.30615828e-02, 2.76593239e-02, 1.34943318e-02],\n",
       "       [7.20872311e-04, 1.15803100e-03, 5.81749288e-03],\n",
       "       [5.19287356e-03, 2.70214563e-03, 1.26240513e-03],\n",
       "       [2.45476201e-03, 5.36364472e-03, 1.20371999e-03],\n",
       "       [2.11755741e-03, 1.21449875e-03, 9.48134882e-04],\n",
       "       [1.65599094e-06, 1.90640723e-05, 3.67390176e-05],\n",
       "       [4.71356430e-11, 1.19509051e-12, 4.98925120e-09],\n",
       "       [1.31064550e-07, 7.02350447e-09, 9.19786947e-08],\n",
       "       [2.61153102e-04, 1.57544281e-04, 1.27203394e-03],\n",
       "       [9.68114874e-05, 2.29649161e-04, 1.77001298e-05],\n",
       "       [2.77720526e-02, 3.33572974e-02, 1.52759616e-02],\n",
       "       [4.47009222e-05, 1.10172908e-04, 1.18655428e-03],\n",
       "       [1.91403356e-05, 1.66939014e-05, 8.61574640e-07],\n",
       "       [1.01290593e-02, 8.64908923e-03, 6.79236387e-03],\n",
       "       [3.53912718e-03, 1.02805585e-02, 9.51108267e-03],\n",
       "       [3.14914836e-06, 1.23864610e-05, 2.25557625e-04],\n",
       "       [1.45074277e-06, 1.03684976e-06, 2.70342935e-08],\n",
       "       [1.10343942e-02, 1.99019745e-02, 2.85723142e-02],\n",
       "       [5.53691434e-06, 6.00482398e-05, 3.01143626e-05],\n",
       "       [1.23151871e-03, 4.48180613e-03, 4.24258669e-03],\n",
       "       [1.43404288e-03, 4.16328517e-03, 7.34115235e-03],\n",
       "       [9.46621733e-08, 1.70949977e-06, 4.66391379e-06],\n",
       "       [6.98199444e-05, 3.12267877e-05, 4.06831393e-04],\n",
       "       [7.41445473e-10, 3.03431165e-08, 1.00668592e-07],\n",
       "       [1.96440331e-07, 2.11701220e-06, 6.97544585e-08],\n",
       "       [1.03920191e-03, 1.41135885e-03, 6.68877817e-03],\n",
       "       [3.25181020e-05, 7.24780942e-05, 9.88842766e-04],\n",
       "       [1.35273197e-04, 7.92401993e-04, 3.08045452e-04],\n",
       "       [3.28947686e-05, 1.14784967e-04, 8.95838371e-04],\n",
       "       [2.73354704e-03, 6.86670130e-03, 1.15199164e-02],\n",
       "       [1.32002129e-05, 5.63885294e-05, 3.13279379e-06],\n",
       "       [1.00634314e-02, 2.28523895e-02, 2.12265236e-02],\n",
       "       [4.10593255e-04, 8.48263619e-04, 4.35784431e-03],\n",
       "       [1.10029755e-04, 4.78882056e-04, 1.38095599e-03],\n",
       "       [1.32681129e-03, 2.57107888e-03, 4.36970875e-04],\n",
       "       [1.41554399e-05, 1.08807106e-04, 2.05384926e-04],\n",
       "       [1.36464437e-05, 1.25372539e-04, 5.99408141e-05],\n",
       "       [1.00508410e-04, 6.18808946e-04, 4.96109841e-04],\n",
       "       [1.16456190e-02, 2.49009503e-02, 2.50118419e-02],\n",
       "       [1.38759818e-04, 7.56879258e-04, 8.92767792e-04],\n",
       "       [8.43318450e-05, 5.44034548e-04, 3.74238643e-04],\n",
       "       [7.82517220e-06, 7.93404800e-05, 3.06665273e-05],\n",
       "       [1.02298193e-07, 8.79549565e-08, 9.82698827e-10],\n",
       "       [8.87799551e-04, 3.58273215e-03, 1.67355673e-03],\n",
       "       [1.86402033e-05, 1.45540498e-05, 4.29334689e-04],\n",
       "       [2.26199274e-06, 9.04196046e-07, 6.50782747e-05],\n",
       "       [1.91944541e-07, 1.12381132e-07, 2.56299662e-05],\n",
       "       [1.62347497e-04, 4.02121144e-04, 3.72667677e-05],\n",
       "       [3.71065384e-06, 1.68977174e-05, 2.28578544e-04],\n",
       "       [2.91296382e-03, 9.18391598e-03, 5.10205196e-03],\n",
       "       [4.64434384e-03, 1.01585750e-02, 1.66573742e-02],\n",
       "       [3.34443413e-07, 1.21968457e-07, 2.15664317e-05],\n",
       "       [5.36963906e-10, 1.81399702e-09, 4.10080981e-12],\n",
       "       [4.81194582e-04, 2.19325574e-03, 1.63631940e-03],\n",
       "       [4.42882499e-06, 1.39758628e-05, 4.50884233e-07],\n",
       "       [7.52583613e-05, 4.95286306e-04, 3.49559169e-04],\n",
       "       [2.24387937e-03, 2.22949966e-03, 8.01132599e-03],\n",
       "       [4.60432771e-07, 3.11954550e-06, 5.39613590e-05],\n",
       "       [1.21667270e-07, 2.57365770e-06, 6.76071844e-07],\n",
       "       [3.93243826e-04, 1.47528385e-03, 2.96997930e-03],\n",
       "       [1.81351174e-07, 3.25570211e-07, 4.44930529e-05],\n",
       "       [4.48926706e-05, 2.84282214e-04, 4.68355896e-04],\n",
       "       [1.54575889e-03, 3.15805533e-03, 9.36601249e-03],\n",
       "       [3.28750352e-05, 5.26235584e-05, 9.38538511e-04],\n",
       "       [1.22336053e-03, 4.03768049e-03, 5.64000336e-03],\n",
       "       [7.42102449e-07, 2.24631202e-06, 1.04977424e-04],\n",
       "       [4.85806291e-05, 1.11704378e-04, 1.25130443e-03],\n",
       "       [9.19910235e-05, 5.23615692e-04, 7.41050904e-04],\n",
       "       [7.02642115e-04, 6.60741630e-04, 7.71932742e-04],\n",
       "       [5.06150552e-08, 9.33783205e-08, 1.32105605e-07],\n",
       "       [6.58493665e-07, 1.28906530e-07, 3.60224512e-05],\n",
       "       [1.61991823e-08, 2.33505570e-10, 1.06702367e-06],\n",
       "       [2.75570363e-11, 7.52563826e-11, 1.12805868e-09],\n",
       "       [1.79064949e-09, 2.98928107e-09, 5.92246666e-08],\n",
       "       [5.68736308e-10, 6.14328289e-10, 7.80745021e-08],\n",
       "       [2.11344235e-23, 7.58468114e-27, 7.00306179e-16],\n",
       "       [5.01985763e-12, 1.33354304e-11, 5.30984070e-10],\n",
       "       [1.35749200e-11, 4.15562439e-11, 4.90953194e-10],\n",
       "       [6.97811753e-14, 5.25789831e-16, 9.42433743e-10],\n",
       "       [6.84939976e-06, 2.08851344e-06, 1.51624778e-04],\n",
       "       [1.26135693e-05, 1.47655935e-05, 2.68337972e-05],\n",
       "       [7.08143006e-15, 1.25439242e-14, 2.68102378e-11],\n",
       "       [1.33325946e-03, 3.80197620e-04, 4.36701784e-03],\n",
       "       [4.98436046e-06, 9.76735340e-07, 1.31236529e-04],\n",
       "       [1.10969803e-13, 1.35062616e-13, 2.74923583e-10],\n",
       "       [1.65405874e-12, 1.43840403e-12, 2.46720505e-09],\n",
       "       [8.76394769e-05, 6.63584750e-05, 2.11807801e-05],\n",
       "       [1.97264988e-08, 3.16684721e-09, 3.05807423e-10],\n",
       "       [1.91637155e-05, 2.18384440e-05, 3.82949478e-05],\n",
       "       [5.12504748e-14, 1.03762796e-16, 3.18779447e-10],\n",
       "       [2.01506571e-07, 1.60749191e-09, 2.81242491e-08],\n",
       "       [2.54916673e-05, 1.26311423e-05, 2.83030213e-04],\n",
       "       [8.68710058e-08, 1.17617979e-07, 1.05995522e-06],\n",
       "       [1.82624190e-23, 6.76178061e-22, 9.58115681e-20],\n",
       "       [4.26661874e-06, 1.20851792e-07, 1.96598130e-05],\n",
       "       [5.74347349e-07, 4.68828804e-08, 2.82933198e-05],\n",
       "       [1.70336245e-06, 5.93865818e-07, 9.64161020e-08],\n",
       "       [2.47855993e-04, 6.52536930e-05, 1.56565237e-03],\n",
       "       [2.89981193e-05, 7.29927789e-06, 4.03156755e-04],\n",
       "       [2.14793588e-02, 9.03393176e-03, 1.79469061e-02],\n",
       "       [1.77665158e-06, 1.11785373e-06, 3.56869325e-05],\n",
       "       [2.41411714e-04, 1.91127285e-04, 7.43024469e-04],\n",
       "       [1.83676721e-11, 6.52412415e-12, 2.83603094e-08],\n",
       "       [2.44084877e-06, 3.19760930e-06, 6.56557673e-06],\n",
       "       [1.58295687e-15, 7.16756221e-16, 5.20228693e-11],\n",
       "       [1.47693832e-15, 1.33936834e-14, 7.37860989e-15],\n",
       "       [2.87567085e-10, 3.48062899e-11, 2.67625089e-07],\n",
       "       [3.42679185e-20, 5.83952583e-26, 1.12285103e-17],\n",
       "       [6.55731704e-08, 6.27490392e-08, 2.07559504e-06],\n",
       "       [4.96263987e-18, 3.56423519e-18, 8.23908201e-13],\n",
       "       [9.35515772e-06, 1.09081144e-05, 5.19142154e-06],\n",
       "       [3.18985098e-16, 2.55563884e-18, 4.10390781e-11],\n",
       "       [6.06033479e-03, 5.23580632e-03, 5.78444860e-03],\n",
       "       [9.76006705e-15, 7.40235960e-14, 5.18366228e-14],\n",
       "       [5.00409390e-08, 8.59941001e-08, 2.75264149e-07],\n",
       "       [1.61417738e-04, 1.62429173e-04, 1.10003029e-04],\n",
       "       [6.73715680e-02, 5.45385377e-02, 6.44071764e-02],\n",
       "       [1.11131092e-07, 4.72334132e-09, 7.71015831e-06]])"
      ]
     },
     "execution_count": 353,
     "metadata": {},
     "output_type": "execute_result"
    }
   ],
   "source": [
    "pdfs = np.zeros(((150, 3)))\n",
    "for i in range(3):\n",
    "    pdfs[:, i] = pi[i] * multivariate_normal.pdf(data, mu[i], sigma[i])\n",
    "    ric = pdfs / pdfs.sum(axis=1).reshape(-1, 1)\n",
    "pdfs"
   ]
  },
  {
   "cell_type": "code",
   "execution_count": 8,
   "metadata": {},
   "outputs": [],
   "source": [
    "def update_ric(k, data, mu, sigma, pi):\n",
    "    pdfs = np.zeros(((len(data), k)))\n",
    "    for i in range(k):\n",
    "        pdfs[:, i] = pi[i] * multivariate_normal.pdf(data, mu[i], sigma[i])\n",
    "    ric = pdfs / pdfs.sum(axis=1).reshape(-1, 1)\n",
    "    return ric"
   ]
  },
  {
   "cell_type": "code",
   "execution_count": 47,
   "metadata": {},
   "outputs": [
    {
     "data": {
      "text/plain": [
       "array([[0.36184111, 0.27310151, 0.36505738],\n",
       "       [0.36322696, 0.26559841, 0.37117463],\n",
       "       [0.33245584, 0.33384148, 0.33370269],\n",
       "       [0.32695751, 0.3100168 , 0.36302569],\n",
       "       [0.35329107, 0.31560373, 0.3311052 ],\n",
       "       [0.36791674, 0.32092975, 0.31115351],\n",
       "       [0.34925138, 0.31322434, 0.33752429],\n",
       "       [0.38959196, 0.27606436, 0.33434369],\n",
       "       [0.37547051, 0.28282331, 0.34170618],\n",
       "       [0.36950572, 0.3204923 , 0.31000198],\n",
       "       [0.34286881, 0.32749811, 0.32963308],\n",
       "       [0.37385538, 0.29356422, 0.33258039],\n",
       "       [0.33792747, 0.36960407, 0.29246846],\n",
       "       [0.36872447, 0.3204605 , 0.31081503],\n",
       "       [0.32801858, 0.31561037, 0.35637105],\n",
       "       [0.36893578, 0.3122372 , 0.31882702],\n",
       "       [0.31893947, 0.33845483, 0.34260569],\n",
       "       [0.38560408, 0.26250058, 0.35189534],\n",
       "       [0.35516763, 0.32060091, 0.32423146],\n",
       "       [0.36182448, 0.32421962, 0.3139559 ],\n",
       "       [0.34869975, 0.30982584, 0.34147441],\n",
       "       [0.35835453, 0.32189203, 0.31975344],\n",
       "       [0.36255869, 0.32638308, 0.31105822],\n",
       "       [0.26288936, 0.38783896, 0.34927168],\n",
       "       [0.31165954, 0.3381085 , 0.35023196],\n",
       "       [0.36863541, 0.32135674, 0.31000785],\n",
       "       [0.35438166, 0.3027014 , 0.34291694],\n",
       "       [0.3731406 , 0.281256  , 0.3456034 ],\n",
       "       [0.3637273 , 0.31959109, 0.31668161],\n",
       "       [0.34879631, 0.35810424, 0.29309945],\n",
       "       [0.32717421, 0.30969923, 0.36312655],\n",
       "       [0.36284574, 0.25437641, 0.38277785],\n",
       "       [0.34493122, 0.32687019, 0.32819859],\n",
       "       [0.35612789, 0.31036906, 0.33350305],\n",
       "       [0.36244639, 0.30517815, 0.33237546],\n",
       "       [0.33821492, 0.32950346, 0.33228162],\n",
       "       [0.3620497 , 0.32759914, 0.31035116],\n",
       "       [0.32496312, 0.32942767, 0.34560921],\n",
       "       [0.41425094, 0.22212201, 0.36362705],\n",
       "       [0.38570837, 0.28113874, 0.33315289],\n",
       "       [0.36761833, 0.30115513, 0.33122654],\n",
       "       [0.32728019, 0.33496308, 0.33775673],\n",
       "       [0.35341545, 0.31979371, 0.32679084],\n",
       "       [0.35293412, 0.30560202, 0.34146386],\n",
       "       [0.3342309 , 0.32319128, 0.34257782],\n",
       "       [0.36495654, 0.32828944, 0.30675402],\n",
       "       [0.34280043, 0.32626006, 0.33093951],\n",
       "       [0.34865835, 0.30357955, 0.3477621 ],\n",
       "       [0.32916733, 0.32405818, 0.34677449],\n",
       "       [0.3518294 , 0.32138051, 0.32679009],\n",
       "       [0.31900191, 0.33924123, 0.34175686],\n",
       "       [0.33924074, 0.327418  , 0.33334127],\n",
       "       [0.34514398, 0.32186226, 0.33299376],\n",
       "       [0.32010287, 0.32965698, 0.35024015],\n",
       "       [0.37162615, 0.2946652 , 0.33370865],\n",
       "       [0.30956806, 0.33381803, 0.3566139 ],\n",
       "       [0.30037033, 0.35684826, 0.34278141],\n",
       "       [0.35800166, 0.31016275, 0.33183559],\n",
       "       [0.35491111, 0.30288879, 0.3422001 ],\n",
       "       [0.32694778, 0.33625256, 0.33679966],\n",
       "       [0.34739124, 0.31041846, 0.34219031],\n",
       "       [0.34718007, 0.32155352, 0.3312664 ],\n",
       "       [0.3168405 , 0.34372186, 0.33943764],\n",
       "       [0.34691704, 0.32493019, 0.32815277],\n",
       "       [0.35301773, 0.31134992, 0.33563235],\n",
       "       [0.34088027, 0.32012911, 0.33899062],\n",
       "       [0.33731064, 0.32898941, 0.33369995],\n",
       "       [0.33080031, 0.32694263, 0.34225707],\n",
       "       [0.32123467, 0.33833313, 0.3404322 ],\n",
       "       [0.3301591 , 0.33189314, 0.33794776],\n",
       "       [0.3481953 , 0.32422485, 0.32757985],\n",
       "       [0.33387287, 0.32836091, 0.33776622],\n",
       "       [0.32864963, 0.33326888, 0.33808149],\n",
       "       [0.31851443, 0.34055298, 0.34093259],\n",
       "       [0.31902944, 0.33151485, 0.34945571],\n",
       "       [0.33395092, 0.33230474, 0.33374434],\n",
       "       [0.36892476, 0.28970323, 0.34137201],\n",
       "       [0.37808036, 0.27706389, 0.34485574],\n",
       "       [0.37817208, 0.26859121, 0.35323671],\n",
       "       [0.32845902, 0.33465472, 0.33688626],\n",
       "       [0.34572791, 0.30711471, 0.34715738],\n",
       "       [0.33898408, 0.32955546, 0.33146046],\n",
       "       [0.34921197, 0.32112944, 0.32965859],\n",
       "       [0.3818467 , 0.26794485, 0.35020845],\n",
       "       [0.29060292, 0.35944005, 0.34995703],\n",
       "       [0.33452159, 0.33037003, 0.33510838],\n",
       "       [0.31572955, 0.34296291, 0.34130754],\n",
       "       [0.32847427, 0.33323135, 0.33829438],\n",
       "       [0.36087909, 0.3115573 , 0.32756361],\n",
       "       [0.34134388, 0.3073956 , 0.35126053],\n",
       "       [0.30539398, 0.34913831, 0.34546771],\n",
       "       [0.34175069, 0.32217263, 0.33607668],\n",
       "       [0.36468606, 0.2803935 , 0.35492044],\n",
       "       [0.33308838, 0.3267819 , 0.34012973],\n",
       "       [0.35170349, 0.31610342, 0.33219309],\n",
       "       [0.35967338, 0.29856129, 0.34176533],\n",
       "       [0.34235931, 0.32422207, 0.33341862],\n",
       "       [0.35507841, 0.29345632, 0.35146528],\n",
       "       [0.35392624, 0.30486207, 0.34121169],\n",
       "       [0.33403267, 0.32727749, 0.33868985],\n",
       "       [0.37070321, 0.32666137, 0.30263541],\n",
       "       [0.36696368, 0.33905882, 0.2939775 ],\n",
       "       [0.4304812 , 0.24907426, 0.32044454],\n",
       "       [0.46744891, 0.19476691, 0.33778418],\n",
       "       [0.38313288, 0.31956545, 0.29730166],\n",
       "       [0.39073541, 0.30828566, 0.30097893],\n",
       "       [0.40977969, 0.28293613, 0.30728418],\n",
       "       [0.58252456, 0.08361757, 0.33385787],\n",
       "       [0.39129823, 0.3088909 , 0.29981086],\n",
       "       [0.37990484, 0.32403247, 0.29606269],\n",
       "       [0.51132289, 0.15255458, 0.33612253],\n",
       "       [0.4165568 , 0.26668751, 0.3167557 ],\n",
       "       [0.37360841, 0.32697558, 0.29941601],\n",
       "       [0.42547244, 0.2644928 , 0.31003476],\n",
       "       [0.40099407, 0.27888081, 0.32012512],\n",
       "       [0.42469354, 0.25463225, 0.32067421],\n",
       "       [0.42895001, 0.25960657, 0.31144342],\n",
       "       [0.43104257, 0.25631598, 0.31264145],\n",
       "       [0.35736634, 0.34367796, 0.2989557 ],\n",
       "       [0.3513091 , 0.34705095, 0.30163994],\n",
       "       [0.37349772, 0.3267882 , 0.29971408],\n",
       "       [0.52096026, 0.13827914, 0.34076061],\n",
       "       [0.42303735, 0.22184496, 0.35511769],\n",
       "       [0.4031374 , 0.28490761, 0.31195499],\n",
       "       [0.38641199, 0.31263729, 0.30095072],\n",
       "       [0.37041975, 0.33600178, 0.29357847],\n",
       "       [0.43733581, 0.22457614, 0.33808805],\n",
       "       [0.44230672, 0.23051701, 0.32717627],\n",
       "       [0.35302422, 0.34681469, 0.30016109],\n",
       "       [0.40822399, 0.27236744, 0.31940857],\n",
       "       [0.41568419, 0.26547985, 0.31883596],\n",
       "       [0.38048852, 0.29614376, 0.32336772],\n",
       "       [0.40406598, 0.28634576, 0.30958826],\n",
       "       [0.3839706 , 0.30986931, 0.3061601 ],\n",
       "       [0.44576261, 0.23609943, 0.31813797],\n",
       "       [0.37373755, 0.32797093, 0.29829152],\n",
       "       [0.46255882, 0.21720553, 0.32023565],\n",
       "       [0.34094417, 0.37748748, 0.28156835],\n",
       "       [0.45829786, 0.21750242, 0.32419972],\n",
       "       [0.56516377, 0.07716179, 0.35767444],\n",
       "       [0.40048702, 0.2935317 , 0.30598128],\n",
       "       [0.46582556, 0.21388366, 0.32029079],\n",
       "       [0.3602356 , 0.34433787, 0.29542653],\n",
       "       [0.5239903 , 0.14124693, 0.33476277],\n",
       "       [0.37002119, 0.32391173, 0.30606708],\n",
       "       [0.34514466, 0.37167998, 0.28317537],\n",
       "       [0.37506012, 0.32824378, 0.2966961 ],\n",
       "       [0.36461812, 0.33608241, 0.29929947],\n",
       "       [0.3697283 , 0.31552579, 0.3147459 ],\n",
       "       [0.45386669, 0.21480284, 0.33133047]])"
      ]
     },
     "execution_count": 47,
     "metadata": {},
     "output_type": "execute_result"
    }
   ],
   "source": [
    "new_ric = update_ric(3, data, mu, sigma, pi)\n",
    "new_ric"
   ]
  },
  {
   "cell_type": "code",
   "execution_count": 17,
   "metadata": {},
   "outputs": [
    {
     "data": {
      "text/plain": [
       "array([[2.82294848e-05, 9.82833903e-03, 1.53642884e-05],\n",
       "       [1.57287303e-05, 4.97467809e-03, 8.16437628e-06],\n",
       "       [1.71500961e-05, 4.46020231e-02, 3.27615198e-04],\n",
       "       [2.01817868e-06, 4.15643704e-03, 6.21225765e-06],\n",
       "       [5.18461342e-04, 3.67366913e-02, 4.99974001e-04]])"
      ]
     },
     "execution_count": 17,
     "metadata": {},
     "output_type": "execute_result"
    }
   ],
   "source": [
    "pdfs = np.zeros(((len(data), 3)))\n",
    "for i in range(3):\n",
    "    pdfs[:, i] = pi[i] * multivariate_normal.pdf(data, mu[i], sigma[i])\n",
    "pdfs[:5]"
   ]
  },
  {
   "cell_type": "code",
   "execution_count": 18,
   "metadata": {},
   "outputs": [
    {
     "data": {
      "text/plain": [
       "array([[0.00987193],\n",
       "       [0.00499857],\n",
       "       [0.04494679],\n",
       "       [0.00416467],\n",
       "       [0.03775513]])"
      ]
     },
     "execution_count": 18,
     "metadata": {},
     "output_type": "execute_result"
    }
   ],
   "source": [
    "pdfs.sum(axis=1).reshape(-1,1)[:5]"
   ]
  },
  {
   "cell_type": "code",
   "execution_count": 19,
   "metadata": {},
   "outputs": [
    {
     "data": {
      "text/plain": [
       "array([[2.85957020e-03, 9.95584069e-01, 1.55636071e-03],\n",
       "       [3.14664524e-03, 9.95220013e-01, 1.63334200e-03],\n",
       "       [3.81564438e-04, 9.92329479e-01, 7.28895678e-03],\n",
       "       [4.84595395e-04, 9.98023747e-01, 1.49165754e-03],\n",
       "       [1.37322104e-02, 9.73025244e-01, 1.32425460e-02]])"
      ]
     },
     "execution_count": 19,
     "metadata": {},
     "output_type": "execute_result"
    }
   ],
   "source": [
    "ric[:5]"
   ]
  },
  {
   "cell_type": "code",
   "execution_count": 308,
   "metadata": {},
   "outputs": [
    {
     "data": {
      "text/plain": [
       "array([[[0., 0.],\n",
       "        [0., 0.]],\n",
       "\n",
       "       [[0., 0.],\n",
       "        [0., 0.]],\n",
       "\n",
       "       [[0., 0.],\n",
       "        [0., 0.]]])"
      ]
     },
     "execution_count": 308,
     "metadata": {},
     "output_type": "execute_result"
    }
   ],
   "source": [
    "def kmeans(data, k):\n",
    "    mark = ['or', 'ob', 'og', 'ok', '^r', '+r', 'sr', 'dr', '<r', 'pr']\n",
    "    centroids_dict = {'cluster1':[],'cluster2':[],'cluster3':[]}\n",
    "    cluster=[[] for i in range(k)]\n",
    "    centroids = initial_centroids(data, k)\n",
    "    centroids_dict['cluster1'].append(tuple(centroids[0]))\n",
    "    centroids_dict['cluster2'].append(tuple(centroids[1]))\n",
    "    centroids_dict['cluster3'].append(tuple(centroids[2]))\n",
    "    difference, new_centroids, cluster = clasify2cluster(data, k, centroids, cluster)\n",
    "    while np.any(difference != 0):\n",
    "        cluster=[[] for i in range(k)]\n",
    "        difference, new_centroids, cluster = clasify2cluster(data, k, new_centroids, cluster)\n",
    "#         print(new_centroids)\n",
    "        for i in range(3):\n",
    "            plt.plot(np.array(cluster[i])[:,0],np.array(cluster[i])[:,1],mark[i])\n",
    "        plt.show()\n",
    "        centroids_dict['cluster1'].append(tuple(new_centroids[0]))\n",
    "        centroids_dict['cluster2'].append(tuple(new_centroids[1]))\n",
    "        centroids_dict['cluster3'].append(tuple(new_centroids[2]))\n",
    "#         for key_index in range(3):\n",
    "#             centroids_dict[list(centroids_dict.keys())[i]].append(new_centroids[i])\n",
    "    return (difference, new_centroids, cluster, centroids_dict)"
   ]
  },
  {
   "cell_type": "code",
   "execution_count": 9,
   "metadata": {},
   "outputs": [],
   "source": [
    "def GMM(data, k):\n",
    "    diff = float('Inf')\n",
    "    cluster=[[] for i in range(k)]\n",
    "    ric = initial_weights(data, k)\n",
    "    while np.any(abs(diff) > 0.005):\n",
    "        mu = caluculate_new_mu(k, ric, data)\n",
    "        sigma = caluculate_new_sigma(k, ric, data, mu)\n",
    "        pi = caluculate_new_pi(k, ric, data)\n",
    "        new_ric = update_ric(k, data, mu, sigma, pi)\n",
    "        diff = new_ric - ric\n",
    "        ric = new_ric\n",
    "#         print('####',mu)\n",
    "        for idx in range(len(ric)):\n",
    "            c_idx = np.argmax(ric[idx])\n",
    "            cluster[c_idx].append(data[idx])\n",
    "        \n",
    "    for i in range(3):\n",
    "        mark = ['or', 'ob', 'og', 'ok', '^r', '+r', 'sr', 'dr', '<r', 'pr']\n",
    "        plt.plot(np.array(cluster[i])[:,0],np.array(cluster[i])[:,1],mark[i])\n",
    "    plt.show()\n",
    "    return (mu, sigma, pi, ric)"
   ]
  },
  {
   "cell_type": "code",
   "execution_count": 12,
   "metadata": {
    "scrolled": false
   },
   "outputs": [
    {
     "data": {
      "image/png": "[encoded data removed]",
      "text/plain": [
       "<Figure size 432x288 with 1 Axes>"
      ]
     },
     "metadata": {
      "needs_background": "light"
     },
     "output_type": "display_data"
    }
   ],
   "source": [
    "mu, sigma, pi, ric = GMM(data, 3)"
   ]
  },
  {
   "cell_type": "code",
   "execution_count": 57,
   "metadata": {},
   "outputs": [
    {
     "data": {
      "text/plain": [
       "array([[ 4.65214503,  3.15426315],\n",
       "       [-0.95809344, -0.76945155],\n",
       "       [ 1.62888758,  3.27544632]])"
      ]
     },
     "execution_count": 57,
     "metadata": {},
     "output_type": "execute_result"
    }
   ],
   "source": [
    "mu"
   ]
  },
  {
   "cell_type": "code",
   "execution_count": 58,
   "metadata": {},
   "outputs": [
    {
     "data": {
      "text/plain": [
       "array([[[ 3.18708847,  2.52312208],\n",
       "        [ 2.52312208,  4.79266073]],\n",
       "\n",
       "       [[ 1.10291906, -0.059304  ],\n",
       "        [-0.059304  ,  1.66868535]],\n",
       "\n",
       "       [[ 7.81844339,  4.77940512],\n",
       "        [ 4.77940512,  6.46830209]]])"
      ]
     },
     "execution_count": 58,
     "metadata": {},
     "output_type": "execute_result"
    }
   ],
   "source": [
    "sigma"
   ]
  },
  {
   "cell_type": "code",
   "execution_count": 59,
   "metadata": {},
   "outputs": [
    {
     "data": {
      "text/plain": [
       "array([0.3577357 , 0.52249577, 0.11976853])"
      ]
     },
     "execution_count": 59,
     "metadata": {},
     "output_type": "execute_result"
    }
   ],
   "source": [
    "pi"
   ]
  },
  {
   "cell_type": "code",
   "execution_count": 439,
   "metadata": {},
   "outputs": [
    {
     "data": {
      "text/plain": [
       "array([[4.98793386e-01, 5.00996784e-01, 2.09830536e-04],\n",
       "       [2.81664293e-01, 7.18156490e-01, 1.79217109e-04],\n",
       "       [5.45183064e-01, 4.53955795e-01, 8.61140722e-04],\n",
       "       [1.77619168e-01, 8.22337601e-01, 4.32303160e-05],\n",
       "       [7.41231776e-01, 2.55596783e-01, 3.17144101e-03],\n",
       "       [3.73958866e-05, 3.86615462e-01, 6.13347142e-01],\n",
       "       [4.12072096e-02, 9.53324719e-01, 5.46807101e-03],\n",
       "       [2.87824034e-05, 8.10721692e-01, 1.89249526e-01],\n",
       "       [7.52752123e-01, 2.42608068e-01, 4.63980977e-03],\n",
       "       [6.79231434e-06, 2.87144953e-01, 7.12848255e-01],\n",
       "       [3.70356704e-01, 6.25143878e-01, 4.49941799e-03],\n",
       "       [8.87747135e-04, 9.26432593e-01, 7.26796597e-02],\n",
       "       [3.39383905e-12, 1.38572712e-02, 9.86142729e-01],\n",
       "       [1.93050230e-05, 3.47871330e-01, 6.52109365e-01],\n",
       "       [1.24016137e-02, 9.87389605e-01, 2.08781224e-04],\n",
       "       [8.13702134e-03, 5.89670455e-01, 4.02192524e-01],\n",
       "       [6.75585145e-01, 3.24341130e-01, 7.37250439e-05],\n",
       "       [7.54465918e-01, 2.42969879e-01, 2.56420303e-03],\n",
       "       [3.95409155e-01, 5.81245114e-01, 2.33457309e-02],\n",
       "       [4.06973726e-03, 6.77705557e-01, 3.18224706e-01],\n",
       "       [8.44657621e-01, 1.54994108e-01, 3.48271329e-04],\n",
       "       [1.11649121e-01, 7.98142787e-01, 9.02080923e-02],\n",
       "       [4.14518098e-06, 1.57290961e-01, 8.42704894e-01],\n",
       "       [1.03222212e-02, 9.89675839e-01, 1.94001393e-06],\n",
       "       [5.43680739e-02, 9.45537602e-01, 9.43238735e-05],\n",
       "       [1.09851205e-05, 3.07656298e-01, 6.92332717e-01],\n",
       "       [1.20337378e-02, 9.83020430e-01, 4.94583249e-03],\n",
       "       [8.08546199e-01, 1.89741847e-01, 1.71195444e-03],\n",
       "       [1.89158900e-02, 6.92729853e-01, 2.88354257e-01],\n",
       "       [1.05924463e-11, 1.61969949e-02, 9.83803005e-01],\n",
       "       [1.77024250e-01, 8.22932264e-01, 4.34854717e-05],\n",
       "       [5.27903024e-05, 9.99669685e-01, 2.77524884e-04],\n",
       "       [4.13128848e-01, 5.81095830e-01, 5.77532235e-03],\n",
       "       [7.81308651e-01, 2.16243318e-01, 2.44803092e-03],\n",
       "       [8.51766950e-03, 9.62222583e-01, 2.92597478e-02],\n",
       "       [3.72676562e-01, 6.25016162e-01, 2.30727657e-03],\n",
       "       [4.79332092e-04, 4.20319688e-01, 5.79200980e-01],\n",
       "       [6.98363756e-01, 3.01560462e-01, 7.57811309e-05],\n",
       "       [4.77140876e-01, 5.12571169e-01, 1.02879552e-02],\n",
       "       [5.47339670e-02, 7.12708094e-01, 2.32557939e-01],\n",
       "       [5.77205644e-01, 4.04308942e-01, 1.84854136e-02],\n",
       "       [3.19878174e-01, 6.79506880e-01, 6.14945958e-04],\n",
       "       [7.64830781e-02, 8.99550232e-01, 2.39666903e-02],\n",
       "       [8.46955510e-01, 1.52570663e-01, 4.73827699e-04],\n",
       "       [8.38049310e-02, 9.15218748e-01, 9.76320993e-04],\n",
       "       [4.48425303e-06, 2.21913712e-01, 7.78081803e-01],\n",
       "       [7.05728543e-01, 2.92668398e-01, 1.60305825e-03],\n",
       "       [8.13677523e-01, 1.86122009e-01, 2.00467629e-04],\n",
       "       [5.70701141e-02, 9.42456097e-01, 4.73788979e-04],\n",
       "       [5.61513999e-01, 4.29760275e-01, 8.72572673e-03],\n",
       "       [6.81450605e-01, 3.18469357e-01, 8.00384555e-05],\n",
       "       [7.60891646e-01, 2.38386371e-01, 7.21982519e-04],\n",
       "       [7.83287441e-01, 2.15642507e-01, 1.07005207e-03],\n",
       "       [5.27025217e-01, 4.72922409e-01, 5.23737645e-05],\n",
       "       [5.91449353e-01, 3.90587764e-01, 1.79628827e-02],\n",
       "       [1.66387670e-01, 8.33588067e-01, 2.42638045e-05],\n",
       "       [3.31597001e-01, 6.68360102e-01, 4.28973152e-05],\n",
       "       [7.35193057e-01, 2.60425563e-01, 4.38137993e-03],\n",
       "       [8.46858193e-01, 1.52637863e-01, 5.03943957e-04],\n",
       "       [7.19797309e-01, 2.79977572e-01, 2.25119149e-04],\n",
       "       [8.41976626e-01, 1.57728514e-01, 2.94859901e-04],\n",
       "       [7.47248334e-01, 2.50908705e-01, 1.84296066e-03],\n",
       "       [4.10840096e-01, 5.88967470e-01, 1.92433735e-04],\n",
       "       [5.91874001e-01, 4.03615590e-01, 4.51040887e-03],\n",
       "       [8.19291194e-01, 1.79529735e-01, 1.17907098e-03],\n",
       "       [8.29872259e-01, 1.69841830e-01, 2.85910800e-04],\n",
       "       [3.02474989e-01, 6.95426162e-01, 2.09884921e-03],\n",
       "       [7.80574061e-01, 2.19305194e-01, 1.20744723e-04],\n",
       "       [7.07198366e-01, 2.92701219e-01, 1.00414158e-04],\n",
       "       [7.74592207e-01, 2.25211813e-01, 1.95979723e-04],\n",
       "       [5.71855106e-01, 4.22472395e-01, 5.67249923e-03],\n",
       "       [7.97558308e-01, 2.02206447e-01, 2.35245394e-04],\n",
       "       [7.63653622e-01, 2.36164846e-01, 1.81531510e-04],\n",
       "       [6.76357777e-01, 3.23555743e-01, 8.64793823e-05],\n",
       "       [5.38095240e-02, 9.46014437e-01, 1.76039089e-04],\n",
       "       [7.03363929e-01, 2.96051470e-01, 5.84601496e-04],\n",
       "       [8.05433344e-01, 1.92385805e-01, 2.18085086e-03],\n",
       "       [7.67665885e-01, 2.28856377e-01, 3.47773809e-03],\n",
       "       [7.88603135e-01, 2.10360658e-01, 1.03620682e-03],\n",
       "       [3.51252378e-01, 6.48054168e-01, 6.93453887e-04],\n",
       "       [8.09744435e-01, 1.90078162e-01, 1.77402642e-04],\n",
       "       [6.60309782e-01, 3.38376869e-01, 1.31334961e-03],\n",
       "       [6.98759441e-01, 2.98020321e-01, 3.22023780e-03],\n",
       "       [7.75063839e-01, 2.22751183e-01, 2.18497715e-03],\n",
       "       [4.92493305e-02, 9.50731763e-01, 1.89062105e-05],\n",
       "       [7.65407408e-01, 2.34193750e-01, 3.98842464e-04],\n",
       "       [2.82201292e-01, 7.17608655e-01, 1.90053740e-04],\n",
       "       [7.64216338e-01, 2.35609405e-01, 1.74257341e-04],\n",
       "       [5.39084396e-01, 4.42503547e-01, 1.84120569e-02],\n",
       "       [7.27638196e-01, 2.72242555e-01, 1.19248527e-04],\n",
       "       [4.38546354e-01, 5.61417738e-01, 3.59086182e-05],\n",
       "       [8.17181973e-01, 1.82349238e-01, 4.68788909e-04],\n",
       "       [7.73492265e-01, 2.26167168e-01, 3.40566615e-04],\n",
       "       [8.00234477e-01, 1.99600013e-01, 1.65509166e-04],\n",
       "       [7.70547361e-01, 2.27327080e-01, 2.12555884e-03],\n",
       "       [8.41733561e-01, 1.57470573e-01, 7.95865845e-04],\n",
       "       [7.81997876e-01, 2.17179751e-01, 8.22372565e-04],\n",
       "       [7.93026680e-01, 2.06740610e-01, 2.32709695e-04],\n",
       "       [8.46649436e-01, 1.52822050e-01, 5.28514176e-04],\n",
       "       [8.03032496e-01, 1.96760330e-01, 2.07173855e-04],\n",
       "       [4.20560035e-10, 4.04931670e-02, 9.59506833e-01],\n",
       "       [3.02998145e-18, 1.62344722e-03, 9.98376553e-01],\n",
       "       [4.15937945e-17, 4.68608034e-03, 9.95313920e-01],\n",
       "       [1.34782761e-16, 1.29379171e-02, 9.87062083e-01],\n",
       "       [6.80730636e-25, 1.86986743e-04, 9.99813013e-01],\n",
       "       [4.07003526e-22, 4.73437711e-04, 9.99526562e-01],\n",
       "       [2.14952094e-23, 3.35311891e-04, 9.99664688e-01],\n",
       "       [4.38925851e-39, 6.21093231e-06, 9.99993789e-01],\n",
       "       [2.07393995e-26, 1.17730739e-04, 9.99882269e-01],\n",
       "       [2.90527507e-25, 1.65733077e-04, 9.99834267e-01],\n",
       "       [1.30102036e-26, 2.71840194e-04, 9.99728160e-01],\n",
       "       [2.27793218e-15, 8.19131549e-03, 9.91808685e-01],\n",
       "       [3.80373321e-14, 7.74253409e-03, 9.92257466e-01],\n",
       "       [1.24534746e-31, 2.51948250e-05, 9.99974805e-01],\n",
       "       [1.49639902e-09, 1.10263696e-01, 8.89736303e-01],\n",
       "       [3.12707845e-15, 1.00668307e-02, 9.89933169e-01],\n",
       "       [9.64114923e-30, 4.53559727e-05, 9.99954644e-01],\n",
       "       [8.16891963e-28, 8.45767219e-05, 9.99915423e-01],\n",
       "       [6.13719732e-09, 5.23957209e-02, 9.47604273e-01],\n",
       "       [1.15892994e-08, 5.38137234e-02, 9.46186265e-01],\n",
       "       [9.09569942e-14, 8.98961851e-03, 9.91010381e-01],\n",
       "       [5.29128026e-25, 6.55683335e-04, 9.99344317e-01],\n",
       "       [1.80019523e-07, 8.40626637e-01, 1.59373182e-01],\n",
       "       [1.99989234e-14, 1.00909855e-02, 9.89909014e-01],\n",
       "       [5.57585158e-19, 1.38409517e-03, 9.98615905e-01],\n",
       "       [4.79624057e-43, 1.25675589e-06, 9.99998743e-01],\n",
       "       [3.47453226e-11, 1.33600124e-01, 8.66399876e-01],\n",
       "       [3.85386737e-16, 9.13153837e-03, 9.90868462e-01],\n",
       "       [2.63908927e-08, 6.23781977e-02, 9.37621776e-01],\n",
       "       [1.57527582e-11, 4.53909936e-02, 9.54609006e-01],\n",
       "       [8.77316312e-14, 1.70089825e-02, 9.82991017e-01],\n",
       "       [4.22727529e-05, 6.45283348e-01, 3.54674380e-01],\n",
       "       [6.97606473e-17, 3.59859990e-03, 9.96401400e-01],\n",
       "       [4.44954777e-12, 2.11324581e-02, 9.78867542e-01],\n",
       "       [7.33746608e-26, 1.77732078e-04, 9.99822268e-01],\n",
       "       [1.42029830e-15, 4.45907804e-03, 9.95540922e-01],\n",
       "       [1.42643663e-32, 2.09558940e-05, 9.99979044e-01],\n",
       "       [2.68999927e-29, 5.33481018e-05, 9.99946652e-01],\n",
       "       [4.16029058e-23, 5.53149501e-04, 9.99446850e-01],\n",
       "       [2.82222080e-23, 8.39461650e-03, 9.91605384e-01],\n",
       "       [1.36040125e-19, 1.22088533e-03, 9.98779115e-01],\n",
       "       [1.43546224e-36, 6.25421806e-06, 9.99993746e-01],\n",
       "       [8.92289722e-13, 1.16577092e-02, 9.88342291e-01],\n",
       "       [9.31127496e-31, 6.26428365e-05, 9.99937357e-01],\n",
       "       [9.52279461e-08, 1.18304342e-01, 8.81695563e-01],\n",
       "       [2.86758676e-28, 7.03706410e-05, 9.99929629e-01],\n",
       "       [7.63810623e-19, 1.36440765e-03, 9.98635592e-01],\n",
       "       [1.11825662e-10, 2.85494631e-02, 9.71450537e-01],\n",
       "       [1.17234068e-04, 5.29695491e-01, 4.70187275e-01],\n",
       "       [1.06130736e-16, 8.81554408e-03, 9.91184456e-01]])"
      ]
     },
     "execution_count": 439,
     "metadata": {},
     "output_type": "execute_result"
    }
   ],
   "source": [
    "ric"
   ]
  },
  {
   "cell_type": "code",
   "execution_count": 443,
   "metadata": {},
   "outputs": [
    {
     "data": {
      "text/plain": [
       "1"
      ]
     },
     "execution_count": 443,
     "metadata": {},
     "output_type": "execute_result"
    }
   ],
   "source": [
    "np.argmax(ric[0])"
   ]
  },
  {
   "cell_type": "code",
   "execution_count": 445,
   "metadata": {},
   "outputs": [
    {
     "data": {
      "text/plain": [
       "[[[5.730569717, 3.146865381],\n",
       "  [4.371596477, 4.600689623],\n",
       "  [3.485988104, 5.436480626],\n",
       "  [6.613567952, 4.269563509],\n",
       "  [6.039303337, 4.14499667],\n",
       "  [5.989625741, 4.648855334],\n",
       "  [6.186645661, 8.595480962],\n",
       "  [6.748367662, 4.576277497],\n",
       "  [6.716238425, 4.243822227],\n",
       "  [5.058353716, 6.7328904],\n",
       "  [4.22010943, 4.155101237],\n",
       "  [7.144034224, 5.614086814],\n",
       "  [4.022441045, 4.350050329],\n",
       "  [6.807063521, 5.517710153],\n",
       "  [6.465317971, 5.39940756],\n",
       "  [4.522996541, 6.861180403],\n",
       "  [5.535308292, 3.729993007],\n",
       "  [9.24625283, 5.798154028],\n",
       "  [3.899209735, 4.824121253],\n",
       "  [4.805286947, 3.9602504],\n",
       "  [5.926616878, 5.506714092],\n",
       "  [6.846049468, 6.259771187],\n",
       "  [7.807198154, 3.926138031],\n",
       "  [5.21105679, 5.551104793],\n",
       "  [2.855650295, 7.957486741],\n",
       "  [5.422837908, 4.115748421],\n",
       "  [7.421854319, 6.588704854],\n",
       "  [5.671382288, 7.158125544],\n",
       "  [7.6139873, 3.886738434],\n",
       "  [5.69945536, 3.433902874],\n",
       "  [3.808989639, 5.119568133],\n",
       "  [-1.014080969, 0.38579499],\n",
       "  [0.035720735, -0.799697919],\n",
       "  [0.362326849, -2.019124527],\n",
       "  [-2.066633814, -0.922130196],\n",
       "  [0.022152636, -2.65809723],\n",
       "  [-0.888304367, -1.486277456],\n",
       "  [-0.085368179, -2.169919876],\n",
       "  [0.001141395, -1.090044699],\n",
       "  [-2.033841104, -1.36037659],\n",
       "  [0.838971758, -1.291265274],\n",
       "  [-0.709719127, -1.57060131],\n",
       "  [-0.441998312, -0.251001766],\n",
       "  [-1.292451675, -1.902457742],\n",
       "  [0.271009047, -0.25944316],\n",
       "  [-2.013485131, -0.813921938],\n",
       "  [-0.747712984, -0.42340055],\n",
       "  [-0.476414674, -0.660342733],\n",
       "  [-2.461629635, -1.6728271],\n",
       "  [0.866405597, -1.537013685],\n",
       "  [0.224019127, -1.026053949],\n",
       "  [-0.674825989, -1.656999196],\n",
       "  [-1.428913044, -0.322254384],\n",
       "  [-0.988403911, -1.510834134],\n",
       "  [-0.268681527, -0.553995371],\n",
       "  [-0.07184042, -0.062243723],\n",
       "  [-0.302683237, -1.16016268],\n",
       "  [-1.045150343, -1.11383812],\n",
       "  [-1.628762958, -1.170798806],\n",
       "  [-1.856613207, -0.698831465],\n",
       "  [-1.38871274, -0.674011314],\n",
       "  [0.02850845, -0.075163335],\n",
       "  [-1.239720321, -0.78470877],\n",
       "  [-1.451622767, -0.633750694],\n",
       "  [-1.979267221, -0.677849094],\n",
       "  [-0.977879107, -0.123931134],\n",
       "  [0.040239494, -1.876490013],\n",
       "  [0.231484088, -2.217446994],\n",
       "  [-0.439820579, -2.614839707],\n",
       "  [-1.367604084, -1.818925757],\n",
       "  [-0.634366635, -0.007864425],\n",
       "  [-0.0625613, -0.466182212],\n",
       "  [-0.025756298, -2.526727116],\n",
       "  [-1.046464742, -0.44770405],\n",
       "  [-1.471249024, -0.657355514],\n",
       "  [0.735227438, -0.820438514],\n",
       "  [-1.777530134, -2.019318258],\n",
       "  [-0.822972897, -0.862876698],\n",
       "  [-1.124477539, -2.521052262],\n",
       "  [-1.415554856, -1.018918453],\n",
       "  [-0.120541736, -0.836753322],\n",
       "  [-0.433871895, -1.721150679],\n",
       "  [-0.624083008, -0.589396641],\n",
       "  [-1.276953828, -2.212631093],\n",
       "  [-0.649901474, -1.573744692],\n",
       "  [-1.291307157, -0.894607808]],\n",
       " [[-1.861331241, -2.991682765],\n",
       "  [-2.17009237, -3.292317782],\n",
       "  [-1.014080969, 0.38579499],\n",
       "  [-2.912942536, -2.579539167],\n",
       "  [0.035720735, -0.799697919],\n",
       "  [-0.557616974, 1.844299967],\n",
       "  [0.362326849, -2.019124527],\n",
       "  [-0.354004402, 0.650573081],\n",
       "  [-2.088136684, 2.278844396],\n",
       "  [-2.066633814, -0.922130196],\n",
       "  [0.022152636, -2.65809723],\n",
       "  [0.647043958, -0.175000364],\n",
       "  [-0.888304367, -1.486277456],\n",
       "  [1.202686553, 0.144061369],\n",
       "  [-4.260793979, -0.863383567],\n",
       "  [-2.407681997, 1.558656361],\n",
       "  [-0.657288731, 2.296608052],\n",
       "  [-0.085368179, -2.169919876],\n",
       "  [-2.911126633, -2.5869221],\n",
       "  [-2.032565311, 3.853479975],\n",
       "  [-0.173295647, 0.466503496],\n",
       "  [0.001141395, -1.090044699],\n",
       "  [0.238936033, 2.065624994],\n",
       "  [-0.698691938, 0.75427311],\n",
       "  [-2.033841104, -1.36037659],\n",
       "  [0.45610562, -3.530784753],\n",
       "  [2.213142571, -1.927135447],\n",
       "  [0.838971758, -1.291265274],\n",
       "  [-1.391116494, 0.905055556],\n",
       "  [0.269569161, 1.228996444],\n",
       "  [-0.709719127, -1.57060131],\n",
       "  [-1.340933861, 1.656352386],\n",
       "  [-0.441998312, -0.251001766],\n",
       "  [-1.292451675, -1.902457742],\n",
       "  [-1.6903992, 1.784079993],\n",
       "  [0.271009047, -0.25944316],\n",
       "  [-2.013485131, -0.813921938],\n",
       "  [-0.747712984, -0.42340055],\n",
       "  [-0.476414674, -0.660342733],\n",
       "  [-2.461629635, -1.6728271],\n",
       "  [0.866405597, -1.537013685],\n",
       "  [-3.149052031, -2.040157753],\n",
       "  [-2.635236659, -0.002715675],\n",
       "  [0.224019127, -1.026053949],\n",
       "  [-0.674825989, -1.656999196],\n",
       "  [-1.428913044, -0.322254384],\n",
       "  [-0.988403911, -1.510834134],\n",
       "  [-0.268681527, -0.553995371],\n",
       "  [-1.868022763, 0.51663461],\n",
       "  [-0.07184042, -0.062243723],\n",
       "  [-0.302683237, -1.16016268],\n",
       "  [-1.045150343, -1.11383812],\n",
       "  [-0.808788859, 0.937126165],\n",
       "  [-1.628762958, -1.170798806],\n",
       "  [-1.856613207, -0.698831465],\n",
       "  [-1.38871274, -0.674011314],\n",
       "  [0.02850845, -0.075163335],\n",
       "  [-1.239720321, -0.78470877],\n",
       "  [-1.451622767, -0.633750694],\n",
       "  [-1.979267221, -0.677849094],\n",
       "  [-2.133447286, 1.6890035],\n",
       "  [-0.977879107, -0.123931134],\n",
       "  [0.040239494, -1.876490013],\n",
       "  [0.231484088, -2.217446994],\n",
       "  [-0.439820579, -2.614839707],\n",
       "  [-1.30903867, 0.840080492],\n",
       "  [-1.367604084, -1.818925757],\n",
       "  [-0.634366635, -0.007864425],\n",
       "  [-0.0625613, -0.466182212],\n",
       "  [-0.025756298, -2.526727116],\n",
       "  [-3.118923984, 1.022859185],\n",
       "  [-1.046464742, -0.44770405],\n",
       "  [-1.966780905, 0.820142408],\n",
       "  [-1.471249024, -0.657355514],\n",
       "  [0.735227438, -0.820438514],\n",
       "  [-1.777530134, -2.019318258],\n",
       "  [-2.68379741, -0.962400535],\n",
       "  [-0.822972897, -0.862876698],\n",
       "  [-1.124477539, -2.521052262],\n",
       "  [-1.415554856, -1.018918453],\n",
       "  [-0.120541736, -0.836753322],\n",
       "  [-0.433871895, -1.721150679],\n",
       "  [-0.624083008, -0.589396641],\n",
       "  [-1.276953828, -2.212631093],\n",
       "  [-0.649901474, -1.573744692],\n",
       "  [-1.291307157, -0.894607808],\n",
       "  [-1.861331241, -2.991682765],\n",
       "  [-2.17009237, -3.292317782],\n",
       "  [-2.912942536, -2.579539167],\n",
       "  [-0.557616974, 1.844299967],\n",
       "  [1.108422549, 3.089071693],\n",
       "  [-0.354004402, 0.650573081],\n",
       "  [0.655103152, 2.504877515],\n",
       "  [-2.088136684, 2.278844396],\n",
       "  [2.503931156, -0.823421912],\n",
       "  [0.647043958, -0.175000364],\n",
       "  [1.945385949, 0.710891971],\n",
       "  [1.202686553, 0.144061369],\n",
       "  [-4.260793979, -0.863383567],\n",
       "  [-2.407681997, 1.558656361],\n",
       "  [-0.657288731, 2.296608052],\n",
       "  [2.065980497, -0.272244547],\n",
       "  [-2.911126633, -2.5869221],\n",
       "  [-2.032565311, 3.853479975],\n",
       "  [-0.173295647, 0.466503496],\n",
       "  [0.238936033, 2.065624994],\n",
       "  [-0.698691938, 0.75427311],\n",
       "  [0.45610562, -3.530784753],\n",
       "  [2.213142571, -1.927135447],\n",
       "  [-1.391116494, 0.905055556],\n",
       "  [0.269569161, 1.228996444],\n",
       "  [-1.340933861, 1.656352386],\n",
       "  [-1.6903992, 1.784079993],\n",
       "  [-3.149052031, -2.040157753],\n",
       "  [-2.635236659, -0.002715675],\n",
       "  [-1.868022763, 0.51663461],\n",
       "  [-0.808788859, 0.937126165],\n",
       "  [-2.133447286, 1.6890035],\n",
       "  [-1.30903867, 0.840080492],\n",
       "  [-3.118923984, 1.022859185],\n",
       "  [-1.966780905, 0.820142408],\n",
       "  [-2.68379741, -0.962400535],\n",
       "  [0.768168376, 4.407158109],\n",
       "  [1.667111769, 2.510388945],\n",
       "  [2.100505144, 1.734405305]],\n",
       " [[2.483509421, 1.550806091],\n",
       "  [1.108422549, 3.089071693],\n",
       "  [2.709714097, 1.713412757],\n",
       "  [0.655103152, 2.504877515],\n",
       "  [5.517977144, 0.440317168],\n",
       "  [2.563056623, 1.630393367],\n",
       "  [2.503931156, -0.823421912],\n",
       "  [1.945385949, 0.710891971],\n",
       "  [3.957251541, -0.712806721],\n",
       "  [2.671969068, 1.632649153],\n",
       "  [2.065980497, -0.272244547],\n",
       "  [4.970915839, 1.310183455],\n",
       "  [2.727212888, 0.218510668],\n",
       "  [3.02574413, 1.334834017],\n",
       "  [3.951942892, 2.22086267],\n",
       "  [4.808337705, 2.834357979],\n",
       "  [2.925245443, 3.380115652],\n",
       "  [4.141706131, 1.222944183],\n",
       "  [4.641781214, -0.091193854],\n",
       "  [4.73015313, 2.784619761],\n",
       "  [0.768168376, 4.407158109],\n",
       "  [4.259855126, 3.737156474],\n",
       "  [2.466653985, 4.572414717],\n",
       "  [4.332341441, 0.379144641],\n",
       "  [3.367927409, 3.698562852],\n",
       "  [3.832990752, 4.033234891],\n",
       "  [1.667111769, 2.510388945],\n",
       "  [4.101915277, 2.956755898],\n",
       "  [5.099433384, 3.01132382],\n",
       "  [4.834635336, 2.142437441],\n",
       "  [3.326294053, 1.906939311],\n",
       "  [4.268829876, 2.0096126],\n",
       "  [2.100505144, 1.734405305],\n",
       "  [2.483509421, 1.550806091],\n",
       "  [2.709714097, 1.713412757],\n",
       "  [5.517977144, 0.440317168],\n",
       "  [2.563056623, 1.630393367],\n",
       "  [3.957251541, -0.712806721],\n",
       "  [2.671969068, 1.632649153],\n",
       "  [4.970915839, 1.310183455],\n",
       "  [2.727212888, 0.218510668],\n",
       "  [3.02574413, 1.334834017],\n",
       "  [3.951942892, 2.22086267],\n",
       "  [5.730569717, 3.146865381],\n",
       "  [4.371596477, 4.600689623],\n",
       "  [3.485988104, 5.436480626],\n",
       "  [6.613567952, 4.269563509],\n",
       "  [6.039303337, 4.14499667],\n",
       "  [5.989625741, 4.648855334],\n",
       "  [6.186645661, 8.595480962],\n",
       "  [6.748367662, 4.576277497],\n",
       "  [6.716238425, 4.243822227],\n",
       "  [5.058353716, 6.7328904],\n",
       "  [4.22010943, 4.155101237],\n",
       "  [4.808337705, 2.834357979],\n",
       "  [7.144034224, 5.614086814],\n",
       "  [2.925245443, 3.380115652],\n",
       "  [4.022441045, 4.350050329],\n",
       "  [6.807063521, 5.517710153],\n",
       "  [6.465317971, 5.39940756],\n",
       "  [4.141706131, 1.222944183],\n",
       "  [4.641781214, -0.091193854],\n",
       "  [4.73015313, 2.784619761],\n",
       "  [4.522996541, 6.861180403],\n",
       "  [4.259855126, 3.737156474],\n",
       "  [5.535308292, 3.729993007],\n",
       "  [9.24625283, 5.798154028],\n",
       "  [2.466653985, 4.572414717],\n",
       "  [3.899209735, 4.824121253],\n",
       "  [4.332341441, 0.379144641],\n",
       "  [3.367927409, 3.698562852],\n",
       "  [3.832990752, 4.033234891],\n",
       "  [4.805286947, 3.9602504],\n",
       "  [4.101915277, 2.956755898],\n",
       "  [5.926616878, 5.506714092],\n",
       "  [5.099433384, 3.01132382],\n",
       "  [6.846049468, 6.259771187],\n",
       "  [7.807198154, 3.926138031],\n",
       "  [5.21105679, 5.551104793],\n",
       "  [2.855650295, 7.957486741],\n",
       "  [5.422837908, 4.115748421],\n",
       "  [7.421854319, 6.588704854],\n",
       "  [4.834635336, 2.142437441],\n",
       "  [5.671382288, 7.158125544],\n",
       "  [3.326294053, 1.906939311],\n",
       "  [7.6139873, 3.886738434],\n",
       "  [5.69945536, 3.433902874],\n",
       "  [4.268829876, 2.0096126],\n",
       "  [3.808989639, 5.119568133]]]"
      ]
     },
     "execution_count": 445,
     "metadata": {},
     "output_type": "execute_result"
    }
   ],
   "source": [
    "for idx in range(len(ric)):\n",
    "    c_idx = np.argmax(ric[idx])\n",
    "    cluster[c_idx].append(data[idx])\n",
    "cluster"
   ]
  },
  {
   "cell_type": "code",
   "execution_count": 410,
   "metadata": {},
   "outputs": [],
   "source": [
    "if np.any(diff < -10000):\n",
    "    print('OMG')"
   ]
  },
  {
   "cell_type": "code",
   "execution_count": 421,
   "metadata": {},
   "outputs": [
    {
     "data": {
      "text/plain": [
       "array([[ 0.36215665,  0.32028836, -0.68244501],\n",
       "       [ 0.36651778,  0.31766105, -0.68417883],\n",
       "       [ 0.11878862, -0.3073952 ,  0.18860658],\n",
       "       [ 0.34642404,  0.29458832, -0.64101236],\n",
       "       [ 0.21888167,  0.12130981, -0.34019147],\n",
       "       [-0.02821964,  0.03530354, -0.0070839 ],\n",
       "       [-0.25452308, -0.02797475,  0.28249783],\n",
       "       [-0.31510255,  0.24410575,  0.0709968 ],\n",
       "       [ 0.30200132,  0.31039705, -0.61239837],\n",
       "       [-0.02572074,  0.04516533, -0.0194446 ],\n",
       "       [ 0.0623814 , -0.19799628,  0.13561488],\n",
       "       [-0.30182351,  0.14926703,  0.15255648],\n",
       "       [-0.49407814,  0.11906138,  0.37501675],\n",
       "       [-0.02708383,  0.04079018, -0.01370636],\n",
       "       [-0.51069331,  0.12018686,  0.39050645],\n",
       "       [-0.26661443,  0.19707109,  0.06954335],\n",
       "       [ 0.27641988, -0.25530095, -0.02111893],\n",
       "       [ 0.34534223,  0.32212934, -0.66747157],\n",
       "       [ 0.11869157,  0.03033129, -0.14902286],\n",
       "       [-0.01849409,  0.01147157,  0.00702252],\n",
       "       [ 0.31041839,  0.22840279, -0.53882117],\n",
       "       [ 0.0526595 ,  0.0221306 , -0.0747901 ],\n",
       "       [-0.57681384,  0.24661811,  0.33019573],\n",
       "       [ 0.27875209, -0.66202806,  0.38327598],\n",
       "       [-0.1877657 , -0.19513554,  0.38290124],\n",
       "       [-0.02876321,  0.03837132, -0.00960811],\n",
       "       [-0.42382714,  0.1060878 ,  0.31773934],\n",
       "       [ 0.33054459,  0.3162896 , -0.64683419],\n",
       "       [-0.08434787,  0.10537256, -0.02102469],\n",
       "       [-0.22026149, -0.07905034,  0.29931183],\n",
       "       [ 0.34661684,  0.29537931, -0.64199616],\n",
       "       [-0.73765723,  0.30597462,  0.43168261],\n",
       "       [ 0.08722574, -0.16309768,  0.07587193],\n",
       "       [ 0.24973279,  0.19030052, -0.4400333 ],\n",
       "       [-0.2479179 ,  0.05112532,  0.19679258],\n",
       "       [ 0.04837415, -0.24883049,  0.20045633],\n",
       "       [-0.16288889,  0.05841332,  0.10447557],\n",
       "       [ 0.30582439,  0.00360367, -0.30942806],\n",
       "       [ 0.35520006,  0.31268889, -0.66788895],\n",
       "       [-0.23137255,  0.29548261, -0.06411006],\n",
       "       [ 0.1902993 ,  0.2449832 , -0.4352825 ],\n",
       "       [ 0.02869255, -0.32521061,  0.29651806],\n",
       "       [-0.03807473, -0.0883935 ,  0.12646823],\n",
       "       [ 0.31332485,  0.25495164, -0.56827649],\n",
       "       [-0.22015723, -0.11523585,  0.33539308],\n",
       "       [-0.06464161,  0.00694768,  0.05769393],\n",
       "       [ 0.18151769, -0.09580859, -0.0857091 ],\n",
       "       [ 0.33544837,  0.28240668, -0.61785505],\n",
       "       [-0.28317627, -0.07617105,  0.35934732],\n",
       "       [ 0.15140813,  0.01101754, -0.16242566],\n",
       "       [ 0.26832087, -0.2896724 ,  0.02135153],\n",
       "       [ 0.20926707, -0.10655851, -0.10270856],\n",
       "       [ 0.22648443,  0.02128849, -0.24777292],\n",
       "       [ 0.32075554,  0.06753408, -0.38828962],\n",
       "       [ 0.2088692 ,  0.27442914, -0.48329834],\n",
       "       [ 0.32839595,  0.09581342, -0.42420937],\n",
       "       [ 0.22157912, -0.5536501 ,  0.33207098],\n",
       "       [ 0.22944367,  0.1866794 , -0.41612307],\n",
       "       [ 0.31807414,  0.27016238, -0.58823652],\n",
       "       [ 0.21609131, -0.2994712 ,  0.08337989],\n",
       "       [ 0.31320015,  0.22723969, -0.54043984],\n",
       "       [ 0.20785185,  0.01868675, -0.2265386 ],\n",
       "       [ 0.12668261, -0.43567193,  0.30898932],\n",
       "       [ 0.14774357, -0.07607079, -0.07167278],\n",
       "       [ 0.27024761,  0.18924955, -0.45949717],\n",
       "       [ 0.28342771,  0.09660829, -0.38003601],\n",
       "       [ 0.01116713, -0.24806607,  0.23689895],\n",
       "       [ 0.29246657,  0.00647793, -0.29894449],\n",
       "       [ 0.25763514, -0.29124207,  0.03360692],\n",
       "       [ 0.2480415 , -0.16826584, -0.07977566],\n",
       "       [ 0.14507905, -0.05844392, -0.08663513],\n",
       "       [ 0.25595863, -0.08232217, -0.17363647],\n",
       "       [ 0.24546663, -0.20183728, -0.04362936],\n",
       "       [ 0.25805765, -0.33496354,  0.07690589],\n",
       "       [-0.24832187, -0.12737264,  0.37569452],\n",
       "       [ 0.18304475, -0.23923582,  0.05619107],\n",
       "       [ 0.31066831,  0.30279097, -0.61345928],\n",
       "       [ 0.32070376,  0.31724188, -0.63794564],\n",
       "       [ 0.35203297,  0.32270173, -0.67473469],\n",
       "       [ 0.04215915, -0.32559303,  0.28343387],\n",
       "       [ 0.33202343,  0.26651004, -0.59853346],\n",
       "       [ 0.15985182, -0.18884018,  0.02898836],\n",
       "       [ 0.18973761,  0.02148919, -0.21122681],\n",
       "       [ 0.34243554,  0.32196242, -0.66439796],\n",
       "       [ 0.04877708, -0.44447009,  0.39569302],\n",
       "       [ 0.21924527, -0.16603321, -0.05321205],\n",
       "       [ 0.06737907, -0.40289286,  0.33551379],\n",
       "       [ 0.24791984, -0.19766443, -0.05025541],\n",
       "       [ 0.16197542,  0.16338637, -0.32536179],\n",
       "       [ 0.33936587,  0.27764775, -0.61701362],\n",
       "       [ 0.28384988, -0.42980681,  0.14595692],\n",
       "       [ 0.25631754,  0.0366012 , -0.29291873],\n",
       "       [ 0.35383554,  0.32097158, -0.67480712],\n",
       "       [ 0.27896025, -0.01716111, -0.26179915],\n",
       "       [ 0.23079733,  0.11793399, -0.34873132],\n",
       "       [ 0.31702714,  0.28456221, -0.60158935],\n",
       "       [ 0.22345746, -0.02722076, -0.1962367 ],\n",
       "       [ 0.34613366,  0.31030137, -0.65643504],\n",
       "       [ 0.31247151,  0.25796311, -0.57043462],\n",
       "       [ 0.26677706, -0.04570936, -0.2210677 ],\n",
       "       [ 0.00153819,  0.03253461, -0.0340728 ],\n",
       "       [ 0.14178734, -0.00829446, -0.13349288],\n",
       "       [ 0.32706763,  0.32845871, -0.65552635],\n",
       "       [ 0.33126147,  0.32583654, -0.65709801],\n",
       "       [ 0.30840359,  0.25926551, -0.5676691 ],\n",
       "       [ 0.30644584,  0.27880396, -0.5852498 ],\n",
       "       [ 0.33414597,  0.31588607, -0.65003204],\n",
       "       [ 0.39842576,  0.27757744, -0.6760032 ],\n",
       "       [ 0.32491703,  0.29388733, -0.61880436],\n",
       "       [ 0.30443697,  0.24346251, -0.54789949],\n",
       "       [ 0.3668699 ,  0.30836878, -0.67523868],\n",
       "       [ 0.29894659,  0.32237647, -0.62132306],\n",
       "       [ 0.09707253,  0.06451148, -0.16158401],\n",
       "       [ 0.34717121,  0.30875547, -0.65592669],\n",
       "       [ 0.11626351,  0.2802443 , -0.39650781],\n",
       "       [ 0.30635548,  0.32764723, -0.63400271],\n",
       "       [ 0.34810484,  0.31198528, -0.66009012],\n",
       "       [ 0.34827315,  0.31514489, -0.66341804],\n",
       "       [-0.17619305, -0.04015512,  0.21634816],\n",
       "       [-0.54029432,  0.18902063,  0.35127369],\n",
       "       [ 0.08818624,  0.06200419, -0.15019043],\n",
       "       [ 0.36442595,  0.30757025, -0.6719962 ],\n",
       "       [-0.55864108,  0.32395093,  0.23469015],\n",
       "       [ 0.25933446,  0.29806992, -0.55740437],\n",
       "       [ 0.26460885,  0.23744448, -0.50205333],\n",
       "       [ 0.32224984,  0.2792371 , -0.60148693],\n",
       "       [ 0.1571962 ,  0.32945562, -0.48665181],\n",
       "       [ 0.32542574,  0.3298343 , -0.65526004],\n",
       "       [-0.39425285,  0.08429884,  0.30995401],\n",
       "       [ 0.20595652,  0.30560515, -0.51156167],\n",
       "       [ 0.27447565,  0.32069649, -0.59517214],\n",
       "       [-0.11387733,  0.16071012, -0.0468328 ],\n",
       "       [ 0.29324239,  0.30497362, -0.59821601],\n",
       "       [ 0.12870633,  0.17802658, -0.30673291],\n",
       "       [ 0.35229176,  0.31793631, -0.67022806],\n",
       "       [ 0.12921382,  0.07278329, -0.20199711],\n",
       "       [ 0.36056496,  0.30599186, -0.66655682],\n",
       "       [ 0.24199505, -0.2940003 ,  0.05200524],\n",
       "       [ 0.35335902,  0.32098585, -0.67434487],\n",
       "       [ 0.34394075,  0.28740913, -0.63134987],\n",
       "       [ 0.30848666,  0.30136689, -0.60985356],\n",
       "       [ 0.36310599,  0.29892572, -0.6620317 ],\n",
       "       [-0.04358184, -0.09222953,  0.13581137],\n",
       "       [ 0.37489334,  0.30103699, -0.67593033],\n",
       "       [-0.0230107 ,  0.03821497, -0.01520426],\n",
       "       [ 0.23898435, -0.23540251, -0.00358184],\n",
       "       [ 0.20700719,  0.12080937, -0.32781656],\n",
       "       [-0.04450712, -0.03442257,  0.07892969],\n",
       "       [-0.02920135,  0.05553129, -0.02632994],\n",
       "       [ 0.33245224,  0.32836126, -0.6608135 ]])"
      ]
     },
     "execution_count": 421,
     "metadata": {},
     "output_type": "execute_result"
    }
   ],
   "source": [
    "diff = 0\n",
    "diff\n",
    "diff = new_ric - ric\n",
    "diff"
   ]
  },
  {
   "cell_type": "code",
   "execution_count": 416,
   "metadata": {},
   "outputs": [
    {
     "data": {
      "text/plain": [
       "array([[ 0.36215665,  0.32028836, -0.68244501],\n",
       "       [ 0.36651778,  0.31766105, -0.68417883],\n",
       "       [ 0.11878862, -0.3073952 ,  0.18860658],\n",
       "       [ 0.34642404,  0.29458832, -0.64101236],\n",
       "       [ 0.21888167,  0.12130981, -0.34019147],\n",
       "       [-0.02821964,  0.03530354, -0.0070839 ],\n",
       "       [-0.25452308, -0.02797475,  0.28249783],\n",
       "       [-0.31510255,  0.24410575,  0.0709968 ],\n",
       "       [ 0.30200132,  0.31039705, -0.61239837],\n",
       "       [-0.02572074,  0.04516533, -0.0194446 ],\n",
       "       [ 0.0623814 , -0.19799628,  0.13561488],\n",
       "       [-0.30182351,  0.14926703,  0.15255648],\n",
       "       [-0.49407814,  0.11906138,  0.37501675],\n",
       "       [-0.02708383,  0.04079018, -0.01370636],\n",
       "       [-0.51069331,  0.12018686,  0.39050645],\n",
       "       [-0.26661443,  0.19707109,  0.06954335],\n",
       "       [ 0.27641988, -0.25530095, -0.02111893],\n",
       "       [ 0.34534223,  0.32212934, -0.66747157],\n",
       "       [ 0.11869157,  0.03033129, -0.14902286],\n",
       "       [-0.01849409,  0.01147157,  0.00702252],\n",
       "       [ 0.31041839,  0.22840279, -0.53882117],\n",
       "       [ 0.0526595 ,  0.0221306 , -0.0747901 ],\n",
       "       [-0.57681384,  0.24661811,  0.33019573],\n",
       "       [ 0.27875209, -0.66202806,  0.38327598],\n",
       "       [-0.1877657 , -0.19513554,  0.38290124],\n",
       "       [-0.02876321,  0.03837132, -0.00960811],\n",
       "       [-0.42382714,  0.1060878 ,  0.31773934],\n",
       "       [ 0.33054459,  0.3162896 , -0.64683419],\n",
       "       [-0.08434787,  0.10537256, -0.02102469],\n",
       "       [-0.22026149, -0.07905034,  0.29931183],\n",
       "       [ 0.34661684,  0.29537931, -0.64199616],\n",
       "       [-0.73765723,  0.30597462,  0.43168261],\n",
       "       [ 0.08722574, -0.16309768,  0.07587193],\n",
       "       [ 0.24973279,  0.19030052, -0.4400333 ],\n",
       "       [-0.2479179 ,  0.05112532,  0.19679258],\n",
       "       [ 0.04837415, -0.24883049,  0.20045633],\n",
       "       [-0.16288889,  0.05841332,  0.10447557],\n",
       "       [ 0.30582439,  0.00360367, -0.30942806],\n",
       "       [ 0.35520006,  0.31268889, -0.66788895],\n",
       "       [-0.23137255,  0.29548261, -0.06411006],\n",
       "       [ 0.1902993 ,  0.2449832 , -0.4352825 ],\n",
       "       [ 0.02869255, -0.32521061,  0.29651806],\n",
       "       [-0.03807473, -0.0883935 ,  0.12646823],\n",
       "       [ 0.31332485,  0.25495164, -0.56827649],\n",
       "       [-0.22015723, -0.11523585,  0.33539308],\n",
       "       [-0.06464161,  0.00694768,  0.05769393],\n",
       "       [ 0.18151769, -0.09580859, -0.0857091 ],\n",
       "       [ 0.33544837,  0.28240668, -0.61785505],\n",
       "       [-0.28317627, -0.07617105,  0.35934732],\n",
       "       [ 0.15140813,  0.01101754, -0.16242566],\n",
       "       [ 0.26832087, -0.2896724 ,  0.02135153],\n",
       "       [ 0.20926707, -0.10655851, -0.10270856],\n",
       "       [ 0.22648443,  0.02128849, -0.24777292],\n",
       "       [ 0.32075554,  0.06753408, -0.38828962],\n",
       "       [ 0.2088692 ,  0.27442914, -0.48329834],\n",
       "       [ 0.32839595,  0.09581342, -0.42420937],\n",
       "       [ 0.22157912, -0.5536501 ,  0.33207098],\n",
       "       [ 0.22944367,  0.1866794 , -0.41612307],\n",
       "       [ 0.31807414,  0.27016238, -0.58823652],\n",
       "       [ 0.21609131, -0.2994712 ,  0.08337989],\n",
       "       [ 0.31320015,  0.22723969, -0.54043984],\n",
       "       [ 0.20785185,  0.01868675, -0.2265386 ],\n",
       "       [ 0.12668261, -0.43567193,  0.30898932],\n",
       "       [ 0.14774357, -0.07607079, -0.07167278],\n",
       "       [ 0.27024761,  0.18924955, -0.45949717],\n",
       "       [ 0.28342771,  0.09660829, -0.38003601],\n",
       "       [ 0.01116713, -0.24806607,  0.23689895],\n",
       "       [ 0.29246657,  0.00647793, -0.29894449],\n",
       "       [ 0.25763514, -0.29124207,  0.03360692],\n",
       "       [ 0.2480415 , -0.16826584, -0.07977566],\n",
       "       [ 0.14507905, -0.05844392, -0.08663513],\n",
       "       [ 0.25595863, -0.08232217, -0.17363647],\n",
       "       [ 0.24546663, -0.20183728, -0.04362936],\n",
       "       [ 0.25805765, -0.33496354,  0.07690589],\n",
       "       [-0.24832187, -0.12737264,  0.37569452],\n",
       "       [ 0.18304475, -0.23923582,  0.05619107],\n",
       "       [ 0.31066831,  0.30279097, -0.61345928],\n",
       "       [ 0.32070376,  0.31724188, -0.63794564],\n",
       "       [ 0.35203297,  0.32270173, -0.67473469],\n",
       "       [ 0.04215915, -0.32559303,  0.28343387],\n",
       "       [ 0.33202343,  0.26651004, -0.59853346],\n",
       "       [ 0.15985182, -0.18884018,  0.02898836],\n",
       "       [ 0.18973761,  0.02148919, -0.21122681],\n",
       "       [ 0.34243554,  0.32196242, -0.66439796],\n",
       "       [ 0.04877708, -0.44447009,  0.39569302],\n",
       "       [ 0.21924527, -0.16603321, -0.05321205],\n",
       "       [ 0.06737907, -0.40289286,  0.33551379],\n",
       "       [ 0.24791984, -0.19766443, -0.05025541],\n",
       "       [ 0.16197542,  0.16338637, -0.32536179],\n",
       "       [ 0.33936587,  0.27764775, -0.61701362],\n",
       "       [ 0.28384988, -0.42980681,  0.14595692],\n",
       "       [ 0.25631754,  0.0366012 , -0.29291873],\n",
       "       [ 0.35383554,  0.32097158, -0.67480712],\n",
       "       [ 0.27896025, -0.01716111, -0.26179915],\n",
       "       [ 0.23079733,  0.11793399, -0.34873132],\n",
       "       [ 0.31702714,  0.28456221, -0.60158935],\n",
       "       [ 0.22345746, -0.02722076, -0.1962367 ],\n",
       "       [ 0.34613366,  0.31030137, -0.65643504],\n",
       "       [ 0.31247151,  0.25796311, -0.57043462],\n",
       "       [ 0.26677706, -0.04570936, -0.2210677 ],\n",
       "       [ 0.00153819,  0.03253461, -0.0340728 ],\n",
       "       [ 0.14178734, -0.00829446, -0.13349288],\n",
       "       [ 0.32706763,  0.32845871, -0.65552635],\n",
       "       [ 0.33126147,  0.32583654, -0.65709801],\n",
       "       [ 0.30840359,  0.25926551, -0.5676691 ],\n",
       "       [ 0.30644584,  0.27880396, -0.5852498 ],\n",
       "       [ 0.33414597,  0.31588607, -0.65003204],\n",
       "       [ 0.39842576,  0.27757744, -0.6760032 ],\n",
       "       [ 0.32491703,  0.29388733, -0.61880436],\n",
       "       [ 0.30443697,  0.24346251, -0.54789949],\n",
       "       [ 0.3668699 ,  0.30836878, -0.67523868],\n",
       "       [ 0.29894659,  0.32237647, -0.62132306],\n",
       "       [ 0.09707253,  0.06451148, -0.16158401],\n",
       "       [ 0.34717121,  0.30875547, -0.65592669],\n",
       "       [ 0.11626351,  0.2802443 , -0.39650781],\n",
       "       [ 0.30635548,  0.32764723, -0.63400271],\n",
       "       [ 0.34810484,  0.31198528, -0.66009012],\n",
       "       [ 0.34827315,  0.31514489, -0.66341804],\n",
       "       [-0.17619305, -0.04015512,  0.21634816],\n",
       "       [-0.54029432,  0.18902063,  0.35127369],\n",
       "       [ 0.08818624,  0.06200419, -0.15019043],\n",
       "       [ 0.36442595,  0.30757025, -0.6719962 ],\n",
       "       [-0.55864108,  0.32395093,  0.23469015],\n",
       "       [ 0.25933446,  0.29806992, -0.55740437],\n",
       "       [ 0.26460885,  0.23744448, -0.50205333],\n",
       "       [ 0.32224984,  0.2792371 , -0.60148693],\n",
       "       [ 0.1571962 ,  0.32945562, -0.48665181],\n",
       "       [ 0.32542574,  0.3298343 , -0.65526004],\n",
       "       [-0.39425285,  0.08429884,  0.30995401],\n",
       "       [ 0.20595652,  0.30560515, -0.51156167],\n",
       "       [ 0.27447565,  0.32069649, -0.59517214],\n",
       "       [-0.11387733,  0.16071012, -0.0468328 ],\n",
       "       [ 0.29324239,  0.30497362, -0.59821601],\n",
       "       [ 0.12870633,  0.17802658, -0.30673291],\n",
       "       [ 0.35229176,  0.31793631, -0.67022806],\n",
       "       [ 0.12921382,  0.07278329, -0.20199711],\n",
       "       [ 0.36056496,  0.30599186, -0.66655682],\n",
       "       [ 0.24199505, -0.2940003 ,  0.05200524],\n",
       "       [ 0.35335902,  0.32098585, -0.67434487],\n",
       "       [ 0.34394075,  0.28740913, -0.63134987],\n",
       "       [ 0.30848666,  0.30136689, -0.60985356],\n",
       "       [ 0.36310599,  0.29892572, -0.6620317 ],\n",
       "       [-0.04358184, -0.09222953,  0.13581137],\n",
       "       [ 0.37489334,  0.30103699, -0.67593033],\n",
       "       [-0.0230107 ,  0.03821497, -0.01520426],\n",
       "       [ 0.23898435, -0.23540251, -0.00358184],\n",
       "       [ 0.20700719,  0.12080937, -0.32781656],\n",
       "       [-0.04450712, -0.03442257,  0.07892969],\n",
       "       [-0.02920135,  0.05553129, -0.02632994],\n",
       "       [ 0.33245224,  0.32836126, -0.6608135 ]])"
      ]
     },
     "execution_count": 416,
     "metadata": {},
     "output_type": "execute_result"
    }
   ],
   "source": [
    "new_ric - ric"
   ]
  },
  {
   "cell_type": "code",
   "execution_count": null,
   "metadata": {},
   "outputs": [],
   "source": []
  },
  {
   "cell_type": "code",
   "execution_count": 213,
   "metadata": {},
   "outputs": [
    {
     "name": "stdout",
     "output_type": "stream",
     "text": [
      "[4 2]      [1 4]\n"
     ]
    }
   ],
   "source": [
    "v1 = np.random.randint(low=1,high=11,size=2)\n",
    "v2 = np.random.randint(low=1,high=11,size=2)\n",
    "print(v1,'    ',v2)"
   ]
  },
  {
   "cell_type": "code",
   "execution_count": 260,
   "metadata": {},
   "outputs": [
    {
     "data": {
      "text/plain": [
       "array([11, 16])"
      ]
     },
     "execution_count": 260,
     "metadata": {},
     "output_type": "execute_result"
    }
   ],
   "source": [
    "a = (v1*2+v2*3)\n",
    "a"
   ]
  },
  {
   "cell_type": "code",
   "execution_count": 265,
   "metadata": {},
   "outputs": [],
   "source": [
    "a=a/ 2"
   ]
  },
  {
   "cell_type": "code",
   "execution_count": 262,
   "metadata": {},
   "outputs": [
    {
     "data": {
      "text/plain": [
       "array([11, 16])"
      ]
     },
     "execution_count": 262,
     "metadata": {},
     "output_type": "execute_result"
    }
   ],
   "source": [
    "a"
   ]
  },
  {
   "cell_type": "code",
   "execution_count": 272,
   "metadata": {},
   "outputs": [
    {
     "data": {
      "text/plain": [
       "(2,)"
      ]
     },
     "execution_count": 272,
     "metadata": {},
     "output_type": "execute_result"
    }
   ],
   "source": [
    "v1.shape"
   ]
  },
  {
   "cell_type": "code",
   "execution_count": 274,
   "metadata": {},
   "outputs": [
    {
     "data": {
      "text/plain": [
       "array([4, 8])"
      ]
     },
     "execution_count": 274,
     "metadata": {},
     "output_type": "execute_result"
    }
   ],
   "source": [
    "v1*v2.T"
   ]
  },
  {
   "cell_type": "code",
   "execution_count": 275,
   "metadata": {},
   "outputs": [
    {
     "data": {
      "text/plain": [
       "array([[ 4, 16],\n",
       "       [ 2,  8]])"
      ]
     },
     "execution_count": 275,
     "metadata": {},
     "output_type": "execute_result"
    }
   ],
   "source": [
    "np.outer(v1,v2)"
   ]
  },
  {
   "cell_type": "code",
   "execution_count": 276,
   "metadata": {},
   "outputs": [
    {
     "data": {
      "text/plain": [
       "array([[ 4,  2],\n",
       "       [16,  8]])"
      ]
     },
     "execution_count": 276,
     "metadata": {},
     "output_type": "execute_result"
    }
   ],
   "source": [
    "np.outer(v2,v1)"
   ]
  },
  {
   "cell_type": "code",
   "execution_count": null,
   "metadata": {},
   "outputs": [],
   "source": []
  },
  {
   "cell_type": "code",
   "execution_count": 287,
   "metadata": {},
   "outputs": [
    {
     "data": {
      "text/plain": [
       "array([[3., 0.],\n",
       "       [0., 3.]])"
      ]
     },
     "execution_count": 287,
     "metadata": {},
     "output_type": "execute_result"
    }
   ],
   "source": [
    "np.eye(2)*3"
   ]
  },
  {
   "cell_type": "code",
   "execution_count": 288,
   "metadata": {},
   "outputs": [
    {
     "data": {
      "text/plain": [
       "array([[2., 2.],\n",
       "       [2., 2.]])"
      ]
     },
     "execution_count": 288,
     "metadata": {},
     "output_type": "execute_result"
    }
   ],
   "source": [
    "np.ones((2, 2)) * 2"
   ]
  },
  {
   "cell_type": "code",
   "execution_count": 289,
   "metadata": {},
   "outputs": [
    {
     "data": {
      "text/plain": [
       "array([[6., 6.],\n",
       "       [6., 6.]])"
      ]
     },
     "execution_count": 289,
     "metadata": {},
     "output_type": "execute_result"
    }
   ],
   "source": [
    "a = np.eye(2)*3\n",
    "b = np.ones((2, 2)) * 2\n",
    "a.dot(b)"
   ]
  },
  {
   "cell_type": "code",
   "execution_count": 290,
   "metadata": {},
   "outputs": [
    {
     "data": {
      "text/plain": [
       "12"
      ]
     },
     "execution_count": 290,
     "metadata": {},
     "output_type": "execute_result"
    }
   ],
   "source": [
    "v1.dot(v2)"
   ]
  },
  {
   "cell_type": "code",
   "execution_count": 292,
   "metadata": {},
   "outputs": [
    {
     "data": {
      "text/plain": [
       "array([[3.54946054, 2.02175571],\n",
       "       [3.46929044, 1.86039494],\n",
       "       [3.88227695, 2.06618377]])"
      ]
     },
     "execution_count": 292,
     "metadata": {},
     "output_type": "execute_result"
    }
   ],
   "source": [
    "v1-new_mu"
   ]
  },
  {
   "cell_type": "code",
   "execution_count": 41,
   "metadata": {},
   "outputs": [
    {
     "data": {
      "text/plain": [
       "array([[8, 8],\n",
       "       [0, 2],\n",
       "       [2, 3],\n",
       "       [7, 3],\n",
       "       [6, 8],\n",
       "       [8, 0],\n",
       "       [5, 4],\n",
       "       [5, 2],\n",
       "       [4, 4],\n",
       "       [8, 5]])"
      ]
     },
     "execution_count": 41,
     "metadata": {},
     "output_type": "execute_result"
    }
   ],
   "source": [
    "# y= np.ones((10, 2)) * 3\n",
    "# y\n",
    "y = np.random.randint(10, size=(10, 2))\n",
    "y"
   ]
  },
  {
   "cell_type": "code",
   "execution_count": 42,
   "metadata": {},
   "outputs": [
    {
     "data": {
      "text/plain": [
       "array([[ 1],\n",
       "       [ 2],\n",
       "       [ 3],\n",
       "       [ 4],\n",
       "       [ 5],\n",
       "       [ 6],\n",
       "       [ 7],\n",
       "       [ 8],\n",
       "       [ 9],\n",
       "       [10]])"
      ]
     },
     "execution_count": 42,
     "metadata": {},
     "output_type": "execute_result"
    }
   ],
   "source": [
    "x = np.array([1,2,3,4,5,6,7,8,9,10]).reshape(-1,1)\n",
    "x"
   ]
  },
  {
   "cell_type": "code",
   "execution_count": 43,
   "metadata": {},
   "outputs": [
    {
     "data": {
      "text/plain": [
       "array([[8.        , 8.        ],\n",
       "       [0.        , 1.        ],\n",
       "       [0.66666667, 1.        ],\n",
       "       [1.75      , 0.75      ],\n",
       "       [1.2       , 1.6       ],\n",
       "       [1.33333333, 0.        ],\n",
       "       [0.71428571, 0.57142857],\n",
       "       [0.625     , 0.25      ],\n",
       "       [0.44444444, 0.44444444],\n",
       "       [0.8       , 0.5       ]])"
      ]
     },
     "execution_count": 43,
     "metadata": {},
     "output_type": "execute_result"
    }
   ],
   "source": [
    "y/x"
   ]
  },
  {
   "cell_type": "code",
   "execution_count": 45,
   "metadata": {},
   "outputs": [
    {
     "data": {
      "text/plain": [
       "array([1., 4.])"
      ]
     },
     "execution_count": 45,
     "metadata": {},
     "output_type": "execute_result"
    }
   ],
   "source": [
    "np.array([3,12])/3"
   ]
  },
  {
   "cell_type": "code",
   "execution_count": null,
   "metadata": {},
   "outputs": [],
   "source": []
  }
 ],
 "metadata": {
  "kernelspec": {
   "display_name": "Python 3",
   "language": "python",
   "name": "python3"
  },
  "language_info": {
   "codemirror_mode": {
    "name": "ipython",
    "version": 3
   },
   "file_extension": ".py",
   "mimetype": "text/x-python",
   "name": "python",
   "nbconvert_exporter": "python",
   "pygments_lexer": "ipython3",
   "version": "3.6.8"
  }
 },
 "nbformat": 4,
 "nbformat_minor": 2
}
